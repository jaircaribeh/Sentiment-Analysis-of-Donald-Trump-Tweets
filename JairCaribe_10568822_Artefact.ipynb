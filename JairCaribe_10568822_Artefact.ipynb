{
  "nbformat": 4,
  "nbformat_minor": 0,
  "metadata": {
    "colab": {
      "name": "Trump_v6.ipynb",
      "provenance": [],
      "collapsed_sections": []
    },
    "kernelspec": {
      "display_name": "Python 3 (ipykernel)",
      "language": "python",
      "name": "python3"
    },
    "language_info": {
      "codemirror_mode": {
        "name": "ipython",
        "version": 3
      },
      "file_extension": ".py",
      "mimetype": "text/x-python",
      "name": "python",
      "nbconvert_exporter": "python",
      "pygments_lexer": "ipython3",
      "version": "3.9.6"
    }
  },
  "cells": [
    {
      "cell_type": "markdown",
      "metadata": {
        "id": "g2abFWPj4PNo"
      },
      "source": [
        "# Install \n",
        "installing such libraries\n",
        "\n",
        "To extract sentiments from Donald Trump's tweets it is necessary to use the Lexico-based sentiment analysis tool called VADER which was introduced in 2014 to deal with social media texts (I. Awajan et al. 2021) this model uses the combination of lexicals able to label sentences as positive, negative, or neutral. This technique is quite popular as it works very well with social media texts, no training data is needed as it is built from a generalized feeling lexicon, fast enough to be used online with uncompensated streaming data between speed and performance, it detects feelings of slang, in addition to being an open source, (E. Saad et al, 2021) several authors used VADER in the studies and found that this technique has the performance similar to that of human evaluators."
      ]
    },
    {
      "cell_type": "code",
      "metadata": {
        "id": "s-IXXrUD4Rs0",
        "colab": {
          "base_uri": "https://localhost:8080/"
        },
        "outputId": "6b9a83f7-2ed7-4537-c57b-9c75729bcfc3"
      },
      "source": [
        "#installing vaderSentiment\n",
        "!pip install vaderSentiment"
      ],
      "execution_count": 1,
      "outputs": [
        {
          "output_type": "stream",
          "name": "stdout",
          "text": [
            "Collecting vaderSentiment\n",
            "  Downloading vaderSentiment-3.3.2-py2.py3-none-any.whl (125 kB)\n",
            "\u001b[?25l\r\u001b[K     |██▋                             | 10 kB 21.7 MB/s eta 0:00:01\r\u001b[K     |█████▏                          | 20 kB 10.4 MB/s eta 0:00:01\r\u001b[K     |███████▉                        | 30 kB 8.5 MB/s eta 0:00:01\r\u001b[K     |██████████▍                     | 40 kB 7.9 MB/s eta 0:00:01\r\u001b[K     |█████████████                   | 51 kB 4.1 MB/s eta 0:00:01\r\u001b[K     |███████████████▋                | 61 kB 4.4 MB/s eta 0:00:01\r\u001b[K     |██████████████████▏             | 71 kB 4.5 MB/s eta 0:00:01\r\u001b[K     |████████████████████▉           | 81 kB 5.1 MB/s eta 0:00:01\r\u001b[K     |███████████████████████▍        | 92 kB 3.8 MB/s eta 0:00:01\r\u001b[K     |██████████████████████████      | 102 kB 4.1 MB/s eta 0:00:01\r\u001b[K     |████████████████████████████▋   | 112 kB 4.1 MB/s eta 0:00:01\r\u001b[K     |███████████████████████████████▏| 122 kB 4.1 MB/s eta 0:00:01\r\u001b[K     |████████████████████████████████| 125 kB 4.1 MB/s \n",
            "\u001b[?25hRequirement already satisfied: requests in /usr/local/lib/python3.7/dist-packages (from vaderSentiment) (2.23.0)\n",
            "Requirement already satisfied: idna<3,>=2.5 in /usr/local/lib/python3.7/dist-packages (from requests->vaderSentiment) (2.10)\n",
            "Requirement already satisfied: certifi>=2017.4.17 in /usr/local/lib/python3.7/dist-packages (from requests->vaderSentiment) (2021.5.30)\n",
            "Requirement already satisfied: chardet<4,>=3.0.2 in /usr/local/lib/python3.7/dist-packages (from requests->vaderSentiment) (3.0.4)\n",
            "Requirement already satisfied: urllib3!=1.25.0,!=1.25.1,<1.26,>=1.21.1 in /usr/local/lib/python3.7/dist-packages (from requests->vaderSentiment) (1.24.3)\n",
            "Installing collected packages: vaderSentiment\n",
            "Successfully installed vaderSentiment-3.3.2\n"
          ]
        }
      ]
    },
    {
      "cell_type": "code",
      "metadata": {
        "colab": {
          "base_uri": "https://localhost:8080/"
        },
        "id": "GgbUyR4YURd8",
        "outputId": "4b342ca6-cb28-4f1e-dbcc-8450deadc86a"
      },
      "source": [
        "!pip install numpy pandas"
      ],
      "execution_count": 2,
      "outputs": [
        {
          "output_type": "stream",
          "name": "stdout",
          "text": [
            "Requirement already satisfied: numpy in /usr/local/lib/python3.7/dist-packages (1.19.5)\n",
            "Requirement already satisfied: pandas in /usr/local/lib/python3.7/dist-packages (1.1.5)\n",
            "Requirement already satisfied: python-dateutil>=2.7.3 in /usr/local/lib/python3.7/dist-packages (from pandas) (2.8.2)\n",
            "Requirement already satisfied: pytz>=2017.2 in /usr/local/lib/python3.7/dist-packages (from pandas) (2018.9)\n",
            "Requirement already satisfied: six>=1.5 in /usr/local/lib/python3.7/dist-packages (from python-dateutil>=2.7.3->pandas) (1.15.0)\n"
          ]
        }
      ]
    },
    {
      "cell_type": "markdown",
      "metadata": {
        "id": "mMCNILUZ3b0I"
      },
      "source": [
        "# **Import**\n",
        "Importing all the libraries That I need for my analysis"
      ]
    },
    {
      "cell_type": "code",
      "metadata": {
        "id": "9qAuAHFo3Zkw"
      },
      "source": [
        "import numpy as np\n",
        "import pandas as pd # data processing, CSV file\n",
        "import re # data preparation, cleaning data\n",
        "import string"
      ],
      "execution_count": 3,
      "outputs": []
    },
    {
      "cell_type": "markdown",
      "metadata": {
        "id": "U-03g8daNjkF"
      },
      "source": [
        "# **Getting the Data**"
      ]
    },
    {
      "cell_type": "code",
      "metadata": {
        "colab": {
          "base_uri": "https://localhost:8080/"
        },
        "id": "ZAj_oRH56mjC",
        "outputId": "092b2b16-7910-4437-cdcf-309593b416c4"
      },
      "source": [
        "from google.colab import drive\n",
        "drive.mount(\"/content/drive\", force_remount=True)"
      ],
      "execution_count": 4,
      "outputs": [
        {
          "output_type": "stream",
          "name": "stdout",
          "text": [
            "Mounted at /content/drive\n"
          ]
        }
      ]
    },
    {
      "cell_type": "code",
      "metadata": {
        "id": "ivCJHHRvN349"
      },
      "source": [
        "# Importing dataset and examining it\n",
        "\n",
        "dataset = pd.read_csv(\"/content/drive/My Drive/bd/tweets_01-08-2021.csv\", encoding=\"latin-1\")"
      ],
      "execution_count": 5,
      "outputs": []
    },
    {
      "cell_type": "markdown",
      "metadata": {
        "id": "Qo6lEjY5PJ-9"
      },
      "source": [
        "# **Understanding the database**\n",
        "\n",
        "---\n",
        "\n"
      ]
    },
    {
      "cell_type": "code",
      "metadata": {
        "id": "rM066CHtPV3J",
        "colab": {
          "base_uri": "https://localhost:8080/"
        },
        "outputId": "bb781696-ed46-430a-b241-6cce1dcd5de9"
      },
      "source": [
        "# Checking rows and columns\n",
        "print(dataset.head())"
      ],
      "execution_count": 6,
      "outputs": [
        {
          "output_type": "stream",
          "name": "stdout",
          "text": [
            "                    id  ... isFlagged\n",
            "0    98454970654916608  ...         f\n",
            "1  1234653427789070336  ...         f\n",
            "2  1218010753434820614  ...         f\n",
            "3  1304875170860015617  ...         f\n",
            "4  1218159531554897920  ...         f\n",
            "\n",
            "[5 rows x 9 columns]\n"
          ]
        }
      ]
    },
    {
      "cell_type": "code",
      "metadata": {
        "id": "pEqUm7cSQRUu",
        "colab": {
          "base_uri": "https://localhost:8080/"
        },
        "outputId": "e1bb8687-e93b-4cfe-fd72-dc365845f686"
      },
      "source": [
        "#Checking details of the dataset\n",
        "print(dataset.info())"
      ],
      "execution_count": 7,
      "outputs": [
        {
          "output_type": "stream",
          "name": "stdout",
          "text": [
            "<class 'pandas.core.frame.DataFrame'>\n",
            "RangeIndex: 56571 entries, 0 to 56570\n",
            "Data columns (total 9 columns):\n",
            " #   Column     Non-Null Count  Dtype \n",
            "---  ------     --------------  ----- \n",
            " 0   id         56571 non-null  int64 \n",
            " 1   text       56571 non-null  object\n",
            " 2   isRetweet  56571 non-null  object\n",
            " 3   isDeleted  56571 non-null  object\n",
            " 4   device     56571 non-null  object\n",
            " 5   favorites  56571 non-null  int64 \n",
            " 6   retweets   56571 non-null  int64 \n",
            " 7   date       56571 non-null  object\n",
            " 8   isFlagged  56571 non-null  object\n",
            "dtypes: int64(3), object(6)\n",
            "memory usage: 3.9+ MB\n",
            "None\n"
          ]
        }
      ]
    },
    {
      "cell_type": "code",
      "metadata": {
        "colab": {
          "base_uri": "https://localhost:8080/",
          "height": 331
        },
        "id": "IPEYcAHI9el7",
        "outputId": "3fbef4a0-5cfb-4d13-838d-72e86234c24c"
      },
      "source": [
        "dataset.describe(include=\"all\").T"
      ],
      "execution_count": 8,
      "outputs": [
        {
          "output_type": "execute_result",
          "data": {
            "text/html": [
              "<div>\n",
              "<style scoped>\n",
              "    .dataframe tbody tr th:only-of-type {\n",
              "        vertical-align: middle;\n",
              "    }\n",
              "\n",
              "    .dataframe tbody tr th {\n",
              "        vertical-align: top;\n",
              "    }\n",
              "\n",
              "    .dataframe thead th {\n",
              "        text-align: right;\n",
              "    }\n",
              "</style>\n",
              "<table border=\"1\" class=\"dataframe\">\n",
              "  <thead>\n",
              "    <tr style=\"text-align: right;\">\n",
              "      <th></th>\n",
              "      <th>count</th>\n",
              "      <th>unique</th>\n",
              "      <th>top</th>\n",
              "      <th>freq</th>\n",
              "      <th>mean</th>\n",
              "      <th>std</th>\n",
              "      <th>min</th>\n",
              "      <th>25%</th>\n",
              "      <th>50%</th>\n",
              "      <th>75%</th>\n",
              "      <th>max</th>\n",
              "    </tr>\n",
              "  </thead>\n",
              "  <tbody>\n",
              "    <tr>\n",
              "      <th>id</th>\n",
              "      <td>56571</td>\n",
              "      <td>NaN</td>\n",
              "      <td>NaN</td>\n",
              "      <td>NaN</td>\n",
              "      <td>7.98787e+17</td>\n",
              "      <td>3.82662e+17</td>\n",
              "      <td>1.69831e+09</td>\n",
              "      <td>4.60619e+17</td>\n",
              "      <td>7.47102e+17</td>\n",
              "      <td>1.19313e+18</td>\n",
              "      <td>1.34757e+18</td>\n",
              "    </tr>\n",
              "    <tr>\n",
              "      <th>text</th>\n",
              "      <td>56571</td>\n",
              "      <td>56118</td>\n",
              "      <td>MAKE AMERICA GREAT AGAIN!</td>\n",
              "      <td>51</td>\n",
              "      <td>NaN</td>\n",
              "      <td>NaN</td>\n",
              "      <td>NaN</td>\n",
              "      <td>NaN</td>\n",
              "      <td>NaN</td>\n",
              "      <td>NaN</td>\n",
              "      <td>NaN</td>\n",
              "    </tr>\n",
              "    <tr>\n",
              "      <th>isRetweet</th>\n",
              "      <td>56571</td>\n",
              "      <td>2</td>\n",
              "      <td>f</td>\n",
              "      <td>46694</td>\n",
              "      <td>NaN</td>\n",
              "      <td>NaN</td>\n",
              "      <td>NaN</td>\n",
              "      <td>NaN</td>\n",
              "      <td>NaN</td>\n",
              "      <td>NaN</td>\n",
              "      <td>NaN</td>\n",
              "    </tr>\n",
              "    <tr>\n",
              "      <th>isDeleted</th>\n",
              "      <td>56571</td>\n",
              "      <td>2</td>\n",
              "      <td>f</td>\n",
              "      <td>55479</td>\n",
              "      <td>NaN</td>\n",
              "      <td>NaN</td>\n",
              "      <td>NaN</td>\n",
              "      <td>NaN</td>\n",
              "      <td>NaN</td>\n",
              "      <td>NaN</td>\n",
              "      <td>NaN</td>\n",
              "    </tr>\n",
              "    <tr>\n",
              "      <th>device</th>\n",
              "      <td>56571</td>\n",
              "      <td>20</td>\n",
              "      <td>Twitter for iPhone</td>\n",
              "      <td>27967</td>\n",
              "      <td>NaN</td>\n",
              "      <td>NaN</td>\n",
              "      <td>NaN</td>\n",
              "      <td>NaN</td>\n",
              "      <td>NaN</td>\n",
              "      <td>NaN</td>\n",
              "      <td>NaN</td>\n",
              "    </tr>\n",
              "    <tr>\n",
              "      <th>favorites</th>\n",
              "      <td>56571</td>\n",
              "      <td>NaN</td>\n",
              "      <td>NaN</td>\n",
              "      <td>NaN</td>\n",
              "      <td>28349.6</td>\n",
              "      <td>57815.6</td>\n",
              "      <td>0</td>\n",
              "      <td>10</td>\n",
              "      <td>164</td>\n",
              "      <td>43938.5</td>\n",
              "      <td>1.86971e+06</td>\n",
              "    </tr>\n",
              "    <tr>\n",
              "      <th>retweets</th>\n",
              "      <td>56571</td>\n",
              "      <td>NaN</td>\n",
              "      <td>NaN</td>\n",
              "      <td>NaN</td>\n",
              "      <td>8618.99</td>\n",
              "      <td>13306.1</td>\n",
              "      <td>0</td>\n",
              "      <td>59</td>\n",
              "      <td>3450</td>\n",
              "      <td>13014.5</td>\n",
              "      <td>408866</td>\n",
              "    </tr>\n",
              "    <tr>\n",
              "      <th>date</th>\n",
              "      <td>56571</td>\n",
              "      <td>56022</td>\n",
              "      <td>2020-10-25 19:18:16</td>\n",
              "      <td>8</td>\n",
              "      <td>NaN</td>\n",
              "      <td>NaN</td>\n",
              "      <td>NaN</td>\n",
              "      <td>NaN</td>\n",
              "      <td>NaN</td>\n",
              "      <td>NaN</td>\n",
              "      <td>NaN</td>\n",
              "    </tr>\n",
              "    <tr>\n",
              "      <th>isFlagged</th>\n",
              "      <td>56571</td>\n",
              "      <td>2</td>\n",
              "      <td>f</td>\n",
              "      <td>56267</td>\n",
              "      <td>NaN</td>\n",
              "      <td>NaN</td>\n",
              "      <td>NaN</td>\n",
              "      <td>NaN</td>\n",
              "      <td>NaN</td>\n",
              "      <td>NaN</td>\n",
              "      <td>NaN</td>\n",
              "    </tr>\n",
              "  </tbody>\n",
              "</table>\n",
              "</div>"
            ],
            "text/plain": [
              "           count unique  ...          75%          max\n",
              "id         56571    NaN  ...  1.19313e+18  1.34757e+18\n",
              "text       56571  56118  ...          NaN          NaN\n",
              "isRetweet  56571      2  ...          NaN          NaN\n",
              "isDeleted  56571      2  ...          NaN          NaN\n",
              "device     56571     20  ...          NaN          NaN\n",
              "favorites  56571    NaN  ...      43938.5  1.86971e+06\n",
              "retweets   56571    NaN  ...      13014.5       408866\n",
              "date       56571  56022  ...          NaN          NaN\n",
              "isFlagged  56571      2  ...          NaN          NaN\n",
              "\n",
              "[9 rows x 11 columns]"
            ]
          },
          "metadata": {},
          "execution_count": 8
        }
      ]
    },
    {
      "cell_type": "markdown",
      "metadata": {
        "id": "0y3Dizxq9vCw"
      },
      "source": [
        "CHECKING DUPLICATED IDS"
      ]
    },
    {
      "cell_type": "code",
      "metadata": {
        "colab": {
          "base_uri": "https://localhost:8080/"
        },
        "id": "bnkfxkvL9tfI",
        "outputId": "51a5d8c8-4d31-4b0d-d3dd-2befa7c0c840"
      },
      "source": [
        "print('Value Counts: {}'.format(dataset['id'].value_counts().sum()))\n",
        "print('Number of Entries: {}'.format(dataset.shape[0]))"
      ],
      "execution_count": 9,
      "outputs": [
        {
          "output_type": "stream",
          "name": "stdout",
          "text": [
            "Value Counts: 56571\n",
            "Number of Entries: 56571\n"
          ]
        }
      ]
    },
    {
      "cell_type": "code",
      "metadata": {
        "id": "1fDjC8BDSeya",
        "colab": {
          "base_uri": "https://localhost:8080/"
        },
        "outputId": "0fc66878-e08e-4589-caa2-ea7407716cba"
      },
      "source": [
        "#checking missing value\n",
        "dataset.isnull().sum()"
      ],
      "execution_count": 10,
      "outputs": [
        {
          "output_type": "execute_result",
          "data": {
            "text/plain": [
              "id           0\n",
              "text         0\n",
              "isRetweet    0\n",
              "isDeleted    0\n",
              "device       0\n",
              "favorites    0\n",
              "retweets     0\n",
              "date         0\n",
              "isFlagged    0\n",
              "dtype: int64"
            ]
          },
          "metadata": {},
          "execution_count": 10
        }
      ]
    },
    {
      "cell_type": "code",
      "metadata": {
        "id": "m6y69HbAQnuM",
        "colab": {
          "base_uri": "https://localhost:8080/"
        },
        "outputId": "c674e186-4aeb-4c9b-b209-8f601ec152a1"
      },
      "source": [
        "\n",
        "print (dataset.describe())"
      ],
      "execution_count": 11,
      "outputs": [
        {
          "output_type": "stream",
          "name": "stdout",
          "text": [
            "                 id     favorites       retweets\n",
            "count  5.657100e+04  5.657100e+04   56571.000000\n",
            "mean   7.987865e+17  2.834955e+04    8618.987467\n",
            "std    3.826616e+17  5.781564e+04   13306.132408\n",
            "min    1.698309e+09  0.000000e+00       0.000000\n",
            "25%    4.606192e+17  1.000000e+01      59.000000\n",
            "50%    7.471024e+17  1.640000e+02    3450.000000\n",
            "75%    1.193134e+18  4.393850e+04   13014.500000\n",
            "max    1.347570e+18  1.869706e+06  408866.000000\n"
          ]
        }
      ]
    },
    {
      "cell_type": "code",
      "metadata": {
        "id": "1INkMT_tSMpg",
        "colab": {
          "base_uri": "https://localhost:8080/",
          "height": 206
        },
        "outputId": "320b1380-81d5-4f2a-8202-510d63ecc154"
      },
      "source": [
        "dataset.head()"
      ],
      "execution_count": 12,
      "outputs": [
        {
          "output_type": "execute_result",
          "data": {
            "text/html": [
              "<div>\n",
              "<style scoped>\n",
              "    .dataframe tbody tr th:only-of-type {\n",
              "        vertical-align: middle;\n",
              "    }\n",
              "\n",
              "    .dataframe tbody tr th {\n",
              "        vertical-align: top;\n",
              "    }\n",
              "\n",
              "    .dataframe thead th {\n",
              "        text-align: right;\n",
              "    }\n",
              "</style>\n",
              "<table border=\"1\" class=\"dataframe\">\n",
              "  <thead>\n",
              "    <tr style=\"text-align: right;\">\n",
              "      <th></th>\n",
              "      <th>id</th>\n",
              "      <th>text</th>\n",
              "      <th>isRetweet</th>\n",
              "      <th>isDeleted</th>\n",
              "      <th>device</th>\n",
              "      <th>favorites</th>\n",
              "      <th>retweets</th>\n",
              "      <th>date</th>\n",
              "      <th>isFlagged</th>\n",
              "    </tr>\n",
              "  </thead>\n",
              "  <tbody>\n",
              "    <tr>\n",
              "      <th>0</th>\n",
              "      <td>98454970654916608</td>\n",
              "      <td>Republicans and Democrats have both created ou...</td>\n",
              "      <td>f</td>\n",
              "      <td>f</td>\n",
              "      <td>TweetDeck</td>\n",
              "      <td>49</td>\n",
              "      <td>255</td>\n",
              "      <td>2011-08-02 18:07:48</td>\n",
              "      <td>f</td>\n",
              "    </tr>\n",
              "    <tr>\n",
              "      <th>1</th>\n",
              "      <td>1234653427789070336</td>\n",
              "      <td>I was thrilled to be back in the Great city of...</td>\n",
              "      <td>f</td>\n",
              "      <td>f</td>\n",
              "      <td>Twitter for iPhone</td>\n",
              "      <td>73748</td>\n",
              "      <td>17404</td>\n",
              "      <td>2020-03-03 01:34:50</td>\n",
              "      <td>f</td>\n",
              "    </tr>\n",
              "    <tr>\n",
              "      <th>2</th>\n",
              "      <td>1218010753434820614</td>\n",
              "      <td>RT @CBS_Herridge: READ: Letter to surveillance...</td>\n",
              "      <td>t</td>\n",
              "      <td>f</td>\n",
              "      <td>Twitter for iPhone</td>\n",
              "      <td>0</td>\n",
              "      <td>7396</td>\n",
              "      <td>2020-01-17 03:22:47</td>\n",
              "      <td>f</td>\n",
              "    </tr>\n",
              "    <tr>\n",
              "      <th>3</th>\n",
              "      <td>1304875170860015617</td>\n",
              "      <td>The Unsolicited Mail In Ballot Scam is a major...</td>\n",
              "      <td>f</td>\n",
              "      <td>f</td>\n",
              "      <td>Twitter for iPhone</td>\n",
              "      <td>80527</td>\n",
              "      <td>23502</td>\n",
              "      <td>2020-09-12 20:10:58</td>\n",
              "      <td>f</td>\n",
              "    </tr>\n",
              "    <tr>\n",
              "      <th>4</th>\n",
              "      <td>1218159531554897920</td>\n",
              "      <td>RT @MZHemingway: Very friendly telling of even...</td>\n",
              "      <td>t</td>\n",
              "      <td>f</td>\n",
              "      <td>Twitter for iPhone</td>\n",
              "      <td>0</td>\n",
              "      <td>9081</td>\n",
              "      <td>2020-01-17 13:13:59</td>\n",
              "      <td>f</td>\n",
              "    </tr>\n",
              "  </tbody>\n",
              "</table>\n",
              "</div>"
            ],
            "text/plain": [
              "                    id  ... isFlagged\n",
              "0    98454970654916608  ...         f\n",
              "1  1234653427789070336  ...         f\n",
              "2  1218010753434820614  ...         f\n",
              "3  1304875170860015617  ...         f\n",
              "4  1218159531554897920  ...         f\n",
              "\n",
              "[5 rows x 9 columns]"
            ]
          },
          "metadata": {},
          "execution_count": 12
        }
      ]
    },
    {
      "cell_type": "code",
      "metadata": {
        "id": "tj4ivJ-YSWko",
        "colab": {
          "base_uri": "https://localhost:8080/"
        },
        "outputId": "de48b298-76b1-4bd7-bb15-18a28f35131d"
      },
      "source": [
        "#Checking if there is repeated ID, if there is I should delete\n",
        "dataset['id'].value_counts()"
      ],
      "execution_count": 13,
      "outputs": [
        {
          "output_type": "execute_result",
          "data": {
            "text/plain": [
              "423197613765050368     1\n",
              "1342243632833814528    1\n",
              "112244047195803648     1\n",
              "673564787830341634     1\n",
              "1188048255797608449    1\n",
              "                      ..\n",
              "489433006541910016     1\n",
              "1226123356526825472    1\n",
              "261842867000078337     1\n",
              "1222006774368296960    1\n",
              "522558305441693696     1\n",
              "Name: id, Length: 56571, dtype: int64"
            ]
          },
          "metadata": {},
          "execution_count": 13
        }
      ]
    },
    {
      "cell_type": "code",
      "metadata": {
        "colab": {
          "base_uri": "https://localhost:8080/"
        },
        "id": "-HNwbkP-Si-8",
        "outputId": "e83eb97b-720d-4db7-e1a7-001cfc286186"
      },
      "source": [
        "#checking the dataset shape\n",
        "print(dataset.shape)"
      ],
      "execution_count": 14,
      "outputs": [
        {
          "output_type": "stream",
          "name": "stdout",
          "text": [
            "(56571, 9)\n"
          ]
        }
      ]
    },
    {
      "cell_type": "code",
      "metadata": {
        "id": "ZOtnKb5sS4hK"
      },
      "source": [
        "#Using only the column that I need\n",
        "data = dataset[[\"text\",\"favorites\",\"retweets\",\"date\"]]"
      ],
      "execution_count": 15,
      "outputs": []
    },
    {
      "cell_type": "code",
      "metadata": {
        "colab": {
          "base_uri": "https://localhost:8080/"
        },
        "id": "04OAuLzLS9UT",
        "outputId": "8026d5d4-9ad2-45a9-b944-b5756ae33240"
      },
      "source": [
        "data.head"
      ],
      "execution_count": 16,
      "outputs": [
        {
          "output_type": "execute_result",
          "data": {
            "text/plain": [
              "<bound method NDFrame.head of                                                     text  ...                 date\n",
              "0      Republicans and Democrats have both created ou...  ...  2011-08-02 18:07:48\n",
              "1      I was thrilled to be back in the Great city of...  ...  2020-03-03 01:34:50\n",
              "2      RT @CBS_Herridge: READ: Letter to surveillance...  ...  2020-01-17 03:22:47\n",
              "3      The Unsolicited Mail In Ballot Scam is a major...  ...  2020-09-12 20:10:58\n",
              "4      RT @MZHemingway: Very friendly telling of even...  ...  2020-01-17 13:13:59\n",
              "...                                                  ...  ...                  ...\n",
              "56566  RT @RandPaul: I donât know why @JoeBiden thi...  ...  2020-10-23 03:46:25\n",
              "56567  RT @EliseStefanik: President @realDonaldTrump ...  ...  2020-10-23 03:42:05\n",
              "56568  RT @TeamTrump: LIVE: Presidential Debate #Deba...  ...  2020-10-23 01:03:58\n",
              "56569  Just signed an order to support the workers of...  ...  2020-10-22 21:04:21\n",
              "56570  Suburban women want Safety &amp; Security. Joe...  ...  2020-10-22 18:31:46\n",
              "\n",
              "[56571 rows x 4 columns]>"
            ]
          },
          "metadata": {},
          "execution_count": 16
        }
      ]
    },
    {
      "cell_type": "markdown",
      "metadata": {
        "id": "NnFAyo7DocxH"
      },
      "source": [
        "# **DATA PREPARATION**\n",
        "• Make all text lowercase;\n",
        "\n",
        "• Remove links;\n",
        "\n",
        "• Remove tags;\n",
        "\n",
        "• Remove breaklines;\n",
        "\n",
        "• Remove words with numbers inside;\n",
        "\n",
        "• Remove punctuations;\n",
        "\n",
        "• Remove accents;\n",
        "\n",
        "• Remove duplicated whitespaces"
      ]
    },
    {
      "cell_type": "code",
      "metadata": {
        "id": "KY8pMzZz-d7f"
      },
      "source": [
        "import unicodedata"
      ],
      "execution_count": 17,
      "outputs": []
    },
    {
      "cell_type": "code",
      "metadata": {
        "colab": {
          "base_uri": "https://localhost:8080/",
          "height": 35
        },
        "id": "g7UpWNFl-kAG",
        "outputId": "8ee183de-37aa-47a8-fa4b-b59207ac5211"
      },
      "source": [
        "#Filter to remove links\n",
        "data['text'].iloc[1000]\n"
      ],
      "execution_count": 18,
      "outputs": [
        {
          "output_type": "execute_result",
          "data": {
            "application/vnd.google.colaboratory.intrinsic+json": {
              "type": "string"
            },
            "text/plain": [
              "'Republican Burgess Owens Defeats Democrat Rep. Ben McAdams in Utah https://t.co/H9NlPQj5yb via @BreitbartNews Great going Burgess, you continue to be a STAR!'"
            ]
          },
          "metadata": {},
          "execution_count": 18
        }
      ]
    },
    {
      "cell_type": "code",
      "metadata": {
        "colab": {
          "base_uri": "https://localhost:8080/",
          "height": 35
        },
        "id": "gl1PXi-Y-4Bx",
        "outputId": "9f77a169-5c01-46a0-fb7d-41cbd663e7b0"
      },
      "source": [
        "re.sub('https?://\\S+|www\\.\\S+', '', data['text'].iloc[1000])"
      ],
      "execution_count": 19,
      "outputs": [
        {
          "output_type": "execute_result",
          "data": {
            "application/vnd.google.colaboratory.intrinsic+json": {
              "type": "string"
            },
            "text/plain": [
              "'Republican Burgess Owens Defeats Democrat Rep. Ben McAdams in Utah  via @BreitbartNews Great going Burgess, you continue to be a STAR!'"
            ]
          },
          "metadata": {},
          "execution_count": 19
        }
      ]
    },
    {
      "cell_type": "code",
      "metadata": {
        "colab": {
          "base_uri": "https://localhost:8080/",
          "height": 35
        },
        "id": "w8CfwYpw-9cO",
        "outputId": "fb2258aa-41dd-4ed1-d6b5-944511cf09a9"
      },
      "source": [
        "#Filter to remove tags\n",
        "re.sub('<.*?>+', ' ', '<h1>TEXT</h1>')\n"
      ],
      "execution_count": 20,
      "outputs": [
        {
          "output_type": "execute_result",
          "data": {
            "application/vnd.google.colaboratory.intrinsic+json": {
              "type": "string"
            },
            "text/plain": [
              "' TEXT '"
            ]
          },
          "metadata": {},
          "execution_count": 20
        }
      ]
    },
    {
      "cell_type": "code",
      "metadata": {
        "colab": {
          "base_uri": "https://localhost:8080/",
          "height": 35
        },
        "id": "1xQr6zZn_KUe",
        "outputId": "7c862a98-8eb0-4439-e169-c6275e83fd17"
      },
      "source": [
        "re.sub('\\[.*?\\]', '', '[tag]TEXT[--tag]')"
      ],
      "execution_count": 21,
      "outputs": [
        {
          "output_type": "execute_result",
          "data": {
            "application/vnd.google.colaboratory.intrinsic+json": {
              "type": "string"
            },
            "text/plain": [
              "'TEXT'"
            ]
          },
          "metadata": {},
          "execution_count": 21
        }
      ]
    },
    {
      "cell_type": "code",
      "metadata": {
        "colab": {
          "base_uri": "https://localhost:8080/",
          "height": 35
        },
        "id": "WaYGLmls_Q_O",
        "outputId": "aed51228-142b-4ed7-8f16-98a6b0bf93db"
      },
      "source": [
        "#Filter to remove words with numbers inside\n",
        "re.sub('\\w*\\d\\w*', ' ', 'sea3sky blue today')"
      ],
      "execution_count": 22,
      "outputs": [
        {
          "output_type": "execute_result",
          "data": {
            "application/vnd.google.colaboratory.intrinsic+json": {
              "type": "string"
            },
            "text/plain": [
              "'  blue today'"
            ]
          },
          "metadata": {},
          "execution_count": 22
        }
      ]
    },
    {
      "cell_type": "code",
      "metadata": {
        "colab": {
          "base_uri": "https://localhost:8080/",
          "height": 35
        },
        "id": "DxtY5l-E_jST",
        "outputId": "53c54d64-44bb-48c1-ff26-6572f91dcca1"
      },
      "source": [
        "#Filter to remove duplicate whitespaces\n",
        "re.sub(r'\\s+', ' ', 'A B C              D')"
      ],
      "execution_count": 23,
      "outputs": [
        {
          "output_type": "execute_result",
          "data": {
            "application/vnd.google.colaboratory.intrinsic+json": {
              "type": "string"
            },
            "text/plain": [
              "'A B C D'"
            ]
          },
          "metadata": {},
          "execution_count": 23
        }
      ]
    },
    {
      "cell_type": "code",
      "metadata": {
        "colab": {
          "base_uri": "https://localhost:8080/",
          "height": 35
        },
        "id": "KQKr6arx_uPg",
        "outputId": "42ceacfe-a9f6-432f-e31b-3b858026b3fe"
      },
      "source": [
        "#Filter to remove punctuation\n",
        "data['text'].iloc[60]"
      ],
      "execution_count": 24,
      "outputs": [
        {
          "output_type": "execute_result",
          "data": {
            "application/vnd.google.colaboratory.intrinsic+json": {
              "type": "string"
            },
            "text/plain": [
              "'Polls numbers are looking very strong. Big crowds, great enthusiasm. Massive RED WAVE coming!!!'"
            ]
          },
          "metadata": {},
          "execution_count": 24
        }
      ]
    },
    {
      "cell_type": "code",
      "metadata": {
        "colab": {
          "base_uri": "https://localhost:8080/",
          "height": 35
        },
        "id": "InPNsQ0t_yx6",
        "outputId": "87035ce8-a1ef-4e08-8146-cf77f71cc039"
      },
      "source": [
        "re.sub(r'[^\\w\\s]', '', data['text'].iloc[60])"
      ],
      "execution_count": 25,
      "outputs": [
        {
          "output_type": "execute_result",
          "data": {
            "application/vnd.google.colaboratory.intrinsic+json": {
              "type": "string"
            },
            "text/plain": [
              "'Polls numbers are looking very strong Big crowds great enthusiasm Massive RED WAVE coming'"
            ]
          },
          "metadata": {},
          "execution_count": 25
        }
      ]
    },
    {
      "cell_type": "code",
      "metadata": {
        "colab": {
          "base_uri": "https://localhost:8080/",
          "height": 53
        },
        "id": "pKjtT6tQADzT",
        "outputId": "b062eeb7-4e13-451d-81f9-80dc60f16713"
      },
      "source": [
        "#Filter to remove accents\n",
        "data['text'].iloc[1002]"
      ],
      "execution_count": 26,
      "outputs": [
        {
          "output_type": "execute_result",
          "data": {
            "application/vnd.google.colaboratory.intrinsic+json": {
              "type": "string"
            },
            "text/plain": [
              "'The â\\x80\\x9closers &amp; suckersâ\\x80\\x9d statement on dead military heroes has been proven to be a total fabrication and lie. IT WAS NEVER MADE! The â\\x80\\x9canonymousâ\\x80\\x9d fabricator, who is a major sleaze, went forward with the lie despite 25 strong witnesses to the contrary. Welcome to the roaring 20â\\x80\\x99s!'"
            ]
          },
          "metadata": {},
          "execution_count": 26
        }
      ]
    },
    {
      "cell_type": "code",
      "metadata": {
        "colab": {
          "base_uri": "https://localhost:8080/"
        },
        "id": "MdhE3AcyANDD",
        "outputId": "ebeb56f4-0e39-4302-e624-5fad1b1e46b8"
      },
      "source": [
        "text = data['text'].iloc[1002]\n",
        "text = unicodedata.normalize('NFKD', text)\n",
        "text = \"\".join([c for c in text if not unicodedata.combining(c)])\n",
        "print(text)"
      ],
      "execution_count": 27,
      "outputs": [
        {
          "output_type": "stream",
          "name": "stdout",
          "text": [
            "The alosers &amp; suckersa statement on dead military heroes has been proven to be a total fabrication and lie. IT WAS NEVER MADE! The aanonymousa fabricator, who is a major sleaze, went forward with the lie despite 25 strong witnesses to the contrary. Welcome to the roaring 20as!\n"
          ]
        }
      ]
    },
    {
      "cell_type": "code",
      "metadata": {
        "colab": {
          "base_uri": "https://localhost:8080/"
        },
        "id": "oTgLEDfasi1M",
        "outputId": "c212831c-8ac9-4acb-b06d-86f4003d1233"
      },
      "source": [
        "#checking how the tweets are know, If it is clean or not\n",
        "data['text']"
      ],
      "execution_count": 29,
      "outputs": [
        {
          "output_type": "execute_result",
          "data": {
            "text/plain": [
              "0        republicans and democrats have both created ou...\n",
              "1        i was thrilled to be back in the great city of...\n",
              "2        rt cbsherridge read letter to surveillance cou...\n",
              "3        the unsolicited mail in ballot scam is a major...\n",
              "4        rt mzhemingway very friendly telling of events...\n",
              "                               ...                        \n",
              "56566    rt randpaul i donat know why joebiden thinks...\n",
              "56567    rt elisestefanik president realdonaldtrump exc...\n",
              "56568       rt teamtrump live presidential debate vote to \n",
              "56569    just signed an order to support the workers of...\n",
              "56570    suburban women want safety amp security joe bi...\n",
              "Name: text, Length: 56571, dtype: object"
            ]
          },
          "metadata": {},
          "execution_count": 29
        }
      ]
    },
    {
      "cell_type": "code",
      "metadata": {
        "colab": {
          "base_uri": "https://localhost:8080/"
        },
        "id": "SBY8pIHcUReG",
        "outputId": "76ea8d8f-e4ca-4ee8-cebd-4f2bcf2feb5e"
      },
      "source": [
        "# Checking the tweets from 100 to 115 using ILOC to select the rows\n",
        "data['text'].iloc[100:115]"
      ],
      "execution_count": 30,
      "outputs": [
        {
          "output_type": "execute_result",
          "data": {
            "text/plain": [
              "100    foxnews quinnipiacpoll abcwapo nbcwsj were so ...\n",
              "101                    rt dbongino this ðð»ðð»\n",
              "102    pleased to announce that kloeffler amp sendavi...\n",
              "103    if joe biden were president you wouldnat hav...\n",
              "104    the usfda and the democrats didnat want to h...\n",
              "105    who will be running for governor of the great ...\n",
              "106    another vaccine just announced this time by mo...\n",
              "107    rt realdonaldtrump john bolton was one of the ...\n",
              "108    rt rudygiuliani the only thing that would have...\n",
              "109    rt rudygiuliani i imagine this guy has a readi...\n",
              "110    rt andrewpollackfl would you ever hear biden s...\n",
              "111    rt andrewpollackfl the million maga march happ...\n",
              "112    the fake recount going on in georgia means not...\n",
              "113                             rt dbongino amen to that\n",
              "114    georgia get out and vote for two great senator...\n",
              "Name: text, dtype: object"
            ]
          },
          "metadata": {},
          "execution_count": 30
        }
      ]
    },
    {
      "cell_type": "markdown",
      "metadata": {
        "id": "pWNol0f4tuK8"
      },
      "source": [
        "# **Vader Sentiment **\n",
        "\n"
      ]
    },
    {
      "cell_type": "code",
      "metadata": {
        "colab": {
          "base_uri": "https://localhost:8080/"
        },
        "id": "OZXHmCGhtYrH",
        "outputId": "bc982f98-d373-447f-d2aa-0a42ea9b9e82"
      },
      "source": [
        "# Using VaderSentiment to define tweet's score, know what should be positive, negative and neutral. \n",
        "#Used polarity_scores() method to get the sentiment metrics for a piece of text.\n",
        "from vaderSentiment.vaderSentiment import SentimentIntensityAnalyzer\n",
        "\n",
        "\n",
        "analyser = SentimentIntensityAnalyzer()\n",
        "scores=[]\n",
        "for i in range(len(data['text'])):\n",
        "    \n",
        "    score = analyser.polarity_scores(data['text'][i])\n",
        "    score=score['compound']\n",
        "    scores.append(score)\n",
        "sentiment=[]\n",
        "for i in scores:\n",
        "    if i>=0.05:\n",
        "        sentiment.append('Positive')\n",
        "    elif i<=(-0.05):\n",
        "        sentiment.append('Negative')\n",
        "    else:\n",
        "        sentiment.append('Neutral')\n",
        "data['sentiment']=pd.Series(np.array(sentiment))"
      ],
      "execution_count": 31,
      "outputs": [
        {
          "output_type": "stream",
          "name": "stderr",
          "text": [
            "/usr/local/lib/python3.7/dist-packages/ipykernel_launcher.py:21: SettingWithCopyWarning: \n",
            "A value is trying to be set on a copy of a slice from a DataFrame.\n",
            "Try using .loc[row_indexer,col_indexer] = value instead\n",
            "\n",
            "See the caveats in the documentation: https://pandas.pydata.org/pandas-docs/stable/user_guide/indexing.html#returning-a-view-versus-a-copy\n"
          ]
        }
      ]
    },
    {
      "cell_type": "code",
      "metadata": {
        "colab": {
          "base_uri": "https://localhost:8080/",
          "height": 206
        },
        "id": "gjlknJwztqXJ",
        "outputId": "e56a28a7-1874-401b-bbb9-53294b9ebfe3"
      },
      "source": [
        "#Checking which tweets are positive negative and neutral\n",
        "data.head()"
      ],
      "execution_count": 32,
      "outputs": [
        {
          "output_type": "execute_result",
          "data": {
            "text/html": [
              "<div>\n",
              "<style scoped>\n",
              "    .dataframe tbody tr th:only-of-type {\n",
              "        vertical-align: middle;\n",
              "    }\n",
              "\n",
              "    .dataframe tbody tr th {\n",
              "        vertical-align: top;\n",
              "    }\n",
              "\n",
              "    .dataframe thead th {\n",
              "        text-align: right;\n",
              "    }\n",
              "</style>\n",
              "<table border=\"1\" class=\"dataframe\">\n",
              "  <thead>\n",
              "    <tr style=\"text-align: right;\">\n",
              "      <th></th>\n",
              "      <th>text</th>\n",
              "      <th>favorites</th>\n",
              "      <th>retweets</th>\n",
              "      <th>date</th>\n",
              "      <th>sentiment</th>\n",
              "    </tr>\n",
              "  </thead>\n",
              "  <tbody>\n",
              "    <tr>\n",
              "      <th>0</th>\n",
              "      <td>republicans and democrats have both created ou...</td>\n",
              "      <td>49</td>\n",
              "      <td>255</td>\n",
              "      <td>2011-08-02 18:07:48</td>\n",
              "      <td>Negative</td>\n",
              "    </tr>\n",
              "    <tr>\n",
              "      <th>1</th>\n",
              "      <td>i was thrilled to be back in the great city of...</td>\n",
              "      <td>73748</td>\n",
              "      <td>17404</td>\n",
              "      <td>2020-03-03 01:34:50</td>\n",
              "      <td>Positive</td>\n",
              "    </tr>\n",
              "    <tr>\n",
              "      <th>2</th>\n",
              "      <td>rt cbsherridge read letter to surveillance cou...</td>\n",
              "      <td>0</td>\n",
              "      <td>7396</td>\n",
              "      <td>2020-01-17 03:22:47</td>\n",
              "      <td>Neutral</td>\n",
              "    </tr>\n",
              "    <tr>\n",
              "      <th>3</th>\n",
              "      <td>the unsolicited mail in ballot scam is a major...</td>\n",
              "      <td>80527</td>\n",
              "      <td>23502</td>\n",
              "      <td>2020-09-12 20:10:58</td>\n",
              "      <td>Negative</td>\n",
              "    </tr>\n",
              "    <tr>\n",
              "      <th>4</th>\n",
              "      <td>rt mzhemingway very friendly telling of events...</td>\n",
              "      <td>0</td>\n",
              "      <td>9081</td>\n",
              "      <td>2020-01-17 13:13:59</td>\n",
              "      <td>Positive</td>\n",
              "    </tr>\n",
              "  </tbody>\n",
              "</table>\n",
              "</div>"
            ],
            "text/plain": [
              "                                                text  ...  sentiment\n",
              "0  republicans and democrats have both created ou...  ...   Negative\n",
              "1  i was thrilled to be back in the great city of...  ...   Positive\n",
              "2  rt cbsherridge read letter to surveillance cou...  ...    Neutral\n",
              "3  the unsolicited mail in ballot scam is a major...  ...   Negative\n",
              "4  rt mzhemingway very friendly telling of events...  ...   Positive\n",
              "\n",
              "[5 rows x 5 columns]"
            ]
          },
          "metadata": {},
          "execution_count": 32
        }
      ]
    },
    {
      "cell_type": "code",
      "metadata": {
        "colab": {
          "base_uri": "https://localhost:8080/",
          "height": 102
        },
        "id": "YTEvzOb6uftu",
        "outputId": "bbecea0a-bdfe-4813-d9c3-fcd52d47323a"
      },
      "source": [
        "#Grouping sentiment as POSITIVE, NEGATIVE AND NEUTRAL and counting how many tweets there are per group\n",
        "temp = data.groupby('sentiment').count()['text'].reset_index().sort_values(by='text',ascending=False)\n",
        "temp.style.background_gradient(cmap='Purples')"
      ],
      "execution_count": 33,
      "outputs": [
        {
          "output_type": "execute_result",
          "data": {
            "text/html": [
              "<style  type=\"text/css\" >\n",
              "#T_32ac39f2_24fb_11ec_8a11_0242ac1c0002row0_col1{\n",
              "            background-color:  #3f007d;\n",
              "            color:  #f1f1f1;\n",
              "        }#T_32ac39f2_24fb_11ec_8a11_0242ac1c0002row1_col1{\n",
              "            background-color:  #ebe9f3;\n",
              "            color:  #000000;\n",
              "        }#T_32ac39f2_24fb_11ec_8a11_0242ac1c0002row2_col1{\n",
              "            background-color:  #fcfbfd;\n",
              "            color:  #000000;\n",
              "        }</style><table id=\"T_32ac39f2_24fb_11ec_8a11_0242ac1c0002\" ><thead>    <tr>        <th class=\"blank level0\" ></th>        <th class=\"col_heading level0 col0\" >sentiment</th>        <th class=\"col_heading level0 col1\" >text</th>    </tr></thead><tbody>\n",
              "                <tr>\n",
              "                        <th id=\"T_32ac39f2_24fb_11ec_8a11_0242ac1c0002level0_row0\" class=\"row_heading level0 row0\" >2</th>\n",
              "                        <td id=\"T_32ac39f2_24fb_11ec_8a11_0242ac1c0002row0_col0\" class=\"data row0 col0\" >Positive</td>\n",
              "                        <td id=\"T_32ac39f2_24fb_11ec_8a11_0242ac1c0002row0_col1\" class=\"data row0 col1\" >30533</td>\n",
              "            </tr>\n",
              "            <tr>\n",
              "                        <th id=\"T_32ac39f2_24fb_11ec_8a11_0242ac1c0002level0_row1\" class=\"row_heading level0 row1\" >0</th>\n",
              "                        <td id=\"T_32ac39f2_24fb_11ec_8a11_0242ac1c0002row1_col0\" class=\"data row1 col0\" >Negative</td>\n",
              "                        <td id=\"T_32ac39f2_24fb_11ec_8a11_0242ac1c0002row1_col1\" class=\"data row1 col1\" >14455</td>\n",
              "            </tr>\n",
              "            <tr>\n",
              "                        <th id=\"T_32ac39f2_24fb_11ec_8a11_0242ac1c0002level0_row2\" class=\"row_heading level0 row2\" >1</th>\n",
              "                        <td id=\"T_32ac39f2_24fb_11ec_8a11_0242ac1c0002row2_col0\" class=\"data row2 col0\" >Neutral</td>\n",
              "                        <td id=\"T_32ac39f2_24fb_11ec_8a11_0242ac1c0002row2_col1\" class=\"data row2 col1\" >11583</td>\n",
              "            </tr>\n",
              "    </tbody></table>"
            ],
            "text/plain": [
              "<pandas.io.formats.style.Styler at 0x7f42d723c410>"
            ]
          },
          "metadata": {},
          "execution_count": 33
        }
      ]
    },
    {
      "cell_type": "code",
      "metadata": {
        "colab": {
          "base_uri": "https://localhost:8080/"
        },
        "id": "EAS01efXUReI",
        "outputId": "c4175688-93c5-456a-8b92-eccd3a980640"
      },
      "source": [
        "#Plotly is a Python library that is used to generate graphs, rather than that it allows us to view these graphs interactively.\n",
        "!pip install plotly"
      ],
      "execution_count": 34,
      "outputs": [
        {
          "output_type": "stream",
          "name": "stdout",
          "text": [
            "Requirement already satisfied: plotly in /usr/local/lib/python3.7/dist-packages (4.4.1)\n",
            "Requirement already satisfied: retrying>=1.3.3 in /usr/local/lib/python3.7/dist-packages (from plotly) (1.3.3)\n",
            "Requirement already satisfied: six in /usr/local/lib/python3.7/dist-packages (from plotly) (1.15.0)\n"
          ]
        }
      ]
    },
    {
      "cell_type": "code",
      "metadata": {
        "colab": {
          "base_uri": "https://localhost:8080/"
        },
        "id": "7u10PX4HUReI",
        "outputId": "ee5693c5-4457-4632-f70c-52f01fa739e2"
      },
      "source": [
        "#Python Matplotlib is a Python programming language library used for data visualization and graphical plotting.\n",
        "!pip install matplotlib seaborn"
      ],
      "execution_count": 35,
      "outputs": [
        {
          "output_type": "stream",
          "name": "stdout",
          "text": [
            "Requirement already satisfied: matplotlib in /usr/local/lib/python3.7/dist-packages (3.2.2)\n",
            "Requirement already satisfied: seaborn in /usr/local/lib/python3.7/dist-packages (0.11.2)\n",
            "Requirement already satisfied: pyparsing!=2.0.4,!=2.1.2,!=2.1.6,>=2.0.1 in /usr/local/lib/python3.7/dist-packages (from matplotlib) (2.4.7)\n",
            "Requirement already satisfied: python-dateutil>=2.1 in /usr/local/lib/python3.7/dist-packages (from matplotlib) (2.8.2)\n",
            "Requirement already satisfied: kiwisolver>=1.0.1 in /usr/local/lib/python3.7/dist-packages (from matplotlib) (1.3.2)\n",
            "Requirement already satisfied: numpy>=1.11 in /usr/local/lib/python3.7/dist-packages (from matplotlib) (1.19.5)\n",
            "Requirement already satisfied: cycler>=0.10 in /usr/local/lib/python3.7/dist-packages (from matplotlib) (0.10.0)\n",
            "Requirement already satisfied: six in /usr/local/lib/python3.7/dist-packages (from cycler>=0.10->matplotlib) (1.15.0)\n",
            "Requirement already satisfied: scipy>=1.0 in /usr/local/lib/python3.7/dist-packages (from seaborn) (1.4.1)\n",
            "Requirement already satisfied: pandas>=0.23 in /usr/local/lib/python3.7/dist-packages (from seaborn) (1.1.5)\n",
            "Requirement already satisfied: pytz>=2017.2 in /usr/local/lib/python3.7/dist-packages (from pandas>=0.23->seaborn) (2018.9)\n"
          ]
        }
      ]
    },
    {
      "cell_type": "markdown",
      "metadata": {
        "id": "aoC_4NaXQJED"
      },
      "source": [
        "## **Number of favorites and retweets by year**"
      ]
    },
    {
      "cell_type": "code",
      "metadata": {
        "id": "FsgM8wcRBk2B"
      },
      "source": [
        "import matplotlib.pyplot as plt\n"
      ],
      "execution_count": 36,
      "outputs": []
    },
    {
      "cell_type": "code",
      "metadata": {
        "colab": {
          "base_uri": "https://localhost:8080/",
          "height": 642
        },
        "id": "k-gGNd9Yhdv-",
        "outputId": "a6f51c3b-c79e-4831-ceca-f68668320e51"
      },
      "source": [
        "data[\"date\"] = pd.to_datetime(data[\"date\"]) \n",
        "data[\"date\"].apply(lambda x: x.year) # getting all years \n",
        "\n",
        "# Number of tweets by year\n",
        "colors = []\n",
        "for i in range(2020-2009+1):\n",
        "    x = 0.7-0.06*i\n",
        "    c = (x,x,0.5)\n",
        "    colors.append(c)\n",
        "    \n",
        "# Creating the visualization\n",
        "fig = plt.figure(figsize = (10,4))\n",
        "ax = fig.add_axes([0,0,1,1])\n",
        "ax.set_title(\"Quantity of favorites, retweets of Trump's tweets\", fontsize=20)\n",
        "ax.tick_params(labelsize=10)\n",
        "\n",
        "# Number of tweets (more details)\n",
        "data[\"year_month\"] = data[\"date\"].apply(lambda x: str(x.year)+\"-\"+str(x.month))\n",
        "data[\"year_month\"] = pd.to_datetime(data[\"year_month\"])\n",
        "year_month = pd.pivot_table(data, values = \"text\", index = \"year_month\", aggfunc = \"count\")\n",
        "\n",
        "# Average number of \"favorites\"\n",
        "year_month = pd.pivot_table(data, values = \"favorites\", index = \"year_month\", aggfunc = \"mean\")\n",
        "ax.plot(year_month, lw = 3)\n",
        "\n",
        "# Average number of \"retweets\"\n",
        "year_month = pd.pivot_table(data, values = \"retweets\", index = \"year_month\", aggfunc = \"mean\")\n",
        "ax.plot(year_month, lw = 3)\n",
        "\n",
        "\n",
        "ax.legend([\"Favorites\",\"Retweets\"], fontsize=15)\n",
        "ax.tick_params(labelsize=18)\n",
        "plt.show()\n"
      ],
      "execution_count": 37,
      "outputs": [
        {
          "output_type": "stream",
          "name": "stderr",
          "text": [
            "/usr/local/lib/python3.7/dist-packages/ipykernel_launcher.py:1: SettingWithCopyWarning: \n",
            "A value is trying to be set on a copy of a slice from a DataFrame.\n",
            "Try using .loc[row_indexer,col_indexer] = value instead\n",
            "\n",
            "See the caveats in the documentation: https://pandas.pydata.org/pandas-docs/stable/user_guide/indexing.html#returning-a-view-versus-a-copy\n",
            "  \"\"\"Entry point for launching an IPython kernel.\n",
            "/usr/local/lib/python3.7/dist-packages/ipykernel_launcher.py:18: SettingWithCopyWarning: \n",
            "A value is trying to be set on a copy of a slice from a DataFrame.\n",
            "Try using .loc[row_indexer,col_indexer] = value instead\n",
            "\n",
            "See the caveats in the documentation: https://pandas.pydata.org/pandas-docs/stable/user_guide/indexing.html#returning-a-view-versus-a-copy\n",
            "/usr/local/lib/python3.7/dist-packages/ipykernel_launcher.py:19: SettingWithCopyWarning: \n",
            "A value is trying to be set on a copy of a slice from a DataFrame.\n",
            "Try using .loc[row_indexer,col_indexer] = value instead\n",
            "\n",
            "See the caveats in the documentation: https://pandas.pydata.org/pandas-docs/stable/user_guide/indexing.html#returning-a-view-versus-a-copy\n"
          ]
        },
        {
          "output_type": "display_data",
          "data": {
            "image/png": "[encoded data removed]",
            "text/plain": [
              "<Figure size 720x288 with 1 Axes>"
            ]
          },
          "metadata": {
            "needs_background": "light"
          }
        }
      ]
    },
    {
      "cell_type": "markdown",
      "metadata": {
        "id": "GcL_1HWjPpXQ"
      },
      "source": [
        "### **Mean positivity/negativity/neutrality of Trump's tweets by year**"
      ]
    },
    {
      "cell_type": "code",
      "metadata": {
        "colab": {
          "base_uri": "https://localhost:8080/",
          "height": 892
        },
        "id": "dBp7ZqDBehKN",
        "outputId": "630afa78-6b2a-4364-c7cb-e6fb257f7b4d"
      },
      "source": [
        "# Calculate the polarity of the tweets of Trump with NLTK\n",
        "#giving a polarity to the text positives, negative and neutral using the function  .APPLY \n",
        "#because it has good performance when to the same tinha many times\n",
        "#Then I created a vizualization aggfunc function to give the mean to the sentiment\n",
        "import nltk\n",
        "from nltk.sentiment.vader import SentimentIntensityAnalyzer\n",
        "\n",
        "data[\"polarity\"] = data[\"text\"].apply(lambda x: analyser.polarity_scores(x))\n",
        "\n",
        "data[\"pos\"] = data[\"polarity\"].apply(lambda x: x[\"pos\"])\n",
        "data[\"neg\"] = data[\"polarity\"].apply(lambda x: x[\"neg\"])\n",
        "data[\"neu\"] = data[\"polarity\"].apply(lambda x: x[\"neu\"])\n",
        "data[\"compound\"] = data[\"polarity\"].apply(lambda x: x[\"compound\"])\n",
        "\n",
        "# Creating a visualization\n",
        "ax.set_title(\"Mean positivity/negativity/neutrality of Trump's tweets by year\", fontsize=20)\n",
        "fig = plt.figure(figsize = (10,8))#size of image\n",
        "ax = fig.add_axes([0,0,1,1])\n",
        "ax.tick_params(labelsize=10)\n",
        "\n",
        "# Positive plot\n",
        "year_month = pd.pivot_table(data, values = \"pos\", index = \"year_month\", aggfunc = \"mean\")\n",
        "ax.plot(year_month, lw = 5)\n",
        "\n",
        "# Negative plot\n",
        "year_month = pd.pivot_table(data, values = \"neg\", index = \"year_month\", aggfunc = \"mean\")\n",
        "ax.plot(year_month, lw = 5, color = \"red\")\n",
        "\n",
        "# Neutral plot\n",
        "year_month = pd.pivot_table(data, values = \"neu\", index = \"year_month\", aggfunc = \"mean\")\n",
        "ax.plot(year_month, lw = 5, color = \"green\")\n",
        "\n",
        "\n",
        "ax.legend([\"pos\",\"neg\",\"neu\"], fontsize=15)\n",
        "ax.tick_params(labelsize=15)\n",
        "\n",
        "plt.show()\n"
      ],
      "execution_count": 38,
      "outputs": [
        {
          "output_type": "stream",
          "name": "stderr",
          "text": [
            "/usr/local/lib/python3.7/dist-packages/nltk/twitter/__init__.py:20: UserWarning: The twython library has not been installed. Some functionality from the twitter package will not be available.\n",
            "  warnings.warn(\"The twython library has not been installed. \"\n",
            "/usr/local/lib/python3.7/dist-packages/ipykernel_launcher.py:8: SettingWithCopyWarning: \n",
            "A value is trying to be set on a copy of a slice from a DataFrame.\n",
            "Try using .loc[row_indexer,col_indexer] = value instead\n",
            "\n",
            "See the caveats in the documentation: https://pandas.pydata.org/pandas-docs/stable/user_guide/indexing.html#returning-a-view-versus-a-copy\n",
            "  \n",
            "/usr/local/lib/python3.7/dist-packages/ipykernel_launcher.py:10: SettingWithCopyWarning: \n",
            "A value is trying to be set on a copy of a slice from a DataFrame.\n",
            "Try using .loc[row_indexer,col_indexer] = value instead\n",
            "\n",
            "See the caveats in the documentation: https://pandas.pydata.org/pandas-docs/stable/user_guide/indexing.html#returning-a-view-versus-a-copy\n",
            "  # Remove the CWD from sys.path while we load stuff.\n"
          ]
        },
        {
          "output_type": "display_data",
          "data": {
            "image/png": "[encoded data removed]",
            "text/plain": [
              "<Figure size 720x576 with 1 Axes>"
            ]
          },
          "metadata": {
            "needs_background": "light"
          }
        }
      ]
    },
    {
      "cell_type": "markdown",
      "metadata": {
        "id": "A5vqPqHlQhwB"
      },
      "source": [
        "# Positivity/negativity/neutrality composites of Trump's tweets by year"
      ]
    },
    {
      "cell_type": "code",
      "metadata": {
        "colab": {
          "base_uri": "https://localhost:8080/",
          "height": 509
        },
        "id": "B-74Dm_7iZIm",
        "outputId": "4270569e-27fe-4ea7-bdc5-cf8ebc18759a"
      },
      "source": [
        "# Create the visualization\n",
        "fig = plt.figure(figsize = (10,6))\n",
        "ax = fig.add_axes([0,0,1,1])\n",
        "ax.set_title(\"Mean positivity/negativity/neutrality of Trump's tweets by year\", fontsize=24)\n",
        "ax.tick_params(labelsize=14)\n",
        "\n",
        "# Compound plot\n",
        "data[\"year_month\"] = data[\"date\"].apply(lambda x: str(x.year)+\"-\"+str(x.month))\n",
        "data[\"year_month\"] = pd.to_datetime(data[\"year_month\"])\n",
        "year_month = pd.pivot_table(data, values = \"compound\", index = \"year_month\", aggfunc = \"mean\")\n",
        "ax.plot(year_month, lw = 5, color = \"blue\")\n",
        "\n",
        "\n",
        "ax.legend([\"pos\",\"neg\",\"neu\"], fontsize=18)\n",
        "\n",
        "plt.legend(\"\")\n",
        "plt.show()"
      ],
      "execution_count": 39,
      "outputs": [
        {
          "output_type": "display_data",
          "data": {
            "image/png": "[encoded data removed]",
            "text/plain": [
              "<Figure size 720x432 with 1 Axes>"
            ]
          },
          "metadata": {
            "needs_background": "light"
          }
        }
      ]
    },
    {
      "cell_type": "markdown",
      "metadata": {
        "id": "KE2ZtLeLRJep"
      },
      "source": [
        "# **Correlation between retweets, favorites and positivity**"
      ]
    },
    {
      "cell_type": "code",
      "metadata": {
        "colab": {
          "base_uri": "https://localhost:8080/",
          "height": 345
        },
        "id": "oOSSuxjaiGJH",
        "outputId": "b3439a05-9c52-4566-9aa4-6b52036736c6"
      },
      "source": [
        "# to know if his positives tweets influence the quantity of retweets/favorites need to \n",
        "#Look at the number of favorites and retweets is the way to know if people are interested in what Donald Trump tweeted.\n",
        "#to do this I used a graph to show the correlation between retweets, favorites and compound. There is a high correlation \n",
        "#between favorites and retweets and low correlation between compound and retweets and favorites\n",
        "#used function as annot to show the value inside the graph \n",
        "#used cmap for colour\n",
        "\n",
        "import seaborn as sns\n",
        "plt.figure(figsize = (9,5))\n",
        "plt.title(\"Correlation between retweets, favorites and positivity\\n\", fontsize = 10)\n",
        "sns.heatmap(data[[ \"pos\",\"retweets\",\"favorites\"]].corr(), annot = True, cmap=\"BuPu\")\n",
        "plt.show()"
      ],
      "execution_count": 40,
      "outputs": [
        {
          "output_type": "display_data",
          "data": {
            "image/png": "[encoded data removed]",
            "text/plain": [
              "<Figure size 648x360 with 2 Axes>"
            ]
          },
          "metadata": {
            "needs_background": "light"
          }
        }
      ]
    },
    {
      "cell_type": "code",
      "metadata": {
        "colab": {
          "base_uri": "https://localhost:8080/",
          "height": 913
        },
        "id": "xYVn7ikluv1v",
        "outputId": "8bd9af6a-65dc-4aa5-df9a-23877477c070"
      },
      "source": [
        "import matplotlib.pyplot as plt\n",
        "import seaborn as sns\n",
        "sns.set_style('darkgrid')\n",
        "plt.figure(figsize=(12,6))\n",
        "import plotly.graph_objs as go\n",
        "sns.countplot(x='sentiment',data=data)\n",
        "\n",
        "fig = go.Figure(go.Funnelarea(\n",
        "    text =temp.sentiment,\n",
        "    values = temp.text,\n",
        "    title = {\"position\": \"top center\", \"text\": \"Funnel-Chart of Sentiment Distribution\"}\n",
        "    ))\n",
        "fig.show()"
      ],
      "execution_count": 41,
      "outputs": [
        {
          "output_type": "display_data",
          "data": {
            "text/html": [
              "<html>\n",
              "<head><meta charset=\"utf-8\" /></head>\n",
              "<body>\n",
              "    <div>\n",
              "            <script src=\"https://cdnjs.cloudflare.com/ajax/libs/mathjax/2.7.5/MathJax.js?config=TeX-AMS-MML_SVG\"></script><script type=\"text/javascript\">if (window.MathJax) {MathJax.Hub.Config({SVG: {font: \"STIX-Web\"}});}</script>\n",
              "                <script type=\"text/javascript\">window.PlotlyConfig = {MathJaxConfig: 'local'};</script>\n",
              "        <script src=\"https://cdn.plot.ly/plotly-latest.min.js\"></script>    \n",
              "            <div id=\"3c06e57f-3c87-4ae8-9eaa-310d53a1d2cf\" class=\"plotly-graph-div\" style=\"height:525px; width:100%;\"></div>\n",
              "            <script type=\"text/javascript\">\n",
              "                \n",
              "                    window.PLOTLYENV=window.PLOTLYENV || {};\n",
              "                    \n",
              "                if (document.getElementById(\"3c06e57f-3c87-4ae8-9eaa-310d53a1d2cf\")) {\n",
              "                    Plotly.newPlot(\n",
              "                        '3c06e57f-3c87-4ae8-9eaa-310d53a1d2cf',\n",
              "                        [{\"text\": [\"Positive\", \"Negative\", \"Neutral\"], \"title\": {\"position\": \"top center\", \"text\": \"Funnel-Chart of Sentiment Distribution\"}, \"type\": \"funnelarea\", \"values\": [30533, 14455, 11583]}],\n",
              "                        {\"template\": {\"data\": {\"bar\": [{\"error_x\": {\"color\": \"#2a3f5f\"}, \"error_y\": {\"color\": \"#2a3f5f\"}, \"marker\": {\"line\": {\"color\": \"#E5ECF6\", \"width\": 0.5}}, \"type\": \"bar\"}], \"barpolar\": [{\"marker\": {\"line\": {\"color\": \"#E5ECF6\", \"width\": 0.5}}, \"type\": \"barpolar\"}], \"carpet\": [{\"aaxis\": {\"endlinecolor\": \"#2a3f5f\", \"gridcolor\": \"white\", \"linecolor\": \"white\", \"minorgridcolor\": \"white\", \"startlinecolor\": \"#2a3f5f\"}, \"baxis\": {\"endlinecolor\": \"#2a3f5f\", \"gridcolor\": \"white\", \"linecolor\": \"white\", \"minorgridcolor\": \"white\", \"startlinecolor\": \"#2a3f5f\"}, \"type\": \"carpet\"}], \"choropleth\": [{\"colorbar\": {\"outlinewidth\": 0, \"ticks\": \"\"}, \"type\": \"choropleth\"}], \"contour\": [{\"colorbar\": {\"outlinewidth\": 0, \"ticks\": \"\"}, \"colorscale\": [[0.0, \"#0d0887\"], [0.1111111111111111, \"#46039f\"], [0.2222222222222222, \"#7201a8\"], [0.3333333333333333, \"#9c179e\"], [0.4444444444444444, \"#bd3786\"], [0.5555555555555556, \"#d8576b\"], [0.6666666666666666, \"#ed7953\"], [0.7777777777777778, \"#fb9f3a\"], [0.8888888888888888, \"#fdca26\"], [1.0, \"#f0f921\"]], \"type\": \"contour\"}], \"contourcarpet\": [{\"colorbar\": {\"outlinewidth\": 0, \"ticks\": \"\"}, \"type\": \"contourcarpet\"}], \"heatmap\": [{\"colorbar\": {\"outlinewidth\": 0, \"ticks\": \"\"}, \"colorscale\": [[0.0, \"#0d0887\"], [0.1111111111111111, \"#46039f\"], [0.2222222222222222, \"#7201a8\"], [0.3333333333333333, \"#9c179e\"], [0.4444444444444444, \"#bd3786\"], [0.5555555555555556, \"#d8576b\"], [0.6666666666666666, \"#ed7953\"], [0.7777777777777778, \"#fb9f3a\"], [0.8888888888888888, \"#fdca26\"], [1.0, \"#f0f921\"]], \"type\": \"heatmap\"}], \"heatmapgl\": [{\"colorbar\": {\"outlinewidth\": 0, \"ticks\": \"\"}, \"colorscale\": [[0.0, \"#0d0887\"], [0.1111111111111111, \"#46039f\"], [0.2222222222222222, \"#7201a8\"], [0.3333333333333333, \"#9c179e\"], [0.4444444444444444, \"#bd3786\"], [0.5555555555555556, \"#d8576b\"], [0.6666666666666666, \"#ed7953\"], [0.7777777777777778, \"#fb9f3a\"], [0.8888888888888888, \"#fdca26\"], [1.0, \"#f0f921\"]], \"type\": \"heatmapgl\"}], \"histogram\": [{\"marker\": {\"colorbar\": {\"outlinewidth\": 0, \"ticks\": \"\"}}, \"type\": \"histogram\"}], \"histogram2d\": [{\"colorbar\": {\"outlinewidth\": 0, \"ticks\": \"\"}, \"colorscale\": [[0.0, \"#0d0887\"], [0.1111111111111111, \"#46039f\"], [0.2222222222222222, \"#7201a8\"], [0.3333333333333333, \"#9c179e\"], [0.4444444444444444, \"#bd3786\"], [0.5555555555555556, \"#d8576b\"], [0.6666666666666666, \"#ed7953\"], [0.7777777777777778, \"#fb9f3a\"], [0.8888888888888888, \"#fdca26\"], [1.0, \"#f0f921\"]], \"type\": \"histogram2d\"}], \"histogram2dcontour\": [{\"colorbar\": {\"outlinewidth\": 0, \"ticks\": \"\"}, \"colorscale\": [[0.0, \"#0d0887\"], [0.1111111111111111, \"#46039f\"], [0.2222222222222222, \"#7201a8\"], [0.3333333333333333, \"#9c179e\"], [0.4444444444444444, \"#bd3786\"], [0.5555555555555556, \"#d8576b\"], [0.6666666666666666, \"#ed7953\"], [0.7777777777777778, \"#fb9f3a\"], [0.8888888888888888, \"#fdca26\"], [1.0, \"#f0f921\"]], \"type\": \"histogram2dcontour\"}], \"mesh3d\": [{\"colorbar\": {\"outlinewidth\": 0, \"ticks\": \"\"}, \"type\": \"mesh3d\"}], \"parcoords\": [{\"line\": {\"colorbar\": {\"outlinewidth\": 0, \"ticks\": \"\"}}, \"type\": \"parcoords\"}], \"pie\": [{\"automargin\": true, \"type\": \"pie\"}], \"scatter\": [{\"marker\": {\"colorbar\": {\"outlinewidth\": 0, \"ticks\": \"\"}}, \"type\": \"scatter\"}], \"scatter3d\": [{\"line\": {\"colorbar\": {\"outlinewidth\": 0, \"ticks\": \"\"}}, \"marker\": {\"colorbar\": {\"outlinewidth\": 0, \"ticks\": \"\"}}, \"type\": \"scatter3d\"}], \"scattercarpet\": [{\"marker\": {\"colorbar\": {\"outlinewidth\": 0, \"ticks\": \"\"}}, \"type\": \"scattercarpet\"}], \"scattergeo\": [{\"marker\": {\"colorbar\": {\"outlinewidth\": 0, \"ticks\": \"\"}}, \"type\": \"scattergeo\"}], \"scattergl\": [{\"marker\": {\"colorbar\": {\"outlinewidth\": 0, \"ticks\": \"\"}}, \"type\": \"scattergl\"}], \"scattermapbox\": [{\"marker\": {\"colorbar\": {\"outlinewidth\": 0, \"ticks\": \"\"}}, \"type\": \"scattermapbox\"}], \"scatterpolar\": [{\"marker\": {\"colorbar\": {\"outlinewidth\": 0, \"ticks\": \"\"}}, \"type\": \"scatterpolar\"}], \"scatterpolargl\": [{\"marker\": {\"colorbar\": {\"outlinewidth\": 0, \"ticks\": \"\"}}, \"type\": \"scatterpolargl\"}], \"scatterternary\": [{\"marker\": {\"colorbar\": {\"outlinewidth\": 0, \"ticks\": \"\"}}, \"type\": \"scatterternary\"}], \"surface\": [{\"colorbar\": {\"outlinewidth\": 0, \"ticks\": \"\"}, \"colorscale\": [[0.0, \"#0d0887\"], [0.1111111111111111, \"#46039f\"], [0.2222222222222222, \"#7201a8\"], [0.3333333333333333, \"#9c179e\"], [0.4444444444444444, \"#bd3786\"], [0.5555555555555556, \"#d8576b\"], [0.6666666666666666, \"#ed7953\"], [0.7777777777777778, \"#fb9f3a\"], [0.8888888888888888, \"#fdca26\"], [1.0, \"#f0f921\"]], \"type\": \"surface\"}], \"table\": [{\"cells\": {\"fill\": {\"color\": \"#EBF0F8\"}, \"line\": {\"color\": \"white\"}}, \"header\": {\"fill\": {\"color\": \"#C8D4E3\"}, \"line\": {\"color\": \"white\"}}, \"type\": \"table\"}]}, \"layout\": {\"annotationdefaults\": {\"arrowcolor\": \"#2a3f5f\", \"arrowhead\": 0, \"arrowwidth\": 1}, \"coloraxis\": {\"colorbar\": {\"outlinewidth\": 0, \"ticks\": \"\"}}, \"colorscale\": {\"diverging\": [[0, \"#8e0152\"], [0.1, \"#c51b7d\"], [0.2, \"#de77ae\"], [0.3, \"#f1b6da\"], [0.4, \"#fde0ef\"], [0.5, \"#f7f7f7\"], [0.6, \"#e6f5d0\"], [0.7, \"#b8e186\"], [0.8, \"#7fbc41\"], [0.9, \"#4d9221\"], [1, \"#276419\"]], \"sequential\": [[0.0, \"#0d0887\"], [0.1111111111111111, \"#46039f\"], [0.2222222222222222, \"#7201a8\"], [0.3333333333333333, \"#9c179e\"], [0.4444444444444444, \"#bd3786\"], [0.5555555555555556, \"#d8576b\"], [0.6666666666666666, \"#ed7953\"], [0.7777777777777778, \"#fb9f3a\"], [0.8888888888888888, \"#fdca26\"], [1.0, \"#f0f921\"]], \"sequentialminus\": [[0.0, \"#0d0887\"], [0.1111111111111111, \"#46039f\"], [0.2222222222222222, \"#7201a8\"], [0.3333333333333333, \"#9c179e\"], [0.4444444444444444, \"#bd3786\"], [0.5555555555555556, \"#d8576b\"], [0.6666666666666666, \"#ed7953\"], [0.7777777777777778, \"#fb9f3a\"], [0.8888888888888888, \"#fdca26\"], [1.0, \"#f0f921\"]]}, \"colorway\": [\"#636efa\", \"#EF553B\", \"#00cc96\", \"#ab63fa\", \"#FFA15A\", \"#19d3f3\", \"#FF6692\", \"#B6E880\", \"#FF97FF\", \"#FECB52\"], \"font\": {\"color\": \"#2a3f5f\"}, \"geo\": {\"bgcolor\": \"white\", \"lakecolor\": \"white\", \"landcolor\": \"#E5ECF6\", \"showlakes\": true, \"showland\": true, \"subunitcolor\": \"white\"}, \"hoverlabel\": {\"align\": \"left\"}, \"hovermode\": \"closest\", \"mapbox\": {\"style\": \"light\"}, \"paper_bgcolor\": \"white\", \"plot_bgcolor\": \"#E5ECF6\", \"polar\": {\"angularaxis\": {\"gridcolor\": \"white\", \"linecolor\": \"white\", \"ticks\": \"\"}, \"bgcolor\": \"#E5ECF6\", \"radialaxis\": {\"gridcolor\": \"white\", \"linecolor\": \"white\", \"ticks\": \"\"}}, \"scene\": {\"xaxis\": {\"backgroundcolor\": \"#E5ECF6\", \"gridcolor\": \"white\", \"gridwidth\": 2, \"linecolor\": \"white\", \"showbackground\": true, \"ticks\": \"\", \"zerolinecolor\": \"white\"}, \"yaxis\": {\"backgroundcolor\": \"#E5ECF6\", \"gridcolor\": \"white\", \"gridwidth\": 2, \"linecolor\": \"white\", \"showbackground\": true, \"ticks\": \"\", \"zerolinecolor\": \"white\"}, \"zaxis\": {\"backgroundcolor\": \"#E5ECF6\", \"gridcolor\": \"white\", \"gridwidth\": 2, \"linecolor\": \"white\", \"showbackground\": true, \"ticks\": \"\", \"zerolinecolor\": \"white\"}}, \"shapedefaults\": {\"line\": {\"color\": \"#2a3f5f\"}}, \"ternary\": {\"aaxis\": {\"gridcolor\": \"white\", \"linecolor\": \"white\", \"ticks\": \"\"}, \"baxis\": {\"gridcolor\": \"white\", \"linecolor\": \"white\", \"ticks\": \"\"}, \"bgcolor\": \"#E5ECF6\", \"caxis\": {\"gridcolor\": \"white\", \"linecolor\": \"white\", \"ticks\": \"\"}}, \"title\": {\"x\": 0.05}, \"xaxis\": {\"automargin\": true, \"gridcolor\": \"white\", \"linecolor\": \"white\", \"ticks\": \"\", \"title\": {\"standoff\": 15}, \"zerolinecolor\": \"white\", \"zerolinewidth\": 2}, \"yaxis\": {\"automargin\": true, \"gridcolor\": \"white\", \"linecolor\": \"white\", \"ticks\": \"\", \"title\": {\"standoff\": 15}, \"zerolinecolor\": \"white\", \"zerolinewidth\": 2}}}},\n",
              "                        {\"responsive\": true}\n",
              "                    ).then(function(){\n",
              "                            \n",
              "var gd = document.getElementById('3c06e57f-3c87-4ae8-9eaa-310d53a1d2cf');\n",
              "var x = new MutationObserver(function (mutations, observer) {{\n",
              "        var display = window.getComputedStyle(gd).display;\n",
              "        if (!display || display === 'none') {{\n",
              "            console.log([gd, 'removed!']);\n",
              "            Plotly.purge(gd);\n",
              "            observer.disconnect();\n",
              "        }}\n",
              "}});\n",
              "\n",
              "// Listen for the removal of the full notebook cells\n",
              "var notebookContainer = gd.closest('#notebook-container');\n",
              "if (notebookContainer) {{\n",
              "    x.observe(notebookContainer, {childList: true});\n",
              "}}\n",
              "\n",
              "// Listen for the clearing of the current output cell\n",
              "var outputEl = gd.closest('.output');\n",
              "if (outputEl) {{\n",
              "    x.observe(outputEl, {childList: true});\n",
              "}}\n",
              "\n",
              "                        })\n",
              "                };\n",
              "                \n",
              "            </script>\n",
              "        </div>\n",
              "</body>\n",
              "</html>"
            ]
          },
          "metadata": {}
        },
        {
          "output_type": "display_data",
          "data": {
            "image/png": "[encoded data removed]",
            "text/plain": [
              "<Figure size 864x432 with 1 Axes>"
            ]
          },
          "metadata": {}
        }
      ]
    },
    {
      "cell_type": "markdown",
      "metadata": {
        "id": "v9wDQCFSUReJ"
      },
      "source": [
        "## Install WordCloud"
      ]
    },
    {
      "cell_type": "code",
      "metadata": {
        "colab": {
          "base_uri": "https://localhost:8080/"
        },
        "id": "xfwFaSpFUReJ",
        "outputId": "e61b6c52-c507-4c1e-c620-fc60e0382c51"
      },
      "source": [
        "#library used to display a word cloud\n",
        "!pip install WordCloud"
      ],
      "execution_count": 42,
      "outputs": [
        {
          "output_type": "stream",
          "name": "stdout",
          "text": [
            "Requirement already satisfied: WordCloud in /usr/local/lib/python3.7/dist-packages (1.5.0)\n",
            "Requirement already satisfied: numpy>=1.6.1 in /usr/local/lib/python3.7/dist-packages (from WordCloud) (1.19.5)\n",
            "Requirement already satisfied: pillow in /usr/local/lib/python3.7/dist-packages (from WordCloud) (7.1.2)\n"
          ]
        }
      ]
    },
    {
      "cell_type": "markdown",
      "metadata": {
        "id": "ttiTXtIVUReJ"
      },
      "source": [
        "## Words to ignore"
      ]
    },
    {
      "cell_type": "code",
      "metadata": {
        "id": "5s2g3uimUReJ"
      },
      "source": [
        "#ignoring the words I don't want to show\n",
        "to_ignore = ['realdonaldtrump', 'rt']"
      ],
      "execution_count": 43,
      "outputs": []
    },
    {
      "cell_type": "markdown",
      "metadata": {
        "id": "uMbVI5G4UReK"
      },
      "source": [
        "## WordCloud"
      ]
    },
    {
      "cell_type": "code",
      "metadata": {
        "colab": {
          "base_uri": "https://localhost:8080/",
          "height": 327
        },
        "id": "z2a_JAMnwJsi",
        "outputId": "c125ea37-e58a-426c-c1a2-843b64da7d73"
      },
      "source": [
        "from wordcloud import WordCloud, STOPWORDS , ImageColorGenerator\n",
        "import re\n",
        "\n",
        "tweet_All = \" \".join(re.sub(r\"\\b[a-zA-Z]\\b\", \"\", review) for review in data.text)\n",
        "for ig in to_ignore:\n",
        "    tweet_All = tweet_All.replace(ig, '')\n",
        "\n",
        "\n",
        "fig, ax = plt.subplots(1, 1, figsize  = (10,10))\n",
        "# Create and generate a word cloud image:\n",
        "wordcloud_ALL = WordCloud(max_font_size=50, max_words=100, background_color=\"black\").generate(tweet_All)\n",
        "\n",
        "# Display the generated image:\n",
        "ax.imshow(wordcloud_ALL, interpolation='bilinear')\n",
        "\n",
        "ax.axis('off')"
      ],
      "execution_count": 44,
      "outputs": [
        {
          "output_type": "execute_result",
          "data": {
            "text/plain": [
              "(-0.5, 399.5, 199.5, -0.5)"
            ]
          },
          "metadata": {},
          "execution_count": 44
        },
        {
          "output_type": "display_data",
          "data": {
            "image/png": "[encoded data removed]",
            "text/plain": [
              "<Figure size 720x720 with 1 Axes>"
            ]
          },
          "metadata": {}
        }
      ]
    },
    {
      "cell_type": "code",
      "metadata": {
        "colab": {
          "base_uri": "https://localhost:8080/",
          "height": 363
        },
        "id": "0zOKVNVqUReK",
        "outputId": "d7ebe077-5494-42e6-e176-67a0eeb30204"
      },
      "source": [
        "#printing tweets and sentiments\n",
        "data.head(n=10)"
      ],
      "execution_count": 45,
      "outputs": [
        {
          "output_type": "execute_result",
          "data": {
            "text/html": [
              "<div>\n",
              "<style scoped>\n",
              "    .dataframe tbody tr th:only-of-type {\n",
              "        vertical-align: middle;\n",
              "    }\n",
              "\n",
              "    .dataframe tbody tr th {\n",
              "        vertical-align: top;\n",
              "    }\n",
              "\n",
              "    .dataframe thead th {\n",
              "        text-align: right;\n",
              "    }\n",
              "</style>\n",
              "<table border=\"1\" class=\"dataframe\">\n",
              "  <thead>\n",
              "    <tr style=\"text-align: right;\">\n",
              "      <th></th>\n",
              "      <th>text</th>\n",
              "      <th>favorites</th>\n",
              "      <th>retweets</th>\n",
              "      <th>date</th>\n",
              "      <th>sentiment</th>\n",
              "      <th>year_month</th>\n",
              "      <th>polarity</th>\n",
              "      <th>pos</th>\n",
              "      <th>neg</th>\n",
              "      <th>neu</th>\n",
              "      <th>compound</th>\n",
              "    </tr>\n",
              "  </thead>\n",
              "  <tbody>\n",
              "    <tr>\n",
              "      <th>0</th>\n",
              "      <td>republicans and democrats have both created ou...</td>\n",
              "      <td>49</td>\n",
              "      <td>255</td>\n",
              "      <td>2011-08-02 18:07:48</td>\n",
              "      <td>Negative</td>\n",
              "      <td>2011-08-01</td>\n",
              "      <td>{'neg': 0.231, 'neu': 0.598, 'pos': 0.171, 'co...</td>\n",
              "      <td>0.171</td>\n",
              "      <td>0.231</td>\n",
              "      <td>0.598</td>\n",
              "      <td>-0.1779</td>\n",
              "    </tr>\n",
              "    <tr>\n",
              "      <th>1</th>\n",
              "      <td>i was thrilled to be back in the great city of...</td>\n",
              "      <td>73748</td>\n",
              "      <td>17404</td>\n",
              "      <td>2020-03-03 01:34:50</td>\n",
              "      <td>Positive</td>\n",
              "      <td>2020-03-01</td>\n",
              "      <td>{'neg': 0.0, 'neu': 0.561, 'pos': 0.439, 'comp...</td>\n",
              "      <td>0.439</td>\n",
              "      <td>0.000</td>\n",
              "      <td>0.561</td>\n",
              "      <td>0.9771</td>\n",
              "    </tr>\n",
              "    <tr>\n",
              "      <th>2</th>\n",
              "      <td>rt cbsherridge read letter to surveillance cou...</td>\n",
              "      <td>0</td>\n",
              "      <td>7396</td>\n",
              "      <td>2020-01-17 03:22:47</td>\n",
              "      <td>Neutral</td>\n",
              "      <td>2020-01-01</td>\n",
              "      <td>{'neg': 0.0, 'neu': 1.0, 'pos': 0.0, 'compound...</td>\n",
              "      <td>0.000</td>\n",
              "      <td>0.000</td>\n",
              "      <td>1.000</td>\n",
              "      <td>0.0000</td>\n",
              "    </tr>\n",
              "    <tr>\n",
              "      <th>3</th>\n",
              "      <td>the unsolicited mail in ballot scam is a major...</td>\n",
              "      <td>80527</td>\n",
              "      <td>23502</td>\n",
              "      <td>2020-09-12 20:10:58</td>\n",
              "      <td>Negative</td>\n",
              "      <td>2020-09-01</td>\n",
              "      <td>{'neg': 0.284, 'neu': 0.716, 'pos': 0.0, 'comp...</td>\n",
              "      <td>0.000</td>\n",
              "      <td>0.284</td>\n",
              "      <td>0.716</td>\n",
              "      <td>-0.9552</td>\n",
              "    </tr>\n",
              "    <tr>\n",
              "      <th>4</th>\n",
              "      <td>rt mzhemingway very friendly telling of events...</td>\n",
              "      <td>0</td>\n",
              "      <td>9081</td>\n",
              "      <td>2020-01-17 13:13:59</td>\n",
              "      <td>Positive</td>\n",
              "      <td>2020-01-01</td>\n",
              "      <td>{'neg': 0.0, 'neu': 0.857, 'pos': 0.143, 'comp...</td>\n",
              "      <td>0.143</td>\n",
              "      <td>0.000</td>\n",
              "      <td>0.857</td>\n",
              "      <td>0.5413</td>\n",
              "    </tr>\n",
              "    <tr>\n",
              "      <th>5</th>\n",
              "      <td>rt whitehouse president realdonaldtrump announ...</td>\n",
              "      <td>0</td>\n",
              "      <td>25048</td>\n",
              "      <td>2020-01-17 00:11:56</td>\n",
              "      <td>Positive</td>\n",
              "      <td>2020-01-01</td>\n",
              "      <td>{'neg': 0.0, 'neu': 0.754, 'pos': 0.246, 'comp...</td>\n",
              "      <td>0.246</td>\n",
              "      <td>0.000</td>\n",
              "      <td>0.754</td>\n",
              "      <td>0.5994</td>\n",
              "    </tr>\n",
              "    <tr>\n",
              "      <th>6</th>\n",
              "      <td>getting a little exercise this morning</td>\n",
              "      <td>285863</td>\n",
              "      <td>30209</td>\n",
              "      <td>2020-02-01 16:14:02</td>\n",
              "      <td>Neutral</td>\n",
              "      <td>2020-02-01</td>\n",
              "      <td>{'neg': 0.0, 'neu': 1.0, 'pos': 0.0, 'compound...</td>\n",
              "      <td>0.000</td>\n",
              "      <td>0.000</td>\n",
              "      <td>1.000</td>\n",
              "      <td>0.0000</td>\n",
              "    </tr>\n",
              "    <tr>\n",
              "      <th>7</th>\n",
              "      <td></td>\n",
              "      <td>130822</td>\n",
              "      <td>19127</td>\n",
              "      <td>2020-10-23 04:52:14</td>\n",
              "      <td>Neutral</td>\n",
              "      <td>2020-10-01</td>\n",
              "      <td>{'neg': 0.0, 'neu': 0.0, 'pos': 0.0, 'compound...</td>\n",
              "      <td>0.000</td>\n",
              "      <td>0.000</td>\n",
              "      <td>0.000</td>\n",
              "      <td>0.0000</td>\n",
              "    </tr>\n",
              "    <tr>\n",
              "      <th>8</th>\n",
              "      <td></td>\n",
              "      <td>153446</td>\n",
              "      <td>20275</td>\n",
              "      <td>2020-10-23 04:46:53</td>\n",
              "      <td>Neutral</td>\n",
              "      <td>2020-10-01</td>\n",
              "      <td>{'neg': 0.0, 'neu': 0.0, 'pos': 0.0, 'compound...</td>\n",
              "      <td>0.000</td>\n",
              "      <td>0.000</td>\n",
              "      <td>0.000</td>\n",
              "      <td>0.0000</td>\n",
              "    </tr>\n",
              "    <tr>\n",
              "      <th>9</th>\n",
              "      <td></td>\n",
              "      <td>102150</td>\n",
              "      <td>14815</td>\n",
              "      <td>2020-10-23 04:46:49</td>\n",
              "      <td>Neutral</td>\n",
              "      <td>2020-10-01</td>\n",
              "      <td>{'neg': 0.0, 'neu': 0.0, 'pos': 0.0, 'compound...</td>\n",
              "      <td>0.000</td>\n",
              "      <td>0.000</td>\n",
              "      <td>0.000</td>\n",
              "      <td>0.0000</td>\n",
              "    </tr>\n",
              "  </tbody>\n",
              "</table>\n",
              "</div>"
            ],
            "text/plain": [
              "                                                text  ...  compound\n",
              "0  republicans and democrats have both created ou...  ...   -0.1779\n",
              "1  i was thrilled to be back in the great city of...  ...    0.9771\n",
              "2  rt cbsherridge read letter to surveillance cou...  ...    0.0000\n",
              "3  the unsolicited mail in ballot scam is a major...  ...   -0.9552\n",
              "4  rt mzhemingway very friendly telling of events...  ...    0.5413\n",
              "5  rt whitehouse president realdonaldtrump announ...  ...    0.5994\n",
              "6            getting a little exercise this morning   ...    0.0000\n",
              "7                                                     ...    0.0000\n",
              "8                                                     ...    0.0000\n",
              "9                                                     ...    0.0000\n",
              "\n",
              "[10 rows x 11 columns]"
            ]
          },
          "metadata": {},
          "execution_count": 45
        }
      ]
    },
    {
      "cell_type": "markdown",
      "metadata": {
        "id": "qXkrr12BUReL"
      },
      "source": [
        "# Histogram of Positive, Negative and Neutral Adjectives"
      ]
    },
    {
      "cell_type": "code",
      "metadata": {
        "colab": {
          "base_uri": "https://localhost:8080/"
        },
        "id": "tjFvj4coUReL",
        "outputId": "9d704973-27cf-4b4c-ca79-4c1061692d49"
      },
      "source": [
        "!pip install nltk # installing the NLTK is a leading platform for building Python programs to work with human language data.\n",
        "import nltk\n",
        "nltk.download('punkt') #This tokenizer divides a text into a list of sentences\n",
        "nltk.download('averaged_perceptron_tagger')#is used for tagging words with their parts of speech (POS). We also need to set the add this directory to the NLTK data path.\n",
        "nltk.download('wordnet')#used for the lemmatization"
      ],
      "execution_count": 46,
      "outputs": [
        {
          "output_type": "stream",
          "name": "stdout",
          "text": [
            "Requirement already satisfied: nltk in /usr/local/lib/python3.7/dist-packages (3.2.5)\n",
            "Requirement already satisfied: six in /usr/local/lib/python3.7/dist-packages (from nltk) (1.15.0)\n",
            "[nltk_data] Downloading package punkt to /root/nltk_data...\n",
            "[nltk_data]   Unzipping tokenizers/punkt.zip.\n",
            "[nltk_data] Downloading package averaged_perceptron_tagger to\n",
            "[nltk_data]     /root/nltk_data...\n",
            "[nltk_data]   Unzipping taggers/averaged_perceptron_tagger.zip.\n",
            "[nltk_data] Downloading package wordnet to /root/nltk_data...\n",
            "[nltk_data]   Unzipping corpora/wordnet.zip.\n"
          ]
        },
        {
          "output_type": "execute_result",
          "data": {
            "text/plain": [
              "True"
            ]
          },
          "metadata": {},
          "execution_count": 46
        }
      ]
    },
    {
      "cell_type": "code",
      "metadata": {
        "id": "cZRSOm9BUReL"
      },
      "source": [
        "from nltk.stem import PorterStemmer # library to Stemming words\n",
        "from nltk.tokenize import word_tokenize # library to tokenizing words"
      ],
      "execution_count": 47,
      "outputs": []
    },
    {
      "cell_type": "markdown",
      "metadata": {
        "id": "ojdxOFZXUReL"
      },
      "source": [
        "## List with all words and remove duplicates"
      ]
    },
    {
      "cell_type": "code",
      "metadata": {
        "colab": {
          "base_uri": "https://localhost:8080/"
        },
        "id": "CfyT7IjIUReL",
        "outputId": "f78fe829-4ad2-4945-be7b-ef2ea8298c6e"
      },
      "source": [
        "# creating a list of words using the method word_tokenize() to split a sentence into words,\n",
        "# removing duplicates tweets ( if word not in tweet_words: ) if there is the word will not add again\n",
        "#then use the method append to create a list for words and show how many hows we have.\n",
        "tweet_words = []\n",
        "for word in word_tokenize(tweet_All):\n",
        "    if word not in tweet_words:\n",
        "        tweet_words.append(word)\n",
        "print('Number of words: {}'.format(len(tweet_words)))"
      ],
      "execution_count": 48,
      "outputs": [
        {
          "output_type": "stream",
          "name": "stdout",
          "text": [
            "Number of words: 50988\n"
          ]
        }
      ]
    },
    {
      "cell_type": "code",
      "metadata": {
        "id": "b5gptxHwUReM",
        "colab": {
          "base_uri": "https://localhost:8080/"
        },
        "outputId": "ff03337e-11a9-4d5b-a3c9-1d74e2e5d15d"
      },
      "source": [
        "#Showing from 0 to 10 tweets \n",
        "tweet_words[0:10]"
      ],
      "execution_count": 49,
      "outputs": [
        {
          "output_type": "execute_result",
          "data": {
            "text/plain": [
              "['republicans',\n",
              " 'and',\n",
              " 'democrats',\n",
              " 'have',\n",
              " 'both',\n",
              " 'created',\n",
              " 'our',\n",
              " 'economic',\n",
              " 'problems',\n",
              " 'was']"
            ]
          },
          "metadata": {},
          "execution_count": 49
        }
      ]
    },
    {
      "cell_type": "markdown",
      "metadata": {
        "id": "fmp_ztIIUReM"
      },
      "source": [
        "## Tokenize and separate the adjectives"
      ]
    },
    {
      "cell_type": "code",
      "metadata": {
        "colab": {
          "base_uri": "https://localhost:8080/"
        },
        "id": "TIuORwfaUReM",
        "outputId": "1f45ee35-28b3-4a59-eaed-250988e0d832"
      },
      "source": [
        "# separating a piece of text into smaller, separating the adjectives, \n",
        "#using pos_tag takes each list of the word, \n",
        "#compares it with the database, to know if it is an adjective, verb\n",
        "#each element of the list becomes a tuple and when is JJ it is adjective\n",
        "#searches the list for just the word that is JJ and and adds adjective list\n",
        "#then print the amount of adjectives\n",
        "\n",
        "words_tags = nltk.pos_tag(tweet_words)\n",
        "tweet_adj = []\n",
        "for word_tag in words_tags:\n",
        "    if word_tag[1] == 'JJ':\n",
        "        tweet_adj.append(word_tag[0])\n",
        "        \n",
        "print('Number of adjectives: {}'.format(len(tweet_adj)))\n",
        "words_tags"
      ],
      "execution_count": 50,
      "outputs": [
        {
          "output_type": "stream",
          "name": "stdout",
          "text": [
            "Number of adjectives: 9336\n"
          ]
        },
        {
          "output_type": "execute_result",
          "data": {
            "text/plain": [
              "[('republicans', 'NNS'),\n",
              " ('and', 'CC'),\n",
              " ('democrats', 'NNS'),\n",
              " ('have', 'VBP'),\n",
              " ('both', 'DT'),\n",
              " ('created', 'VBN'),\n",
              " ('our', 'PRP$'),\n",
              " ('economic', 'JJ'),\n",
              " ('problems', 'NNS'),\n",
              " ('was', 'VBD'),\n",
              " ('thrilled', 'VBN'),\n",
              " ('to', 'TO'),\n",
              " ('be', 'VB'),\n",
              " ('back', 'RB'),\n",
              " ('in', 'IN'),\n",
              " ('the', 'DT'),\n",
              " ('great', 'JJ'),\n",
              " ('city', 'NN'),\n",
              " ('of', 'IN'),\n",
              " ('charlotte', 'NN'),\n",
              " ('noh', 'NNS'),\n",
              " ('carolina', 'VBP'),\n",
              " ('with', 'IN'),\n",
              " ('thousands', 'NNS'),\n",
              " ('hardworking', 'VBG'),\n",
              " ('american', 'JJ'),\n",
              " ('patriots', 'NNS'),\n",
              " ('who', 'WP'),\n",
              " ('love', 'VBP'),\n",
              " ('country', 'NN'),\n",
              " ('cherish', 'JJ'),\n",
              " ('values', 'NNS'),\n",
              " ('respect', 'VBP'),\n",
              " ('laws', 'NNS'),\n",
              " ('always', 'RB'),\n",
              " ('put', 'VBD'),\n",
              " ('america', 'RP'),\n",
              " ('first', 'JJ'),\n",
              " ('thank', 'NN'),\n",
              " ('you', 'PRP'),\n",
              " ('for', 'IN'),\n",
              " ('wonderful', 'JJ'),\n",
              " ('evening', 'NN'),\n",
              " ('cbsherridge', 'NN'),\n",
              " ('read', 'VBP'),\n",
              " ('letter', 'NN'),\n",
              " ('surveillance', 'NN'),\n",
              " ('cou', 'NN'),\n",
              " ('obtained', 'VBN'),\n",
              " ('by', 'IN'),\n",
              " ('cbs', 'JJ'),\n",
              " ('news', 'NN'),\n",
              " ('questions', 'NNS'),\n",
              " ('where', 'WRB'),\n",
              " ('there', 'EX'),\n",
              " ('will', 'MD'),\n",
              " ('fuher', 'VB'),\n",
              " ('disciplinary', 'JJ'),\n",
              " ('action', 'NN'),\n",
              " ('choa\\x80¦', 'NN'),\n",
              " ('unsolicited', 'JJ'),\n",
              " ('mail', 'NN'),\n",
              " ('ballot', 'NN'),\n",
              " ('scam', 'NN'),\n",
              " ('is', 'VBZ'),\n",
              " ('major', 'JJ'),\n",
              " ('threat', 'NN'),\n",
              " ('democracy', 'NN'),\n",
              " ('amp', 'NN'),\n",
              " ('know', 'VBP'),\n",
              " ('it', 'PRP'),\n",
              " ('almost', 'RB'),\n",
              " ('all', 'DT'),\n",
              " ('recent', 'JJ'),\n",
              " ('elections', 'NNS'),\n",
              " ('using', 'VBG'),\n",
              " ('this', 'DT'),\n",
              " ('system', 'NN'),\n",
              " ('even', 'RB'),\n",
              " ('though', 'IN'),\n",
              " ('much', 'JJ'),\n",
              " ('smaller', 'JJR'),\n",
              " ('far', 'RB'),\n",
              " ('fewer', 'JJR'),\n",
              " ('ballots', 'JJ'),\n",
              " ('count', 'NN'),\n",
              " ('ended', 'VBD'),\n",
              " ('up', 'RP'),\n",
              " ('being', 'VBG'),\n",
              " ('disaster', 'NN'),\n",
              " ('large', 'JJ'),\n",
              " ('numbers', 'NNS'),\n",
              " ('missing', 'VBG'),\n",
              " ('fraud', 'NN'),\n",
              " ('mzhemingway', 'RB'),\n",
              " ('very', 'RB'),\n",
              " ('friendly', 'JJ'),\n",
              " ('telling', 'VBG'),\n",
              " ('events', 'NNS'),\n",
              " ('here', 'RB'),\n",
              " ('about', 'IN'),\n",
              " ('comeys', 'NNS'),\n",
              " ('apparent', 'JJ'),\n",
              " ('leaking', 'VBG'),\n",
              " ('compliant', 'JJ'),\n",
              " ('media', 'NNS'),\n",
              " ('if', 'IN'),\n",
              " ('those', 'DT'),\n",
              " ('aicles', 'NNS'),\n",
              " ('thoa\\x80¦', 'VBP'),\n",
              " ('whitehouse', 'IN'),\n",
              " ('president', 'NN'),\n",
              " ('announced', 'VBD'),\n",
              " ('historic', 'JJ'),\n",
              " ('steps', 'NNS'),\n",
              " ('protect', 'VBP'),\n",
              " ('constitutional', 'JJ'),\n",
              " ('right', 'JJ'),\n",
              " ('pray', 'NN'),\n",
              " ('public', 'JJ'),\n",
              " ('schools', 'NNS'),\n",
              " ('getting', 'VBG'),\n",
              " ('little', 'JJ'),\n",
              " ('exercise', 'NN'),\n",
              " ('morning', 'NN'),\n",
              " ('erictrump', 'NN'),\n",
              " ('gopchairwoman', 'NN'),\n",
              " ('boom', 'NN'),\n",
              " ('continues', 'VBZ'),\n",
              " ('jobs', 'NNS'),\n",
              " ('added', 'VBD'),\n",
              " ('february', 'JJ'),\n",
              " ('since', 'IN'),\n",
              " ('electedunemployma\\x80¦', 'JJ'),\n",
              " ('tomfitton', 'NN'),\n",
              " ('vindmans', 'NNS'),\n",
              " ('behavior', 'VBP'),\n",
              " ('scandal', 'NN'),\n",
              " ('he', 'PRP'),\n",
              " ('should', 'MD'),\n",
              " ('removed', 'VB'),\n",
              " ('from', 'IN'),\n",
              " ('white', 'JJ'),\n",
              " ('house', 'NN'),\n",
              " ('asap', 'JJ'),\n",
              " ('foreign', 'JJ'),\n",
              " ('polia\\x80¦', 'NN'),\n",
              " ('elise', 'NN'),\n",
              " ('as', 'IN'),\n",
              " ('per', 'IN'),\n",
              " ('your', 'PRP$'),\n",
              " ('request', 'NN'),\n",
              " ('joe', 'NN'),\n",
              " ('marklevinshow', 'NN'),\n",
              " ('trump', 'NN'),\n",
              " ('outstandinga', 'NN'),\n",
              " ('couldnt', 'NN'),\n",
              " ('proudera', 'NN'),\n",
              " ('biden', 'NN'),\n",
              " ('making', 'NN'),\n",
              " ('faces', 'VBZ'),\n",
              " ('dishonest', 'JJS'),\n",
              " ('some', 'DT'),\n",
              " ('hia\\x80¦', 'NN'),\n",
              " ('realrlimbaugh', 'IN'),\n",
              " ('winning', 'VBG'),\n",
              " ('threshold', 'JJ'),\n",
              " ('identification', 'NN'),\n",
              " ('turning', 'VBG'),\n",
              " ('out', 'RP'),\n",
              " ('bigger', 'JJR'),\n",
              " ('than', 'IN'),\n",
              " ('originally', 'RB'),\n",
              " ('anticipated', 'VBN'),\n",
              " ('number', 'NN'),\n",
              " ('are', 'VBP'),\n",
              " ('impacted', 'VBN'),\n",
              " ('stay', 'NN'),\n",
              " ('tuned', 'VBN'),\n",
              " ('\\x80\\x9cia\\x80\\x99', 'CD'),\n",
              " ('running', 'VBG'),\n",
              " ('proud', 'JJ'),\n",
              " ('democrat', 'NN'),\n",
              " ('senatea\\x80\\x9d', 'NN'),\n",
              " ('sleepy', 'NN'),\n",
              " ('today', 'NN'),\n",
              " ('ita\\x80\\x99', 'VBZ'),\n",
              " ('only', 'RB'),\n",
              " ('going', 'VBG'),\n",
              " ('get', 'VB'),\n",
              " ('worse', 'JJR'),\n",
              " ('not', 'RB'),\n",
              " ('sustainable', 'JJ'),\n",
              " ('county', 'NN'),\n",
              " ('china', 'NN'),\n",
              " ('own', 'JJ'),\n",
              " ('us', 'PRP'),\n",
              " ('huge', 'JJ'),\n",
              " ('win', 'NN'),\n",
              " ('united', 'JJ'),\n",
              " ('states', 'NNS'),\n",
              " ('peace', 'VBP'),\n",
              " ('world', 'NN'),\n",
              " ('sudan', 'NN'),\n",
              " ('has', 'VBZ'),\n",
              " ('agreed', 'VBN'),\n",
              " ('normalization', 'NN'),\n",
              " ('agreement', 'NN'),\n",
              " ('israel', 'NN'),\n",
              " ('arab', 'NN'),\n",
              " ('emirates', 'VBZ'),\n",
              " ('bahrain', 'VBP'),\n",
              " ('thata\\x80\\x99', 'JJ'),\n",
              " ('three', 'CD'),\n",
              " ('araba', 'NN'),\n",
              " ('countries', 'NNS'),\n",
              " ('done', 'VBN'),\n",
              " ('so', 'RB'),\n",
              " ('matter', 'JJ'),\n",
              " ('weeks', 'NNS'),\n",
              " ('more', 'RBR'),\n",
              " ('follow', 'JJ'),\n",
              " ('therightmelissa', 'NN'),\n",
              " ('guarantee', 'NN'),\n",
              " ('time', 'NN'),\n",
              " ('millions', 'NNS'),\n",
              " ('americans', 'NNS'),\n",
              " ('learned', 'VBD'),\n",
              " ('\\x80\\x9ckids', 'NNS'),\n",
              " ('cagesa\\x80\\x9d', 'NN'),\n",
              " ('obama', 'NN'),\n",
              " ('because', 'IN'),\n",
              " ('media\\x80¦', 'JJ'),\n",
              " ('megyn', 'JJ'),\n",
              " ('days', 'NNS'),\n",
              " ('maga', 'VBP'),\n",
              " ('megynkelly', 'RB'),\n",
              " ('won', 'JJ'),\n",
              " ('debate', 'NN'),\n",
              " ('handily', 'RB'),\n",
              " ('wasna\\x80\\x99', 'JJ'),\n",
              " ('force', 'NN'),\n",
              " ('at', 'IN'),\n",
              " ('substantive', 'JJ'),\n",
              " ('onpoint', 'NN'),\n",
              " ('welltempered', 'VBD'),\n",
              " ('definitely', 'RB'),\n",
              " ('hela\\x80¦', 'JJ'),\n",
              " ('nevada', 'JJ'),\n",
              " ('cesspool', 'NN'),\n",
              " ('fake', 'VBP'),\n",
              " ('votes', 'NNS'),\n",
              " ('mschlapp', 'VBP'),\n",
              " ('adamlaxalt', 'IN'),\n",
              " ('finding', 'VBG'),\n",
              " ('things', 'NNS'),\n",
              " ('that', 'IN'),\n",
              " ('when', 'WRB'),\n",
              " ('released', 'VBN'),\n",
              " ('absolutely', 'RB'),\n",
              " ('shocking', 'VBG'),\n",
              " ('wisconsin', 'NN'),\n",
              " ('looking', 'VBG'),\n",
              " ('good', 'JJ'),\n",
              " ('needs', 'NNS'),\n",
              " ('statutorily', 'RB'),\n",
              " ('happen', 'VB'),\n",
              " ('soon', 'RB'),\n",
              " ('reince', 'NN'),\n",
              " ('seanduffywi', 'NN'),\n",
              " ('nobody', 'NN'),\n",
              " ('showing', 'VBG'),\n",
              " ('obamaa\\x80\\x99', 'JJ'),\n",
              " ('hate', 'NN'),\n",
              " ('laced', 'VBD'),\n",
              " ('speeches', 'NNS'),\n",
              " ('people', 'NNS'),\n",
              " ('no', 'DT'),\n",
              " ('energy', 'NN'),\n",
              " ('but', 'CC'),\n",
              " ('still', 'RB'),\n",
              " ('better', 'JJR'),\n",
              " ('pennsylvania', 'NN'),\n",
              " ('prevented', 'VBD'),\n",
              " ('watching', 'VBG'),\n",
              " ('unthinkable', 'JJ'),\n",
              " ('illegal', 'JJ'),\n",
              " ('just', 'RB'),\n",
              " ('landed', 'VBN'),\n",
              " ('ohio', 'RP'),\n",
              " ('see', 'VBP'),\n",
              " ('while', 'IN'),\n",
              " ('day', 'NN'),\n",
              " ('georgia', 'VBP'),\n",
              " ('big', 'JJ'),\n",
              " ('presidential', 'JJ'),\n",
              " ('night', 'NN'),\n",
              " ('election', 'NN'),\n",
              " ('vote', 'IN'),\n",
              " ('how', 'WRB'),\n",
              " ('can', 'MD'),\n",
              " ('ceify', 'VB'),\n",
              " ('an', 'DT'),\n",
              " ('ceified', 'JJ'),\n",
              " ('verifiably', 'NN'),\n",
              " ('wrong', 'JJ'),\n",
              " ('real', 'JJ'),\n",
              " ('tonight', 'NN'),\n",
              " ('during', 'IN'),\n",
              " ('my', 'PRP$'),\n",
              " ('speech', 'NN'),\n",
              " ('especially', 'RB'),\n",
              " ('on', 'IN'),\n",
              " ('january', 'JJ'),\n",
              " ('sentomcotton', 'NN'),\n",
              " ('pluses', 'VBZ'),\n",
              " ('minuses', 'VBZ'),\n",
              " ('one', 'CD'),\n",
              " ('thing', 'NN'),\n",
              " ('sure', 'NN'),\n",
              " ('they', 'PRP'),\n",
              " ('never', 'RB'),\n",
              " ('forget', 'VBP'),\n",
              " ('leaving', 'VBG'),\n",
              " ('now', 'RB'),\n",
              " ('teamtrump', 'VBP'),\n",
              " ('live', 'JJ'),\n",
              " ('press', 'NN'),\n",
              " ('conference', 'NN'),\n",
              " ('kayleigh', 'VBD'),\n",
              " ('mcenany', 'JJ'),\n",
              " ('rnc', 'NN'),\n",
              " ('chairwoman', 'NN'),\n",
              " ('ronna', 'NN'),\n",
              " ('mcdaniel', 'VBZ'),\n",
              " ('ryanafournier', 'JJR'),\n",
              " ('look', 'NN'),\n",
              " ('size', 'NN'),\n",
              " ('crowd', 'VBP'),\n",
              " ('down', 'RP'),\n",
              " ('avemore', 'RB'),\n",
              " ('million', 'CD'),\n",
              " ('showed', 'VBD'),\n",
              " ('suppo', 'JJ'),\n",
              " ('presidenta\\x80¦', 'NN'),\n",
              " ('mrandyngo', 'NN'),\n",
              " ('blmantifa', 'NN'),\n",
              " ('thugs', 'VBP'),\n",
              " ('around', 'IN'),\n",
              " ('beating', 'VBG'),\n",
              " ('streets', 'NNS'),\n",
              " ('dc', 'JJ'),\n",
              " ('video', 'NN'),\n",
              " ('venturarepo', 'NN'),\n",
              " ('young', 'JJ'),\n",
              " ('couple', 'NN'),\n",
              " ('followed', 'VBD'),\n",
              " ('hit', 'VB'),\n",
              " ('them', 'PRP'),\n",
              " ('throw', 'VB'),\n",
              " ('liquid', 'JJ'),\n",
              " ('millionmagamarch', 'NN'),\n",
              " ('chanelrion', 'NN'),\n",
              " ('developing', 'VBG'),\n",
              " ('dominionvotingsystems', 'NNS'),\n",
              " ('glitched', 'VBD'),\n",
              " ('favor', 'NN'),\n",
              " ('used', 'VBN'),\n",
              " ('panered', 'JJ'),\n",
              " ('wita\\x80¦', 'NN'),\n",
              " ('alexbruesewitz', 'NN'),\n",
              " ('honor', 'NN'),\n",
              " ('speak', 'NN'),\n",
              " ('tens', 'NNS'),\n",
              " ('marchforumpwe', 'VBP'),\n",
              " ('majoria\\x80¦', 'NN'),\n",
              " ('\\x80\\x9cwea\\x80\\x99ve', 'NN'),\n",
              " ('seen', 'VBN'),\n",
              " ('last', 'JJ'),\n",
              " ('few', 'JJ'),\n",
              " ('months', 'NNS'),\n",
              " ('unprecedented', 'JJ'),\n",
              " ('amounts', 'NNS'),\n",
              " ('voter', 'VBP'),\n",
              " ('frauda\\x80\\x9d', 'JJ'),\n",
              " ('sentedcruz', 'NN'),\n",
              " ('true', 'JJ'),\n",
              " ('\\x80\\x9cwe', 'NNP'),\n",
              " ('acting', 'VBG'),\n",
              " ('thwa', 'RB'),\n",
              " ('democratic', 'JJ'),\n",
              " ('process', 'NN'),\n",
              " ('we', 'PRP'),\n",
              " ('ita\\x80\\x9d', 'VBP'),\n",
              " ('senronjohnson', 'JJ'),\n",
              " ('\\x80\\x9csurrender', 'NN'),\n",
              " ('caucusa\\x80\\x9d', 'NN'),\n",
              " ('within', 'IN'),\n",
              " ('republican', 'JJ'),\n",
              " ('pay', 'NN'),\n",
              " ('go', 'VBP'),\n",
              " ('infamy', 'JJ'),\n",
              " ('weak', 'JJ'),\n",
              " ('ineffective', 'JJ'),\n",
              " ('\\x80\\x9cguardiansa\\x80\\x9d', 'NN'),\n",
              " ('nation', 'NN'),\n",
              " ('were', 'VBD'),\n",
              " ('willing', 'JJ'),\n",
              " ('accept', 'JJ'),\n",
              " ('ceification', 'NN'),\n",
              " ('fraudulent', 'NN'),\n",
              " ('danscavino', 'NN'),\n",
              " ('his', 'PRP$'),\n",
              " ('way', 'NN'),\n",
              " ('massive', 'JJ'),\n",
              " ('magað\\x9f\\x87oð\\x9f\\x87', 'NN'),\n",
              " ('ð\\x9f¦', 'NNP'),\n",
              " ('rally', 'NN'),\n",
              " ('circleville', 'VBP'),\n",
              " ('unbelievablea\\x80\\x94ohio', 'JJ'),\n",
              " ('truma\\x80¦', 'NN'),\n",
              " ('chefjclark', 'NN'),\n",
              " ('ask', 'VB'),\n",
              " ('why', 'WRB'),\n",
              " ('fights', 'NNS'),\n",
              " ('hard', 'JJ'),\n",
              " ('integrity', 'NN'),\n",
              " ('such', 'JJ'),\n",
              " ('extensive', 'JJ'),\n",
              " ('opera\\x80¦', 'NN'),\n",
              " ('americanesther', 'NN'),\n",
              " ('randpaul', 'NN'),\n",
              " ('lord', 'NN'),\n",
              " ('most', 'RBS'),\n",
              " ('highð\\x9f\\x99\\x8fð\\x9f\\x8f', 'JJ'),\n",
              " ('»', 'NNP'),\n",
              " ('god', 'NN'),\n",
              " ('bless', 'NN'),\n",
              " ('peacemakers', 'NNS'),\n",
              " ('ð\\x9f\\x99\\x8fð\\x9f\\x8f', 'VBP'),\n",
              " ('bravea\\x80¦', 'JJ'),\n",
              " ('reviews', 'NNS'),\n",
              " ('nighta\\x80\\x99', 'JJ'),\n",
              " ('nbcnews', 'NNS'),\n",
              " ('town', 'NN'),\n",
              " ('hall', 'NN'),\n",
              " ('miami', 'NN'),\n",
              " ('polls', 'NNS'),\n",
              " ('strong', 'JJ'),\n",
              " ('crowds', 'NN'),\n",
              " ('enthusiasm', 'NN'),\n",
              " ('red', 'JJ'),\n",
              " ('wave', 'NN'),\n",
              " ('coming', 'VBG'),\n",
              " ('brexit', 'NN'),\n",
              " ('breaking', 'VBG'),\n",
              " ('boris', 'NNS'),\n",
              " ('johnson', 'NN'),\n",
              " ('says', 'VBZ'),\n",
              " ('uk', 'JJ'),\n",
              " ('ready', 'JJ'),\n",
              " ('split', 'NN'),\n",
              " ('eua\\x80\\x99', 'RB'),\n",
              " ('single', 'JJ'),\n",
              " ('market', 'NN'),\n",
              " ('customs', 'NNS'),\n",
              " ('union', 'NN'),\n",
              " ('without', 'IN'),\n",
              " ('new', 'JJ'),\n",
              " ('ta\\x80¦', 'NN'),\n",
              " ('bidenharris', 'NN'),\n",
              " ('raise', 'NN'),\n",
              " ('taxes', 'NNS'),\n",
              " ('fact', 'NN'),\n",
              " ('check', 'VB'),\n",
              " ('vp', 'NN'),\n",
              " ('said', 'VBD'),\n",
              " ('week', 'NN'),\n",
              " ('would', 'MD'),\n",
              " ('repeal', 'VB'),\n",
              " ('taa\\x80¦', 'JJ'),\n",
              " ('lied', 'VBN'),\n",
              " ('somebody', 'NN'),\n",
              " ('mad', 'JJ'),\n",
              " ('didna\\x80\\x99', 'NN'),\n",
              " ('sta', 'NN'),\n",
              " ('any', 'DT'),\n",
              " ('wars', 'NNS'),\n",
              " ('wants', 'VBZ'),\n",
              " ('leave', 'VBP'),\n",
              " ('ones', 'NNS'),\n",
              " ('wa\\x80¦', 'WRB'),\n",
              " ('open', 'JJ'),\n",
              " ('wonder', 'NN'),\n",
              " ('\\x80\\x9clisten', 'NNP'),\n",
              " ('sciencea\\x80\\x9d', 'VBZ'),\n",
              " ('science', 'NN'),\n",
              " ('doesna\\x80\\x99', 'VB'),\n",
              " ('their', 'PRP$'),\n",
              " ('fearmongera\\x80¦', 'JJ'),\n",
              " ('meeting', 'NN'),\n",
              " ('cancer', 'NN'),\n",
              " ('survivor', 'NN'),\n",
              " ('reed', 'VBP'),\n",
              " ('elliotte', 'NN'),\n",
              " ('yesterday', 'NN'),\n",
              " ('proamericarally', 'RB'),\n",
              " ('lexington', 'VBZ'),\n",
              " ('ky', 'NN'),\n",
              " ('sedawymoha', 'NN'),\n",
              " ('beloved', 'VBD'),\n",
              " ('donald', 'JJ'),\n",
              " ('man', 'NN'),\n",
              " ('prosperity', 'NN'),\n",
              " ('whole', 'JJ'),\n",
              " ('worla\\x80¦', 'NN'),\n",
              " ('blood', 'NN'),\n",
              " ('oil', 'NN'),\n",
              " ('long', 'JJ'),\n",
              " ('\\x9c\\x94', 'NN'),\n",
              " ('cjtruth', 'NN'),\n",
              " ('qarriorp', 'JJ'),\n",
              " ('amen', 'NNS'),\n",
              " ('lot', 'NN'),\n",
              " ('understand', 'VBP'),\n",
              " ('what', 'WP'),\n",
              " ('truly', 'RB'),\n",
              " ('amazina\\x80¦', 'JJ'),\n",
              " ('term', 'NN'),\n",
              " ('already', 'RB'),\n",
              " ('brought', 'VBD'),\n",
              " ('home', 'NN'),\n",
              " ('brave', 'NN'),\n",
              " ('soldiers', 'NNS'),\n",
              " ('rest', 'VBP'),\n",
              " ('christmas', 'NN'),\n",
              " ('aa\\x80¦', 'NN'),\n",
              " ('libearians', 'VBZ'),\n",
              " ('fast', 'JJ'),\n",
              " ('begun', 'VBN'),\n",
              " ('happening', 'VBG'),\n",
              " ('realderekutley', 'NN'),\n",
              " ('suppoers', 'NNS'),\n",
              " ('freedom', 'VBP'),\n",
              " ('plaza', 'JJ'),\n",
              " ('heading', 'NN'),\n",
              " ('watch', 'NN'),\n",
              " ('s', 'NN'),\n",
              " ('remarks', 'NNS'),\n",
              " ('waukesha', 'VBP'),\n",
              " ('pm', 'JJ'),\n",
              " ('etrsvp', 'NN'),\n",
              " ('means', 'VBZ'),\n",
              " ('wona', 'JJ'),\n",
              " ('cc', 'NN'),\n",
              " ('repdougcollins', 'NNS'),\n",
              " ('secretarysonny', 'VBP'),\n",
              " ('nra', 'JJ'),\n",
              " ('debatewhy', 'NN'),\n",
              " ('didnt', 'NNS'),\n",
              " ('do', 'VBP'),\n",
              " ('four', 'CD'),\n",
              " ('years', 'NNS'),\n",
              " ('ago', 'RB'),\n",
              " ('joebiden', 'VBP'),\n",
              " ('ran', 'NN'),\n",
              " ('youa\\x80¦', 'NN'),\n",
              " ('over', 'IN'),\n",
              " ('ð\\x9f\\x9a', 'NNP'),\n",
              " ('bbcworld', 'NN'),\n",
              " ('reached', 'VBD'),\n",
              " ('interviewi', 'JJ'),\n",
              " ('agreedi', 'JJ'),\n",
              " ('let', 'NN'),\n",
              " ('countrya\\x80\\x99', 'VB'),\n",
              " ('opinion', 'NN'),\n",
              " ('stoppeda\\x80¦', 'JJ'),\n",
              " ('dominion', 'NN'),\n",
              " ('rigged', 'VBD'),\n",
              " ('worst', 'JJS'),\n",
              " ('polling', 'VBG'),\n",
              " ('ever', 'RB'),\n",
              " ('then', 'RB'),\n",
              " ('theya\\x80\\x99ll', 'VB'),\n",
              " ('again', 'RB'),\n",
              " ('campaign', 'NN'),\n",
              " ('finance', 'NN'),\n",
              " ('suppression', 'NN'),\n",
              " ('terrible', 'JJ'),\n",
              " ('say', 'VBP'),\n",
              " ('rudygiuliani', 'NN'),\n",
              " ('revealed', 'VBD'),\n",
              " ('sworn', 'JJ'),\n",
              " ('evidence', 'NN'),\n",
              " ('pervasive', 'JJ'),\n",
              " ('affidavitsa', 'NN'),\n",
              " ('rudy', 'NN'),\n",
              " ('giuliani', 'NN'),\n",
              " ('breaks', 'NNS'),\n",
              " ('strongly', 'RB'),\n",
              " ('stand', 'VBP'),\n",
              " ('kelly', 'RB'),\n",
              " ('david', 'JJ'),\n",
              " ('must', 'MD'),\n",
              " ('dineshdsouza', 'VB'),\n",
              " ('hey', 'JJ'),\n",
              " ('denounce', 'NN'),\n",
              " ('antifa', 'NN'),\n",
              " ('scum', 'NN'),\n",
              " ('hills', 'NNS'),\n",
              " ('tried', 'VBD'),\n",
              " ('attacking', 'VBG'),\n",
              " ('aggra\\x80¦', 'JJ'),\n",
              " ('pfizer', 'NN'),\n",
              " ('others', 'NNS'),\n",
              " ('announce', 'VBP'),\n",
              " ('vaccine', 'NN'),\n",
              " ('after', 'IN'),\n",
              " ('courage', 'NN'),\n",
              " ('before', 'IN'),\n",
              " ('likewise', 'NN'),\n",
              " ('usfda', 'JJ'),\n",
              " ('earlier', 'RB'),\n",
              " ('political', 'JJ'),\n",
              " ('purposes', 'NNS'),\n",
              " ('saving', 'VBG'),\n",
              " ('lives', 'NNS'),\n",
              " ('abcwapo', 'RB'),\n",
              " ('had', 'VBD'),\n",
              " ('me', 'PRP'),\n",
              " ('points', 'NNS'),\n",
              " ('iowa', 'JJ'),\n",
              " ('fox', 'JJ'),\n",
              " ('quinnipiac', 'NN'),\n",
              " ('everything', 'NN'),\n",
              " ('foxnews', 'NNS'),\n",
              " ('quinnipiacpoll', 'VBP'),\n",
              " ('nbcwsj', 'JJ'),\n",
              " ('inaccurate', 'JJ'),\n",
              " ('really', 'RB'),\n",
              " ('tampering', 'VBG'),\n",
              " ('off', 'RP'),\n",
              " ('attempt', 'NN'),\n",
              " ('suppress', 'NN'),\n",
              " ('called', 'VBN'),\n",
              " ('interference', 'NN'),\n",
              " ('dbongino', 'NN'),\n",
              " ('ð\\x9f\\x91\\x87ð\\x9f\\x8f', 'NNP'),\n",
              " ('pleased', 'VBD'),\n",
              " ('kloeffler', 'NN'),\n",
              " ('sendavidperdue', 'NN'),\n",
              " ('joined', 'VBD'),\n",
              " ('stopthesteal', 'JJ'),\n",
              " ('group', 'NN'),\n",
              " ('senators', 'NNS'),\n",
              " ('fight', 'VBP'),\n",
              " ('ridiculous', 'JJ'),\n",
              " ('electoral', 'JJ'),\n",
              " ('college', 'NN'),\n",
              " ('proven', 'RB'),\n",
              " ('many', 'JJ'),\n",
              " ('cases', 'NNS'),\n",
              " ('wouldna\\x80\\x99', 'VBP'),\n",
              " ('another', 'DT'),\n",
              " ('nor', 'CC'),\n",
              " ('approved', 'VBD'),\n",
              " ('quickly', 'RB'),\n",
              " ('bureaucracy', 'NN'),\n",
              " ('destroyed', 'VBD'),\n",
              " ('want', 'VBP'),\n",
              " ('prior', 'JJ'),\n",
              " ('instead', 'RB'),\n",
              " ('came', 'VBD'),\n",
              " ('five', 'CD'),\n",
              " ('later', 'RB'),\n",
              " ('\\x80\\x93', 'JJ'),\n",
              " ('ia\\x80\\x99ve', 'NN'),\n",
              " ('along', 'IN'),\n",
              " ('governor', 'NN'),\n",
              " ('state', 'NN'),\n",
              " ('hotly', 'RB'),\n",
              " ('contested', 'VBD'),\n",
              " ('moderna', 'JJ'),\n",
              " ('effective', 'JJ'),\n",
              " ('\\x80\\x9chistoriansa\\x80\\x9d', 'NN'),\n",
              " ('please', 'NN'),\n",
              " ('remember', 'VB'),\n",
              " ('these', 'DT'),\n",
              " ('discoveries', 'NNS'),\n",
              " ('which', 'WDT'),\n",
              " ('end', 'VBP'),\n",
              " ('plague', 'NN'),\n",
              " ('took', 'VBD'),\n",
              " ('place', 'NN'),\n",
              " ('john', 'NN'),\n",
              " ('bolton', 'NN'),\n",
              " ('dumbest', 'JJ'),\n",
              " ('government', 'NN'),\n",
              " ('\\x80\\x9cpleasurea\\x80\\x9d', 'NNP'),\n",
              " ('work', 'NN'),\n",
              " ('sullen', 'RB'),\n",
              " ('dull', 'JJ'),\n",
              " ('anda\\x80¦', 'NN'),\n",
              " ('surprised', 'VBD'),\n",
              " ('philly', 'RB'),\n",
              " ('cheat', 'JJ'),\n",
              " ('scale', 'JJ'),\n",
              " ('electionit', 'NN'),\n",
              " ('havea\\x80¦', 'NN'),\n",
              " ('imagine', 'NN'),\n",
              " ('guy', 'NN'),\n",
              " ('reading', 'VBG'),\n",
              " ('deficit', 'NN'),\n",
              " ('paragraphs', 'NN'),\n",
              " ('amended', 'VBD'),\n",
              " ('complaint', 'NN'),\n",
              " ('guess', 'NN'),\n",
              " ('\\x80¦', 'NNP'),\n",
              " ('andrewpollackfl', 'NN'),\n",
              " ('hear', 'NN'),\n",
              " ('saying', 'VBG'),\n",
              " ('march', 'NN'),\n",
              " ('happened', 'VBD'),\n",
              " ('nothing', 'NN'),\n",
              " ('burned', 'VBN'),\n",
              " ('looted', 'VBN'),\n",
              " ('shot', 'NN'),\n",
              " ('or', 'CC'),\n",
              " ('killed', 'VBN'),\n",
              " ('tell', 'NN'),\n",
              " ('againa\\x80¦', 'NN'),\n",
              " ('recount', 'NN'),\n",
              " ('allowing', 'VBG'),\n",
              " ('signatures', 'NNS'),\n",
              " ('looked', 'VBD'),\n",
              " ('verified', 'JJ'),\n",
              " ('break', 'JJ'),\n",
              " ('unconstitutional', 'JJ'),\n",
              " ('consent', 'NN'),\n",
              " ('decree', 'NN'),\n",
              " ('two', 'CD'),\n",
              " ('impoant', 'JJ'),\n",
              " ('floyd', 'NN'),\n",
              " ('show', 'NN'),\n",
              " ('jessebwatters', 'NNS'),\n",
              " ('watched', 'VBD'),\n",
              " ('vice', 'NN'),\n",
              " ('power', 'NN'),\n",
              " ('reject', 'VBP'),\n",
              " ('fraudulently', 'RB'),\n",
              " ('chosen', 'VBN'),\n",
              " ('electors', 'NNS'),\n",
              " ('gasecofstates', 'NNS'),\n",
              " ('office', 'NN'),\n",
              " ('confirms', 'VBZ'),\n",
              " ('found', 'VBN'),\n",
              " ('audit', 'IN'),\n",
              " ('sec', 'JJ'),\n",
              " ('raffensperger', 'NN'),\n",
              " ('waa\\x80¦', 'NN'),\n",
              " ('poll', 'NN'),\n",
              " ('watchers', 'NNS'),\n",
              " ('allowed', 'VBD'),\n",
              " ('voting', 'VBG'),\n",
              " ('machine', 'NN'),\n",
              " ('\\x80\\x9cglitchesa\\x80\\x9d', 'NN'),\n",
              " ('meaning', 'NN'),\n",
              " ('got', 'VBD'),\n",
              " ('caught', 'JJ'),\n",
              " ('cheating', 'VBG'),\n",
              " ('heytammybruce', 'NN'),\n",
              " ('ð\\x9f\\x98\\x90', 'NNP'),\n",
              " ('youtrump', 'NN'),\n",
              " ('ð\\x9f\\x98\\x82\\x9d¤', 'NNP'),\n",
              " ('\\x8fð\\x9f\\x87oð\\x9f\\x87', 'NNP'),\n",
              " ('perduesenate', 'VBP'),\n",
              " ('family', 'NN'),\n",
              " ('\\x80\\x94', 'NNP'),\n",
              " ('need', 'MD'),\n",
              " ('defend', 'VB'),\n",
              " ('majority', 'NN'),\n",
              " ('gasen', 'NN'),\n",
              " ('gapoa\\x80¦', 'NN'),\n",
              " ('mtgreenee', 'NN'),\n",
              " ('stop', 'NN'),\n",
              " ('abuse', 'NN'),\n",
              " ('electionsthe', 'NN'),\n",
              " ('protected', 'VBN'),\n",
              " ('law', 'NN'),\n",
              " ('enforcement', 'NN'),\n",
              " ('involved', 'VBN'),\n",
              " ('job', 'NN'),\n",
              " ('todaya', 'NNS'),\n",
              " ('socialisma', 'VBP'),\n",
              " ('dreama', 'JJ'),\n",
              " ('savea\\x80¦', 'NN'),\n",
              " ('breitbanews', 'NNS'),\n",
              " ('doubt', 'NN'),\n",
              " ('lunchtime', 'NN'),\n",
              " ('voted', 'VBD'),\n",
              " ('yet', 'RB'),\n",
              " ('havena\\x80\\x99', 'JJ'),\n",
              " ('bring', 'NN'),\n",
              " ('call', 'NN'),\n",
              " ('fa\\x80¦', 'NN'),\n",
              " ('nolte', 'NN'),\n",
              " ('bret', 'NN'),\n",
              " ('baier', 'NN'),\n",
              " ('deletes', 'VBZ'),\n",
              " ('tweet', 'NNS'),\n",
              " ('exposed', 'VBD'),\n",
              " ('backlash', 'NN'),\n",
              " ('against', 'IN'),\n",
              " ('via', 'IN'),\n",
              " ('repos', 'JJ'),\n",
              " ('congressional', 'JJ'),\n",
              " ('district', 'NN'),\n",
              " ('machines', 'NNS'),\n",
              " ('working', 'VBG'),\n",
              " ('ceain', 'NN'),\n",
              " ('strongholds', 'NNS'),\n",
              " ('hour', 'NN'),\n",
              " ('left', 'VBD'),\n",
              " ('lock', 'NN'),\n",
              " ('boxes', 'NNS'),\n",
              " ('hopefully', 'RB'),\n",
              " ('congressman', 'VBP'),\n",
              " ('rickallen', 'VB'),\n",
              " ('ouch', 'JJ'),\n",
              " ('history', 'NN'),\n",
              " ('continue', 'VB'),\n",
              " ('lower', 'JJR'),\n",
              " ('drug', 'NN'),\n",
              " ('prices', 'NNS'),\n",
              " ('police', 'NN'),\n",
              " ('borders', 'NNS'),\n",
              " ('ensure', 'VB'),\n",
              " ('products', 'NNS'),\n",
              " ('proudly', 'RB'),\n",
              " ('stamped', 'VBD'),\n",
              " ('phrase', 'NN'),\n",
              " ('made', 'VBN'),\n",
              " ('usa', 'JJ'),\n",
              " ('jmclghln', 'NN'),\n",
              " ('voters', 'NNS'),\n",
              " ('across', 'IN'),\n",
              " ('friends', 'NNS'),\n",
              " ('text', 'JJ'),\n",
              " ('facebook', 'NN'),\n",
              " ('instagram', 'NN'),\n",
              " ('email', 'NN'),\n",
              " ('thea\\x80¦', 'NN'),\n",
              " ('lets', 'VBZ'),\n",
              " ('roll', 'VBP'),\n",
              " ('withdrew', 'NN'),\n",
              " ('leesmithdc', 'NN'),\n",
              " ('surrogates', 'VBZ'),\n",
              " ('lying', 'VBG'),\n",
              " ('ukrainian', 'JJ'),\n",
              " ('prosecutor', 'NN'),\n",
              " ('seizes', 'VBZ'),\n",
              " ('propey', 'JJ'),\n",
              " ('burisma', 'NN'),\n",
              " ('owner', 'NN'),\n",
              " ('hes', 'VBZ'),\n",
              " ('clearly', 'RB'),\n",
              " ('under', 'IN'),\n",
              " ('ia\\x80¦', 'NN'),\n",
              " ('am', 'VBP'),\n",
              " ('heroes', 'NNS'),\n",
              " ('wona\\x80\\x99', 'VBP'),\n",
              " ('washington', 'NN'),\n",
              " ('inundated', 'VBN'),\n",
              " ('dona\\x80\\x99', 'JJ'),\n",
              " ('victory', 'NN'),\n",
              " ('stolen', 'VBN'),\n",
              " ('emboldened', 'JJ'),\n",
              " ('radical', 'JJ'),\n",
              " ('enough', 'RB'),\n",
              " ('take', 'VBP'),\n",
              " ('anymore', 'RB'),\n",
              " ('oval', 'JJ'),\n",
              " ('make', 'VBP'),\n",
              " ('top', 'JJ'),\n",
              " ('pollster', 'NN'),\n",
              " ('finds', 'VBZ'),\n",
              " ('\\x80\\x98likelya\\x80\\x98', 'JJ'),\n",
              " ('stole', 'JJ'),\n",
              " ('\\x80\\x9cpresident', 'NN'),\n",
              " ('told', 'VBD'),\n",
              " ('year', 'NN'),\n",
              " ('laughed', 'VBD'),\n",
              " ('him', 'PRP'),\n",
              " ('fda', 'JJ'),\n",
              " ('approval', 'NN'),\n",
              " ('month', 'NN'),\n",
              " ('righta\\x80\\x9d', 'VBD'),\n",
              " ('mariabairomo', 'NNS'),\n",
              " ('hope', 'VBP'),\n",
              " ('impoantly', 'RB'),\n",
              " ('rino', 'JJ'),\n",
              " ('section', 'NN'),\n",
              " ('pouring', 'VBG'),\n",
              " ('into', 'IN'),\n",
              " ('landslide', 'JJ'),\n",
              " ('senatemajldr', 'NN'),\n",
              " ('johncornyn', 'NN'),\n",
              " ('senjohnthune', 'NN'),\n",
              " ('lawyers', 'NNS'),\n",
              " ('newsmax', 'VBP'),\n",
              " ('oann', 'JJ'),\n",
              " ('maybe', 'RB'),\n",
              " ('shut', 'JJ'),\n",
              " ('case', 'NN'),\n",
              " ('covid', 'NN'),\n",
              " ('drugs', 'NNS'),\n",
              " ('available', 'JJ'),\n",
              " ('amazing', 'JJ'),\n",
              " ('seldom', 'NN'),\n",
              " ('talked', 'VBD'),\n",
              " ('moality', 'NN'),\n",
              " ('rate', 'NN'),\n",
              " ('detroit', 'NNS'),\n",
              " ('rampant', 'VBP'),\n",
              " ('been', 'VBN'),\n",
              " ('\\x80\\x9conly', 'RB'),\n",
              " ('yeara\\x80\\x9d', 'JJ'),\n",
              " ('ronny', 'NN'),\n",
              " ('jackson', 'NN'),\n",
              " ('texas', 'NN'),\n",
              " ('congressmanelect', 'VBP'),\n",
              " ('terrorist', 'JJ'),\n",
              " ('organization', 'NN'),\n",
              " ('closely', 'RB'),\n",
              " ('deptofdefense', 'JJ'),\n",
              " ('thejusticedept', 'IN'),\n",
              " ('dhsgov', 'JJ'),\n",
              " ('dhswolf', 'NN'),\n",
              " ('secbernhardt', 'NN'),\n",
              " ('secretservice', 'NN'),\n",
              " ('fbi', 'NN'),\n",
              " ('progress', 'NN'),\n",
              " ('results', 'NNS'),\n",
              " ('come', 'VBP'),\n",
              " ('next', 'JJ'),\n",
              " ('\\x80\\x9cevidence', 'NN'),\n",
              " ('grow', 'NN'),\n",
              " ('including', 'VBG'),\n",
              " ('dead', 'JJ'),\n",
              " ('aificial', 'JJ'),\n",
              " ('bidena\\x80\\x9d', 'NN'),\n",
              " ('zero', 'NN'),\n",
              " ('rejected', 'VBD'),\n",
              " ('past', 'IN'),\n",
              " ('close', 'JJ'),\n",
              " ('possible', 'JJ'),\n",
              " ('signature', 'NN'),\n",
              " ('envelopes', 'VBZ'),\n",
              " ('easy', 'JJ'),\n",
              " ('dems', 'NNS'),\n",
              " ('fighting', 'VBG'),\n",
              " ('needed', 'VBN'),\n",
              " ('flip', 'NN'),\n",
              " ('tough', 'JJ'),\n",
              " ('briankempga', 'NN'),\n",
              " ('saw', 'VBD'),\n",
              " ('tabulations', 'NNS'),\n",
              " ('ahurschwaz', 'VB'),\n",
              " ('metadata', 'NNS'),\n",
              " ('familya\\x80\\x99', 'JJ'),\n",
              " ('pitch', 'NN'),\n",
              " ('materials', 'NNS'),\n",
              " ('chinese', 'JJ'),\n",
              " ('communist', 'JJ'),\n",
              " ('doc', 'NN'),\n",
              " ('jima\\x80¦', 'NN'),\n",
              " ('speaking', 'VBG'),\n",
              " ('save', 'JJ'),\n",
              " ('tomorrow', 'NN'),\n",
              " ('ellipse', 'NN'),\n",
              " ('eastern', 'JJ'),\n",
              " ('arrive', 'JJ'),\n",
              " ('early', 'JJ'),\n",
              " ('doors', 'NNS'),\n",
              " ('happy', 'JJ'),\n",
              " ('thanksgiving', 'VBG'),\n",
              " ('thejtlewis', 'NN'),\n",
              " ('campaigning', 'VBG'),\n",
              " ('conspiracy', 'NN'),\n",
              " ('theorist', 'NN'),\n",
              " ('questioned', 'VBD'),\n",
              " ('legitimacy', 'NN'),\n",
              " ('sandy', 'JJ'),\n",
              " ('hook', 'NN'),\n",
              " ('shooting', 'VBG'),\n",
              " ('shootinga\\x80¦', 'JJ'),\n",
              " ('jimjordan', 'NN'),\n",
              " ('nine', 'CD'),\n",
              " ('afraid', 'JJ'),\n",
              " ('counting', 'VBG'),\n",
              " ...]"
            ]
          },
          "metadata": {},
          "execution_count": 50
        }
      ]
    },
    {
      "cell_type": "markdown",
      "metadata": {
        "id": "_UpEVRlnGHqq"
      },
      "source": [
        "### ADJETIVOS TOKENIZADOS"
      ]
    },
    {
      "cell_type": "code",
      "metadata": {
        "colab": {
          "base_uri": "https://localhost:8080/"
        },
        "id": "nX2n8PmUKaO8",
        "outputId": "99d89070-afab-4ea7-cdd5-d59fc28ad821"
      },
      "source": [
        "nltk.download('words')\n",
        "nltk.download('universal_tagset')"
      ],
      "execution_count": 51,
      "outputs": [
        {
          "output_type": "stream",
          "name": "stdout",
          "text": [
            "[nltk_data] Downloading package words to /root/nltk_data...\n",
            "[nltk_data]   Unzipping corpora/words.zip.\n",
            "[nltk_data] Downloading package universal_tagset to /root/nltk_data...\n",
            "[nltk_data]   Unzipping taggers/universal_tagset.zip.\n"
          ]
        },
        {
          "output_type": "execute_result",
          "data": {
            "text/plain": [
              "True"
            ]
          },
          "metadata": {},
          "execution_count": 51
        }
      ]
    },
    {
      "cell_type": "markdown",
      "metadata": {
        "id": "ycVPn1MWSSIB"
      },
      "source": [
        ""
      ]
    },
    {
      "cell_type": "code",
      "metadata": {
        "id": "8E3Av9IBDdJD"
      },
      "source": [
        "\n",
        "#Check if a word is an adjective based on nltk.word_tokenize\n",
        "possible_adjectives = []\n",
        "for word in tweet_adj:\n",
        "    cat = nltk.word_tokenize(word)\n",
        "    if nltk.pos_tag(cat, tagset='universal')[0][1] == 'ADJ': possible_adjectives.append(word)"
      ],
      "execution_count": 52,
      "outputs": []
    },
    {
      "cell_type": "code",
      "metadata": {
        "id": "ctL6JoPQQ1Wo"
      },
      "source": [
        "# Filters words using nltk.corpus.words dictionary\n",
        "wordset = nltk.corpus.words.words()\n",
        "filter_w = lambda word: word in wordset\n",
        "filtered_words = list(filter(filter_w, possible_adjectives))"
      ],
      "execution_count": 53,
      "outputs": []
    },
    {
      "cell_type": "code",
      "metadata": {
        "id": "EqRG6dqOJEh9",
        "colab": {
          "base_uri": "https://localhost:8080/"
        },
        "outputId": "087e3a93-9ca5-4bb7-fff4-e031b36703fe"
      },
      "source": [
        "count = 0\n",
        "for word in filtered_words:\n",
        "    print(word, end=', ')\n",
        "    count += 1\n",
        "    if (count % 10 == 0): print(\"\")"
      ],
      "execution_count": 54,
      "outputs": [
        {
          "output_type": "stream",
          "name": "stdout",
          "text": [
            "economic, great, disciplinary, unsolicited, major, recent, much, large, constitutional, little, \n",
            "white, foreign, sustainable, own, huge, united, substantive, good, unthinkable, illegal, \n",
            "big, presidential, wrong, real, live, young, last, few, unprecedented, true, \n",
            "democratic, republican, weak, ineffective, willing, massive, hard, such, extensive, strong, \n",
            "red, ready, single, new, open, whole, terrible, political, ridiculous, electoral, \n",
            "many, effective, unconstitutional, congressional, ouch, radical, available, next, dead, possible, \n",
            "easy, tough, eastern, arrive, happy, federal, total, curious, legal, fantastic, \n",
            "inclusive, criminal, familiar, other, individual, incredible, main, mystical, impossible, military, \n",
            "false, negative, same, conservative, legislative, national, wide, third, average, former, \n",
            "low, necessary, widespread, typical, horrendous, pathetic, statistical, epidemic, high, nationwide, \n",
            "full, essential, clear, viable, successful, tremendous, nuclear, private, second, different, \n",
            "unsolvable, postal, original, liberal, general, undeniable, unwatchable, specific, senior, safe, \n",
            "intellectual, responsible, bad, journalistic, outrageous, complete, advanced, entire, able, social, \n",
            "frivolous, poor, unnecessary, rid, various, black, exclusive, quiet, international, unaccounted, \n",
            "unhappy, green, final, unmasked, empty, angry, native, dramatic, unbelievable, independent, \n",
            "modern, outstanding, treasonous, horrible, usual, obvious, additional, suspicious, egregious, poetic, \n",
            "old, initial, untruthful, golden, powerful, rich, unsafe, organic, healthy, annual, \n",
            "western, sloppy, dangerous, unrivaled, impressive, seditious, busy, unsophisticated, corporate, serious, \n",
            "potential, unmatched, likely, small, tiny, unfeasible, free, contrary, unelectable, inglorious, \n",
            "stupid, obnoxious, nice, mysterious, civilian, precious, mixed, affordable, nasty, southern, \n",
            "anonymous, actual, ballistic, unite, exotic, consecutive, irrefutable, unsuccessful, several, numerous, \n",
            "expensive, ludicrous, special, unimaginable, positive, credible, heavy, direct, medical, local, \n",
            "popular, separate, difficult, commercial, pharmaceutical, critical, atlantic, questionable, weekly, inevitable, \n",
            "due, similar, overall, gross, current, exceptional, lucky, extraordinary, watchable, mayoral, \n",
            "tropical, grand, normal, hot, unlimited, courageous, unleashed, disastrous, vulnerable, patriotic, \n",
            "glorious, interested, religious, realistic, diplomatic, natural, uneasy, unheard, bureaucratic, legendary, \n",
            "anxious, global, punishable, forensic, noble, unedited, unappreciative, ineligible, extinguish, narrative, \n",
            "unchecked, superior, severe, equal, unacceptable, financial, vicious, lunatic, energetic, investigative, \n",
            "eligible, common, valid, reasonable, systemic, locational, invalid, senatorial, historical, unpopular, \n",
            "extra, civil, unwilling, unable, professional, central, prepared, humanitarian, costly, atrocious, \n",
            "remarkable, optimistic, fabulous, invisible, hilarious, sharp, solid, constant, emblematic, untrusted, \n",
            "unapologetic, nervous, aware, unnamed, irrational, affected, fraternal, unanimous, admiral, emphatic, \n",
            "previous, domestic, accountable, unsanitary, daily, industrial, scary, invaluable, impulsive, physical, \n",
            "uncovered, explosive, foolish, funeral, fiscal, gullible, reliable, competitive, infectious, guilty, \n",
            "vigorous, porous, fundamental, unspecified, operational, appreciative, unsealed, significant, uplifted, overdue, \n",
            "classic, prosperous, arrogant, furious, murderous, rapid, therapeutic, unprotected, procedural, defective, \n",
            "complex, credulous, regional, cautious, ultimate, acceptable, uphold, alive, controversial, basic, \n",
            "impeachable, cumulative, crucial, insatiable, unelected, crumble, antitrust, unmitigated, disabled, factual, \n",
            "hysterical, sexual, sudden, enthusiastic, autonomous, comical, elementary, enjoyable, unprepared, retail, \n",
            "productive, intolerable, miserable, nonessential, agricultural, formal, evangelical, malicious, neutral, lucrative, \n",
            "personal, catastrophic, german, institutional, anemic, soft, admirable, sensational, politic, delighted, \n",
            "unauthorized, comparable, physiological, erroneous, racial, influential, knowledgeable, indisputable, innovative, unbreakable, \n",
            "applicable, solitary, fresh, aggressive, ethic, incurious, mendacious, considerable, enable, puppy, \n",
            "disingenuous, egotistical, pebble, optic, unwarranted, regular, untold, sophisticated, dishonorable, incalculable, \n",
            "informative, unstable, intensive, speculative, stable, hospitable, stumble, structural, uncontrollable, unorganized, \n",
            "nominal, fumble, unexpected, despicable, regulatory, unconditional, loose, forgive, cultural, diagnostic, \n",
            "investigational, flourish, incapable, honorable, oppressive, mutual, unambiguous, affirmative, poisonous, unusual, \n",
            "sensitive, unlikely, nonpolitical, intact, surgical, unborn, undisclosed, moral, apoplectic, academic, \n",
            "inexcusable, trivial, ominous, unparalleled, electrical, replaceable, educational, unpardonable, valuable, unsecured, \n",
            "internal, amphibious, containable, flat, unenthusiastic, charitable, impractical, majestic, deductible, semiprofessional, \n",
            "imaginable, unlawful, residential, unidentified, electronic, nimble, devious, metric, untalented, erratic, \n",
            "contagious, unveiled, extrajudicial, scientific, logistical, unclean, asymptomatic, elusive, unpleasant, navigable, \n",
            "eternal, unbiased, indefensible, steady, chaotic, unjust, useful, automatic, righteous, oral, \n",
            "unrelated, unneeded, jealous, untrue, unconscionable, emotional, reciprocal, unofficial, susceptible, unintentional, \n",
            "isolated, unsteady, instrumental, recognizable, thoughtful, referral, active, swiss, upper, literal, \n",
            "unfixable, flexible, environmental, creative, tactic, sarcastic, understandable, tyrannical, gracious, stupendous, \n",
            "joyous, cathedral, unfamiliar, famous, paramilitary, copious, unimpeachable, serial, invincible, frantic, \n",
            "inspirational, unstoppable, generous, clinical, unused, intentional, vocal, scan, fictional, unemployed, \n",
            "dubious, temporary, unequivocal, pathological, unqualified, urban, entrepreneurial, inexplicable, unpredictable, theatrical, \n",
            "athletic, demographic, monetary, habitual, believable, capitalistic, unreliable, unsustainable, existential, insured, \n",
            "perilous, invitational, excessive, discretionary, prospective, tangible, gorgeous, sanitary, comic, accessible, \n",
            "skeptical, winnable, noncompetitive, mythical, precarious, unlucky, unattractive, audacious, impeccable, optimal, \n",
            "rhetorical, rumble, capable, beatable, broad, tenacious, formidable, magnanimous, unknown, identical, \n",
            "dictionary, uninhabited, offensive, aesthetic, ultra, memorable, abusive, pious, idle, conventional, \n",
            "gymnastic, luxurious, astronomical, irresponsible, subdue, preliminary, technician, victorious, unpatriotic, visible, \n",
            "literary, programmatic, profitable, endemic, foreseeable, illustrious, advantageous, obese, monstrous, soviet, \n",
            "strategic, insurmountable, technological, naive, immoral, gigantic, electric, dissemble, ideological, systematic, \n",
            "predictable, equestrian, chic, humble, unfunded, stationary, unaffordable, incomparable, spacious, crouch, \n",
            "arctic, tenuous, enormous, undisputed, personable, sensible, ruinous, unappreciated, renewable, unprofessional, \n",
            "reprehensible, imaginative, definitive, inaugural, perpetual, technical, wary, treacherous, underprivileged, prestigious, \n",
            "glamorous, dynamic, genetic, intrinsic, eventual, adorable, contemptible, delirious, foundational, insensitive, \n",
            "visionary, lavish, logical, bubble, manual, traumatic, equitable, cyclical, uptown, unethical, \n",
            "preferable, architectural, modest, forgivable, unregulated, unreasonable, unfunny, hideous, ungrateful, autistic, \n",
            "operative, ninth, interactive, ferocious, elective, ecstatic, imaginary, upkeep, pleasurable, practical, \n",
            "notable, substantial, marvelous, notorious, cylindrical, payable, negotiable, pompous, geopolitical, pontifical, \n",
            "uneducated, irreplaceable, inconceivable, naked, unforgettable, miraculous, noncontagious, expansive, indecisive, untapped, \n",
            "socialistic, classical, suitable, contentious, momentous, visual, identifiable, nauseous, desirable, nonsuccessful, \n",
            "humorous, exemplary, municipal, cystic, upright, envious, unnatural, unpresidential, continuous, combustible, \n",
            "liable, arbitrary, analytical, irrepressible, laughable, unforgivable, commendable, adaptable, ingenious, spiritual, \n",
            "assemble, antarctic, unquestionable, conscious, electable, nonsensical, lovable, authentic, ambitious, fictitious, \n",
            "fictious, statistic, composite, aerial, tactical, pretentious, apologetic, noncriminal, unscheduled, problematic, \n",
            "undocumented, unimpeded, durable, incorruptible, intestinal, incomprehensible, traditional, probable, magical, nonserious, \n",
            "delicious, respectable, overzealous, impenetrable, diary, educative, embellish, recreational, satirical, dual, \n",
            "tedious, unarmed, likable, sanctimonious, umpteenth, unbroken, southeastern, malleable, spontaneous, unaccountable, \n",
            "deplorable, irredeemable, pedantic, technocratic, grievous, polish, neurotic, ethical, unopposed, libelous, \n",
            "favorable, vulgarian, nonrepresentative, conceptual, theoretical, justifiable, cal, unbalanced, musical, ineffectual, \n",
            "simultaneous, unbearable, nonsubstantive, supersonic, preventable, lawful, mathematical, bilateral, beneficial, charismatic, \n",
            "weary, cellular, plausible, unfiltered, unverifiable, hypocritical, unjustified, tactician, preamble, unpaid, \n",
            "doable, unaccompanied, unredacted, biological, chargeable, unnoticeable, impassable, inaccessible, customary, intermediary, \n",
            "untouched, gubernatorial, synthetic, vocabulary, indispensable, uninvolved, unhelpful, compatible, unequal, unfettered, \n",
            "heinous, voluminous, unfilled, implausible, nonmilitary, nonpersonal, outlandish, irreparable, sadistic, unconventional, \n",
            "unspoken, ambiguous, unfounded, psychotic, alphabetical, viscous, casual, hazardous, unclassified, permissible, \n",
            "recoverable, disposable, unloyal, indivisible, rational, uncommon, oblivious, hypothetical, noncredible, behavioral, \n",
            "assistive, enforceable, automotive, inimitable, deferral, incendiary, immeasurable, bicameral, unspeakable, vouch, \n",
            "inexperienced, salacious, unrepresentative, unbridled, dependable, volatile, induced, salvageable, inactive, simplistic, \n",
            "imperial, archive, untaxed, wondrous, diversionary, disreputable, practic, usable, unusable, infamous, \n",
            "unresolved, stoppable, overdrive, obtrusive, "
          ]
        }
      ]
    },
    {
      "cell_type": "markdown",
      "metadata": {
        "id": "ZzgRhiC1UReM"
      },
      "source": [
        "## Stemming\n",
        "\n",
        "Do not need to do stemming. Do Lemmatization"
      ]
    },
    {
      "cell_type": "code",
      "metadata": {
        "id": "D480d3wHUReM"
      },
      "source": [
        "#using the algorithm (‘Porter stemmer’) to remove inflexional endings from words.\n",
        "#just take the root of the words\n",
        "ps = PorterStemmer()\n",
        "tweet_adj_stemmed = []\n",
        "for word in tweet_adj:\n",
        "    sword = ps.stem(word)\n",
        "    if sword in tweet_adj_stemmed:\n",
        "        sword += '_duplicated'\n",
        "    tweet_adj_stemmed.append(sword)"
      ],
      "execution_count": 55,
      "outputs": []
    },
    {
      "cell_type": "code",
      "metadata": {
        "id": "d3mQRFtQUReN",
        "colab": {
          "base_uri": "https://localhost:8080/"
        },
        "outputId": "f1b82b0f-c2ba-478b-b5ed-c5db13df442a"
      },
      "source": [
        "#Showing from 1 to 10 tweets \n",
        "tweet_adj_stemmed[1:50]"
      ],
      "execution_count": 56,
      "outputs": [
        {
          "output_type": "execute_result",
          "data": {
            "text/plain": [
              "['great',\n",
              " 'american',\n",
              " 'cherish',\n",
              " 'first',\n",
              " 'wonder',\n",
              " 'cb',\n",
              " 'disciplinari',\n",
              " 'unsolicit',\n",
              " 'major',\n",
              " 'recent',\n",
              " 'much',\n",
              " 'ballot',\n",
              " 'larg',\n",
              " 'friendli',\n",
              " 'appar',\n",
              " 'compliant',\n",
              " 'histor',\n",
              " 'constitut',\n",
              " 'right',\n",
              " 'public',\n",
              " 'littl',\n",
              " 'februari',\n",
              " 'electedunemployma\\x80¦',\n",
              " 'white',\n",
              " 'asap',\n",
              " 'foreign',\n",
              " 'threshold',\n",
              " 'proud',\n",
              " 'sustain',\n",
              " 'own',\n",
              " 'huge',\n",
              " 'unit',\n",
              " 'thata\\x80\\x99',\n",
              " 'matter',\n",
              " 'follow',\n",
              " 'media\\x80¦',\n",
              " 'megyn',\n",
              " 'won',\n",
              " 'wasna\\x80\\x99',\n",
              " 'substant',\n",
              " 'hela\\x80¦',\n",
              " 'nevada',\n",
              " 'good',\n",
              " 'obamaa\\x80\\x99',\n",
              " 'unthink',\n",
              " 'illeg',\n",
              " 'big',\n",
              " 'presidenti',\n",
              " 'ceifi']"
            ]
          },
          "metadata": {},
          "execution_count": 56
        }
      ]
    },
    {
      "cell_type": "markdown",
      "metadata": {
        "id": "eUPg5yvXUReN"
      },
      "source": [
        "## Lemmatization"
      ]
    },
    {
      "cell_type": "code",
      "metadata": {
        "id": "VkyRVJjjUReN"
      },
      "source": [
        "from nltk.stem import WordNetLemmatizer"
      ],
      "execution_count": 57,
      "outputs": []
    },
    {
      "cell_type": "code",
      "metadata": {
        "id": "SrKOY_XAUReN"
      },
      "source": [
        "# get the meaning of the word\n",
        "lmt = WordNetLemmatizer()\n",
        "filtered_words_lemmatized = []\n",
        "for word in filtered_words:\n",
        "    lword = lmt.lemmatize(word)\n",
        "    if lword in filtered_words_lemmatized:\n",
        "        lword += '_duplicated'\n",
        "    filtered_words_lemmatized.append(lword)"
      ],
      "execution_count": 58,
      "outputs": []
    },
    {
      "cell_type": "code",
      "metadata": {
        "colab": {
          "base_uri": "https://localhost:8080/"
        },
        "id": "zOdFD4DAUReN",
        "outputId": "320dfa29-8bc6-415b-bc45-a290e78344ec"
      },
      "source": [
        "filtered_words_lemmatized[1:50]"
      ],
      "execution_count": 59,
      "outputs": [
        {
          "output_type": "execute_result",
          "data": {
            "text/plain": [
              "['great',\n",
              " 'disciplinary',\n",
              " 'unsolicited',\n",
              " 'major',\n",
              " 'recent',\n",
              " 'much',\n",
              " 'large',\n",
              " 'constitutional',\n",
              " 'little',\n",
              " 'white',\n",
              " 'foreign',\n",
              " 'sustainable',\n",
              " 'own',\n",
              " 'huge',\n",
              " 'united',\n",
              " 'substantive',\n",
              " 'good',\n",
              " 'unthinkable',\n",
              " 'illegal',\n",
              " 'big',\n",
              " 'presidential',\n",
              " 'wrong',\n",
              " 'real',\n",
              " 'live',\n",
              " 'young',\n",
              " 'last',\n",
              " 'few',\n",
              " 'unprecedented',\n",
              " 'true',\n",
              " 'democratic',\n",
              " 'republican',\n",
              " 'weak',\n",
              " 'ineffective',\n",
              " 'willing',\n",
              " 'massive',\n",
              " 'hard',\n",
              " 'such',\n",
              " 'extensive',\n",
              " 'strong',\n",
              " 'red',\n",
              " 'ready',\n",
              " 'single',\n",
              " 'new',\n",
              " 'open',\n",
              " 'whole',\n",
              " 'terrible',\n",
              " 'political',\n",
              " 'ridiculous',\n",
              " 'electoral']"
            ]
          },
          "metadata": {},
          "execution_count": 59
        }
      ]
    },
    {
      "cell_type": "markdown",
      "metadata": {
        "id": "ByZbCHT0UReO"
      },
      "source": [
        "## Choose Stemming or Lemmatization"
      ]
    },
    {
      "cell_type": "code",
      "metadata": {
        "id": "rxhvixNEUReO"
      },
      "source": [
        "#tweet_adj_pos = tweet_adj_stemmed\n",
        "tweet_adj_pos = filtered_words_lemmatized"
      ],
      "execution_count": 60,
      "outputs": []
    },
    {
      "cell_type": "markdown",
      "metadata": {
        "id": "tBnOW0lsUReO"
      },
      "source": [
        "## DataFrame with positive, neutral and negative counters for the adjectives"
      ]
    },
    {
      "cell_type": "code",
      "metadata": {
        "id": "1Fn0CPa5UReO"
      },
      "source": [
        "#to count the word to see how many there are positive, negative, and neutral\n",
        "#get the variable global data\n",
        "#for each row in the column , this will check if the word is there\n",
        "#check if the row is positive, negative or neutral\n",
        "#add which sentiment it fits\n",
        "def count_pnn(word):\n",
        "    global data\n",
        "    \n",
        "    positive = 0\n",
        "    negative = 0\n",
        "    neutral = 0\n",
        "    for i in range(data.shape[0]):\n",
        "        if word in data['text'].iloc[i]:\n",
        "            if data['sentiment'].iloc[i] == 'Positive':\n",
        "                positive += 1\n",
        "            elif data['sentiment'].iloc[i] == 'Negative':\n",
        "                negative += 1\n",
        "            elif data['sentiment'].iloc[i] == 'Neutral':\n",
        "                neutral += 1\n",
        "                \n",
        "    return (positive, negative, neutral)"
      ],
      "execution_count": 61,
      "outputs": []
    },
    {
      "cell_type": "code",
      "metadata": {
        "colab": {
          "base_uri": "https://localhost:8080/"
        },
        "id": "JF04zrmwUReP",
        "outputId": "6ba652a5-7f0e-46ad-d257-c3cef883e8bf"
      },
      "source": [
        "len(filtered_words)"
      ],
      "execution_count": 62,
      "outputs": [
        {
          "output_type": "execute_result",
          "data": {
            "text/plain": [
              "964"
            ]
          },
          "metadata": {},
          "execution_count": 62
        }
      ]
    },
    {
      "cell_type": "markdown",
      "metadata": {
        "id": "FNDZw6kHUReP"
      },
      "source": [
        "## ! **Long processing time**: Avoid this by loagind the adj DataFrame from csv!"
      ]
    },
    {
      "cell_type": "code",
      "metadata": {
        "id": "uspNqxxVUReP"
      },
      "source": [
        "\n",
        "#for each word in the list, it will be used to make another list that will be the positive, negative and neutral count.\n",
        "#pnn returns the tuple, then joins the word with the one that came back from the tuple and adds it to the list\n",
        "data_adj = []\n",
        "for i in range(len(filtered_words)):\n",
        "    if '_duplicated' in tweet_adj_pos[i]:\n",
        "        for j in range(len(data_adj)):\n",
        "            if data_adj[j][0] == tweet_adj_pos[i][:-11]:\n",
        "                pos, neg, neu = count_pnn(filtered_words[i])\n",
        "                data_adj[j][1] += pos\n",
        "                data_adj[j][2] += neg\n",
        "                data_adj[j][3] += neu\n",
        "    else:\n",
        "        pos, neg, neu = count_pnn(filtered_words[i]) # Counting with the orginal word\n",
        "        data_adj.append([tweet_adj_pos[i], pos, neg, neu]) # Add the stemmed or lemmatized word and counters\n",
        "#creating a dataframe with the columns names\n",
        "adj = pd.DataFrame(data_adj, columns =['Word', 'Positive', 'Negative', 'Neutral'])"
      ],
      "execution_count": 63,
      "outputs": []
    },
    {
      "cell_type": "code",
      "metadata": {
        "id": "CUp9LTycUReQ",
        "colab": {
          "base_uri": "https://localhost:8080/",
          "height": 423
        },
        "outputId": "b5ee3914-ca77-4f81-93e8-f4657471e337"
      },
      "source": [
        "adj"
      ],
      "execution_count": 64,
      "outputs": [
        {
          "output_type": "execute_result",
          "data": {
            "text/html": [
              "<div>\n",
              "<style scoped>\n",
              "    .dataframe tbody tr th:only-of-type {\n",
              "        vertical-align: middle;\n",
              "    }\n",
              "\n",
              "    .dataframe tbody tr th {\n",
              "        vertical-align: top;\n",
              "    }\n",
              "\n",
              "    .dataframe thead th {\n",
              "        text-align: right;\n",
              "    }\n",
              "</style>\n",
              "<table border=\"1\" class=\"dataframe\">\n",
              "  <thead>\n",
              "    <tr style=\"text-align: right;\">\n",
              "      <th></th>\n",
              "      <th>Word</th>\n",
              "      <th>Positive</th>\n",
              "      <th>Negative</th>\n",
              "      <th>Neutral</th>\n",
              "    </tr>\n",
              "  </thead>\n",
              "  <tbody>\n",
              "    <tr>\n",
              "      <th>0</th>\n",
              "      <td>economic</td>\n",
              "      <td>209</td>\n",
              "      <td>82</td>\n",
              "      <td>42</td>\n",
              "    </tr>\n",
              "    <tr>\n",
              "      <th>1</th>\n",
              "      <td>great</td>\n",
              "      <td>7423</td>\n",
              "      <td>504</td>\n",
              "      <td>322</td>\n",
              "    </tr>\n",
              "    <tr>\n",
              "      <th>2</th>\n",
              "      <td>disciplinary</td>\n",
              "      <td>0</td>\n",
              "      <td>2</td>\n",
              "      <td>1</td>\n",
              "    </tr>\n",
              "    <tr>\n",
              "      <th>3</th>\n",
              "      <td>unsolicited</td>\n",
              "      <td>2</td>\n",
              "      <td>8</td>\n",
              "      <td>0</td>\n",
              "    </tr>\n",
              "    <tr>\n",
              "      <th>4</th>\n",
              "      <td>major</td>\n",
              "      <td>229</td>\n",
              "      <td>160</td>\n",
              "      <td>98</td>\n",
              "    </tr>\n",
              "    <tr>\n",
              "      <th>...</th>\n",
              "      <td>...</td>\n",
              "      <td>...</td>\n",
              "      <td>...</td>\n",
              "      <td>...</td>\n",
              "    </tr>\n",
              "    <tr>\n",
              "      <th>959</th>\n",
              "      <td>infamous</td>\n",
              "      <td>1</td>\n",
              "      <td>0</td>\n",
              "      <td>0</td>\n",
              "    </tr>\n",
              "    <tr>\n",
              "      <th>960</th>\n",
              "      <td>unresolved</td>\n",
              "      <td>1</td>\n",
              "      <td>0</td>\n",
              "      <td>1</td>\n",
              "    </tr>\n",
              "    <tr>\n",
              "      <th>961</th>\n",
              "      <td>stoppable</td>\n",
              "      <td>5</td>\n",
              "      <td>2</td>\n",
              "      <td>0</td>\n",
              "    </tr>\n",
              "    <tr>\n",
              "      <th>962</th>\n",
              "      <td>overdrive</td>\n",
              "      <td>1</td>\n",
              "      <td>0</td>\n",
              "      <td>0</td>\n",
              "    </tr>\n",
              "    <tr>\n",
              "      <th>963</th>\n",
              "      <td>obtrusive</td>\n",
              "      <td>1</td>\n",
              "      <td>0</td>\n",
              "      <td>0</td>\n",
              "    </tr>\n",
              "  </tbody>\n",
              "</table>\n",
              "<p>964 rows × 4 columns</p>\n",
              "</div>"
            ],
            "text/plain": [
              "             Word  Positive  Negative  Neutral\n",
              "0        economic       209        82       42\n",
              "1           great      7423       504      322\n",
              "2    disciplinary         0         2        1\n",
              "3     unsolicited         2         8        0\n",
              "4           major       229       160       98\n",
              "..            ...       ...       ...      ...\n",
              "959      infamous         1         0        0\n",
              "960    unresolved         1         0        1\n",
              "961     stoppable         5         2        0\n",
              "962     overdrive         1         0        0\n",
              "963     obtrusive         1         0        0\n",
              "\n",
              "[964 rows x 4 columns]"
            ]
          },
          "metadata": {},
          "execution_count": 64
        }
      ]
    },
    {
      "cell_type": "markdown",
      "metadata": {
        "id": "8r9nTKiLUReQ"
      },
      "source": [
        "## Save adj DataFrame in csv and serialized object (do not overwrite previously saved)"
      ]
    },
    {
      "cell_type": "code",
      "metadata": {
        "id": "teT-HLu-UReQ"
      },
      "source": [
        "# to save\n",
        "#if you have not saved saves to disk\n",
        "# .pkl it is the file type the binary of the object\n",
        "# .csv most used and most compatible file\n",
        "import os\n",
        "\n",
        "if not os.path.isfile('trump_twitter_adjectives.pkl'):\n",
        "    adj.to_pickle('trump_twitter_adjectives.pkl')\n",
        "if not os.path.isfile('trump_twitter_adjectives.csv'):\n",
        "    adj.to_csv('trump_twitter_adjectives.csv', index = False)"
      ],
      "execution_count": 65,
      "outputs": []
    },
    {
      "cell_type": "markdown",
      "metadata": {
        "id": "YXopn-FQUReQ"
      },
      "source": [
        "## Load adj DataFrame from csv"
      ]
    },
    {
      "cell_type": "code",
      "metadata": {
        "id": "ciZllrjEUReQ"
      },
      "source": [
        "adj = pd.read_csv('trump_twitter_adjectives.csv')"
      ],
      "execution_count": 66,
      "outputs": []
    },
    {
      "cell_type": "markdown",
      "metadata": {
        "id": "gbOGEp2MUReQ"
      },
      "source": [
        "## Analisis of Adjectives"
      ]
    },
    {
      "cell_type": "code",
      "metadata": {
        "id": "Z8AL_f70UReR",
        "colab": {
          "base_uri": "https://localhost:8080/",
          "height": 520
        },
        "outputId": "e4c15a57-c7c3-4b2b-8efb-fd69ff7a840e"
      },
      "source": [
        "#checking the 15 firsts adjectives\n",
        "adj.head(n=15)"
      ],
      "execution_count": 67,
      "outputs": [
        {
          "output_type": "execute_result",
          "data": {
            "text/html": [
              "<div>\n",
              "<style scoped>\n",
              "    .dataframe tbody tr th:only-of-type {\n",
              "        vertical-align: middle;\n",
              "    }\n",
              "\n",
              "    .dataframe tbody tr th {\n",
              "        vertical-align: top;\n",
              "    }\n",
              "\n",
              "    .dataframe thead th {\n",
              "        text-align: right;\n",
              "    }\n",
              "</style>\n",
              "<table border=\"1\" class=\"dataframe\">\n",
              "  <thead>\n",
              "    <tr style=\"text-align: right;\">\n",
              "      <th></th>\n",
              "      <th>Word</th>\n",
              "      <th>Positive</th>\n",
              "      <th>Negative</th>\n",
              "      <th>Neutral</th>\n",
              "    </tr>\n",
              "  </thead>\n",
              "  <tbody>\n",
              "    <tr>\n",
              "      <th>0</th>\n",
              "      <td>economic</td>\n",
              "      <td>209</td>\n",
              "      <td>82</td>\n",
              "      <td>42</td>\n",
              "    </tr>\n",
              "    <tr>\n",
              "      <th>1</th>\n",
              "      <td>great</td>\n",
              "      <td>7423</td>\n",
              "      <td>504</td>\n",
              "      <td>322</td>\n",
              "    </tr>\n",
              "    <tr>\n",
              "      <th>2</th>\n",
              "      <td>disciplinary</td>\n",
              "      <td>0</td>\n",
              "      <td>2</td>\n",
              "      <td>1</td>\n",
              "    </tr>\n",
              "    <tr>\n",
              "      <th>3</th>\n",
              "      <td>unsolicited</td>\n",
              "      <td>2</td>\n",
              "      <td>8</td>\n",
              "      <td>0</td>\n",
              "    </tr>\n",
              "    <tr>\n",
              "      <th>4</th>\n",
              "      <td>major</td>\n",
              "      <td>229</td>\n",
              "      <td>160</td>\n",
              "      <td>98</td>\n",
              "    </tr>\n",
              "    <tr>\n",
              "      <th>5</th>\n",
              "      <td>recent</td>\n",
              "      <td>86</td>\n",
              "      <td>67</td>\n",
              "      <td>23</td>\n",
              "    </tr>\n",
              "    <tr>\n",
              "      <th>6</th>\n",
              "      <td>much</td>\n",
              "      <td>813</td>\n",
              "      <td>421</td>\n",
              "      <td>129</td>\n",
              "    </tr>\n",
              "    <tr>\n",
              "      <th>7</th>\n",
              "      <td>large</td>\n",
              "      <td>157</td>\n",
              "      <td>124</td>\n",
              "      <td>45</td>\n",
              "    </tr>\n",
              "    <tr>\n",
              "      <th>8</th>\n",
              "      <td>constitutional</td>\n",
              "      <td>34</td>\n",
              "      <td>42</td>\n",
              "      <td>25</td>\n",
              "    </tr>\n",
              "    <tr>\n",
              "      <th>9</th>\n",
              "      <td>little</td>\n",
              "      <td>137</td>\n",
              "      <td>130</td>\n",
              "      <td>36</td>\n",
              "    </tr>\n",
              "    <tr>\n",
              "      <th>10</th>\n",
              "      <td>white</td>\n",
              "      <td>771</td>\n",
              "      <td>261</td>\n",
              "      <td>421</td>\n",
              "    </tr>\n",
              "    <tr>\n",
              "      <th>11</th>\n",
              "      <td>foreign</td>\n",
              "      <td>87</td>\n",
              "      <td>99</td>\n",
              "      <td>37</td>\n",
              "    </tr>\n",
              "    <tr>\n",
              "      <th>12</th>\n",
              "      <td>sustainable</td>\n",
              "      <td>5</td>\n",
              "      <td>8</td>\n",
              "      <td>3</td>\n",
              "    </tr>\n",
              "    <tr>\n",
              "      <th>13</th>\n",
              "      <td>own</td>\n",
              "      <td>1040</td>\n",
              "      <td>771</td>\n",
              "      <td>353</td>\n",
              "    </tr>\n",
              "    <tr>\n",
              "      <th>14</th>\n",
              "      <td>huge</td>\n",
              "      <td>135</td>\n",
              "      <td>29</td>\n",
              "      <td>5</td>\n",
              "    </tr>\n",
              "  </tbody>\n",
              "</table>\n",
              "</div>"
            ],
            "text/plain": [
              "              Word  Positive  Negative  Neutral\n",
              "0         economic       209        82       42\n",
              "1            great      7423       504      322\n",
              "2     disciplinary         0         2        1\n",
              "3      unsolicited         2         8        0\n",
              "4            major       229       160       98\n",
              "5           recent        86        67       23\n",
              "6             much       813       421      129\n",
              "7            large       157       124       45\n",
              "8   constitutional        34        42       25\n",
              "9           little       137       130       36\n",
              "10           white       771       261      421\n",
              "11         foreign        87        99       37\n",
              "12     sustainable         5         8        3\n",
              "13             own      1040       771      353\n",
              "14            huge       135        29        5"
            ]
          },
          "metadata": {},
          "execution_count": 67
        }
      ]
    },
    {
      "cell_type": "markdown",
      "metadata": {
        "id": "dMjlyjmoUReR"
      },
      "source": [
        "### Positive adjectives most frequent"
      ]
    },
    {
      "cell_type": "code",
      "metadata": {
        "id": "bN3Kq4H9UReR",
        "colab": {
          "base_uri": "https://localhost:8080/",
          "height": 1000
        },
        "outputId": "d9214cfe-85d1-4f80-a5cb-fe1a6be168e2"
      },
      "source": [
        "adj.sort_values(by=['Positive'], ascending=False).head(n=50)"
      ],
      "execution_count": 68,
      "outputs": [
        {
          "output_type": "execute_result",
          "data": {
            "text/html": [
              "<div>\n",
              "<style scoped>\n",
              "    .dataframe tbody tr th:only-of-type {\n",
              "        vertical-align: middle;\n",
              "    }\n",
              "\n",
              "    .dataframe tbody tr th {\n",
              "        vertical-align: top;\n",
              "    }\n",
              "\n",
              "    .dataframe thead th {\n",
              "        text-align: right;\n",
              "    }\n",
              "</style>\n",
              "<table border=\"1\" class=\"dataframe\">\n",
              "  <thead>\n",
              "    <tr style=\"text-align: right;\">\n",
              "      <th></th>\n",
              "      <th>Word</th>\n",
              "      <th>Positive</th>\n",
              "      <th>Negative</th>\n",
              "      <th>Neutral</th>\n",
              "    </tr>\n",
              "  </thead>\n",
              "  <tbody>\n",
              "    <tr>\n",
              "      <th>23</th>\n",
              "      <td>real</td>\n",
              "      <td>7825</td>\n",
              "      <td>2460</td>\n",
              "      <td>2643</td>\n",
              "    </tr>\n",
              "    <tr>\n",
              "      <th>1</th>\n",
              "      <td>great</td>\n",
              "      <td>7423</td>\n",
              "      <td>504</td>\n",
              "      <td>322</td>\n",
              "    </tr>\n",
              "    <tr>\n",
              "      <th>43</th>\n",
              "      <td>new</td>\n",
              "      <td>3021</td>\n",
              "      <td>2043</td>\n",
              "      <td>1094</td>\n",
              "    </tr>\n",
              "    <tr>\n",
              "      <th>40</th>\n",
              "      <td>red</td>\n",
              "      <td>1615</td>\n",
              "      <td>1146</td>\n",
              "      <td>407</td>\n",
              "    </tr>\n",
              "    <tr>\n",
              "      <th>17</th>\n",
              "      <td>good</td>\n",
              "      <td>1564</td>\n",
              "      <td>320</td>\n",
              "      <td>54</td>\n",
              "    </tr>\n",
              "    <tr>\n",
              "      <th>20</th>\n",
              "      <td>big</td>\n",
              "      <td>1544</td>\n",
              "      <td>729</td>\n",
              "      <td>361</td>\n",
              "    </tr>\n",
              "    <tr>\n",
              "      <th>856</th>\n",
              "      <td>cal</td>\n",
              "      <td>1444</td>\n",
              "      <td>1402</td>\n",
              "      <td>502</td>\n",
              "    </tr>\n",
              "    <tr>\n",
              "      <th>73</th>\n",
              "      <td>other</td>\n",
              "      <td>1149</td>\n",
              "      <td>961</td>\n",
              "      <td>263</td>\n",
              "    </tr>\n",
              "    <tr>\n",
              "      <th>13</th>\n",
              "      <td>own</td>\n",
              "      <td>1040</td>\n",
              "      <td>771</td>\n",
              "      <td>353</td>\n",
              "    </tr>\n",
              "    <tr>\n",
              "      <th>50</th>\n",
              "      <td>many</td>\n",
              "      <td>919</td>\n",
              "      <td>677</td>\n",
              "      <td>166</td>\n",
              "    </tr>\n",
              "    <tr>\n",
              "      <th>39</th>\n",
              "      <td>strong</td>\n",
              "      <td>904</td>\n",
              "      <td>164</td>\n",
              "      <td>27</td>\n",
              "    </tr>\n",
              "    <tr>\n",
              "      <th>90</th>\n",
              "      <td>low</td>\n",
              "      <td>900</td>\n",
              "      <td>983</td>\n",
              "      <td>258</td>\n",
              "    </tr>\n",
              "    <tr>\n",
              "      <th>29</th>\n",
              "      <td>true</td>\n",
              "      <td>884</td>\n",
              "      <td>140</td>\n",
              "      <td>30</td>\n",
              "    </tr>\n",
              "    <tr>\n",
              "      <th>31</th>\n",
              "      <td>republican</td>\n",
              "      <td>834</td>\n",
              "      <td>447</td>\n",
              "      <td>153</td>\n",
              "    </tr>\n",
              "    <tr>\n",
              "      <th>6</th>\n",
              "      <td>much</td>\n",
              "      <td>813</td>\n",
              "      <td>421</td>\n",
              "      <td>129</td>\n",
              "    </tr>\n",
              "    <tr>\n",
              "      <th>10</th>\n",
              "      <td>white</td>\n",
              "      <td>771</td>\n",
              "      <td>261</td>\n",
              "      <td>421</td>\n",
              "    </tr>\n",
              "    <tr>\n",
              "      <th>203</th>\n",
              "      <td>unite</td>\n",
              "      <td>724</td>\n",
              "      <td>165</td>\n",
              "      <td>20</td>\n",
              "    </tr>\n",
              "    <tr>\n",
              "      <th>15</th>\n",
              "      <td>united</td>\n",
              "      <td>715</td>\n",
              "      <td>156</td>\n",
              "      <td>13</td>\n",
              "    </tr>\n",
              "    <tr>\n",
              "      <th>160</th>\n",
              "      <td>old</td>\n",
              "      <td>664</td>\n",
              "      <td>479</td>\n",
              "      <td>290</td>\n",
              "    </tr>\n",
              "    <tr>\n",
              "      <th>26</th>\n",
              "      <td>last</td>\n",
              "      <td>658</td>\n",
              "      <td>354</td>\n",
              "      <td>149</td>\n",
              "    </tr>\n",
              "    <tr>\n",
              "      <th>85</th>\n",
              "      <td>national</td>\n",
              "      <td>652</td>\n",
              "      <td>205</td>\n",
              "      <td>162</td>\n",
              "    </tr>\n",
              "    <tr>\n",
              "      <th>66</th>\n",
              "      <td>total</td>\n",
              "      <td>647</td>\n",
              "      <td>621</td>\n",
              "      <td>99</td>\n",
              "    </tr>\n",
              "    <tr>\n",
              "      <th>36</th>\n",
              "      <td>hard</td>\n",
              "      <td>637</td>\n",
              "      <td>381</td>\n",
              "      <td>59</td>\n",
              "    </tr>\n",
              "    <tr>\n",
              "      <th>128</th>\n",
              "      <td>able</td>\n",
              "      <td>631</td>\n",
              "      <td>357</td>\n",
              "      <td>157</td>\n",
              "    </tr>\n",
              "    <tr>\n",
              "      <th>98</th>\n",
              "      <td>high</td>\n",
              "      <td>626</td>\n",
              "      <td>309</td>\n",
              "      <td>130</td>\n",
              "    </tr>\n",
              "    <tr>\n",
              "      <th>24</th>\n",
              "      <td>live</td>\n",
              "      <td>616</td>\n",
              "      <td>264</td>\n",
              "      <td>334</td>\n",
              "    </tr>\n",
              "    <tr>\n",
              "      <th>133</th>\n",
              "      <td>rid</td>\n",
              "      <td>573</td>\n",
              "      <td>336</td>\n",
              "      <td>162</td>\n",
              "    </tr>\n",
              "    <tr>\n",
              "      <th>192</th>\n",
              "      <td>nice</td>\n",
              "      <td>565</td>\n",
              "      <td>72</td>\n",
              "      <td>17</td>\n",
              "    </tr>\n",
              "    <tr>\n",
              "      <th>64</th>\n",
              "      <td>happy</td>\n",
              "      <td>547</td>\n",
              "      <td>64</td>\n",
              "      <td>18</td>\n",
              "    </tr>\n",
              "    <tr>\n",
              "      <th>79</th>\n",
              "      <td>military</td>\n",
              "      <td>519</td>\n",
              "      <td>159</td>\n",
              "      <td>45</td>\n",
              "    </tr>\n",
              "    <tr>\n",
              "      <th>408</th>\n",
              "      <td>politic</td>\n",
              "      <td>499</td>\n",
              "      <td>486</td>\n",
              "      <td>218</td>\n",
              "    </tr>\n",
              "    <tr>\n",
              "      <th>100</th>\n",
              "      <td>full</td>\n",
              "      <td>490</td>\n",
              "      <td>176</td>\n",
              "      <td>77</td>\n",
              "    </tr>\n",
              "    <tr>\n",
              "      <th>41</th>\n",
              "      <td>ready</td>\n",
              "      <td>478</td>\n",
              "      <td>149</td>\n",
              "      <td>63</td>\n",
              "    </tr>\n",
              "    <tr>\n",
              "      <th>69</th>\n",
              "      <td>fantastic</td>\n",
              "      <td>425</td>\n",
              "      <td>5</td>\n",
              "      <td>3</td>\n",
              "    </tr>\n",
              "    <tr>\n",
              "      <th>119</th>\n",
              "      <td>safe</td>\n",
              "      <td>400</td>\n",
              "      <td>91</td>\n",
              "      <td>22</td>\n",
              "    </tr>\n",
              "    <tr>\n",
              "      <th>186</th>\n",
              "      <td>free</td>\n",
              "      <td>396</td>\n",
              "      <td>98</td>\n",
              "      <td>32</td>\n",
              "    </tr>\n",
              "    <tr>\n",
              "      <th>125</th>\n",
              "      <td>complete</td>\n",
              "      <td>395</td>\n",
              "      <td>130</td>\n",
              "      <td>46</td>\n",
              "    </tr>\n",
              "    <tr>\n",
              "      <th>44</th>\n",
              "      <td>open</td>\n",
              "      <td>390</td>\n",
              "      <td>175</td>\n",
              "      <td>140</td>\n",
              "    </tr>\n",
              "    <tr>\n",
              "      <th>243</th>\n",
              "      <td>hot</td>\n",
              "      <td>380</td>\n",
              "      <td>104</td>\n",
              "      <td>130</td>\n",
              "    </tr>\n",
              "    <tr>\n",
              "      <th>57</th>\n",
              "      <td>next</td>\n",
              "      <td>371</td>\n",
              "      <td>127</td>\n",
              "      <td>119</td>\n",
              "    </tr>\n",
              "    <tr>\n",
              "      <th>212</th>\n",
              "      <td>special</td>\n",
              "      <td>355</td>\n",
              "      <td>124</td>\n",
              "      <td>21</td>\n",
              "    </tr>\n",
              "    <tr>\n",
              "      <th>215</th>\n",
              "      <td>credible</td>\n",
              "      <td>309</td>\n",
              "      <td>47</td>\n",
              "      <td>54</td>\n",
              "    </tr>\n",
              "    <tr>\n",
              "      <th>75</th>\n",
              "      <td>incredible</td>\n",
              "      <td>306</td>\n",
              "      <td>39</td>\n",
              "      <td>50</td>\n",
              "    </tr>\n",
              "    <tr>\n",
              "      <th>37</th>\n",
              "      <td>such</td>\n",
              "      <td>288</td>\n",
              "      <td>184</td>\n",
              "      <td>21</td>\n",
              "    </tr>\n",
              "    <tr>\n",
              "      <th>108</th>\n",
              "      <td>second</td>\n",
              "      <td>283</td>\n",
              "      <td>67</td>\n",
              "      <td>44</td>\n",
              "    </tr>\n",
              "    <tr>\n",
              "      <th>61</th>\n",
              "      <td>tough</td>\n",
              "      <td>280</td>\n",
              "      <td>220</td>\n",
              "      <td>34</td>\n",
              "    </tr>\n",
              "    <tr>\n",
              "      <th>122</th>\n",
              "      <td>bad</td>\n",
              "      <td>268</td>\n",
              "      <td>989</td>\n",
              "      <td>30</td>\n",
              "    </tr>\n",
              "    <tr>\n",
              "      <th>529</th>\n",
              "      <td>oral</td>\n",
              "      <td>268</td>\n",
              "      <td>50</td>\n",
              "      <td>85</td>\n",
              "    </tr>\n",
              "    <tr>\n",
              "      <th>672</th>\n",
              "      <td>chic</td>\n",
              "      <td>245</td>\n",
              "      <td>39</td>\n",
              "      <td>53</td>\n",
              "    </tr>\n",
              "    <tr>\n",
              "      <th>142</th>\n",
              "      <td>final</td>\n",
              "      <td>240</td>\n",
              "      <td>101</td>\n",
              "      <td>78</td>\n",
              "    </tr>\n",
              "  </tbody>\n",
              "</table>\n",
              "</div>"
            ],
            "text/plain": [
              "           Word  Positive  Negative  Neutral\n",
              "23         real      7825      2460     2643\n",
              "1         great      7423       504      322\n",
              "43          new      3021      2043     1094\n",
              "40          red      1615      1146      407\n",
              "17         good      1564       320       54\n",
              "20          big      1544       729      361\n",
              "856         cal      1444      1402      502\n",
              "73        other      1149       961      263\n",
              "13          own      1040       771      353\n",
              "50         many       919       677      166\n",
              "39       strong       904       164       27\n",
              "90          low       900       983      258\n",
              "29         true       884       140       30\n",
              "31   republican       834       447      153\n",
              "6          much       813       421      129\n",
              "10        white       771       261      421\n",
              "203       unite       724       165       20\n",
              "15       united       715       156       13\n",
              "160         old       664       479      290\n",
              "26         last       658       354      149\n",
              "85     national       652       205      162\n",
              "66        total       647       621       99\n",
              "36         hard       637       381       59\n",
              "128        able       631       357      157\n",
              "98         high       626       309      130\n",
              "24         live       616       264      334\n",
              "133         rid       573       336      162\n",
              "192        nice       565        72       17\n",
              "64        happy       547        64       18\n",
              "79     military       519       159       45\n",
              "408     politic       499       486      218\n",
              "100        full       490       176       77\n",
              "41        ready       478       149       63\n",
              "69    fantastic       425         5        3\n",
              "119        safe       400        91       22\n",
              "186        free       396        98       32\n",
              "125    complete       395       130       46\n",
              "44         open       390       175      140\n",
              "243         hot       380       104      130\n",
              "57         next       371       127      119\n",
              "212     special       355       124       21\n",
              "215    credible       309        47       54\n",
              "75   incredible       306        39       50\n",
              "37         such       288       184       21\n",
              "108      second       283        67       44\n",
              "61        tough       280       220       34\n",
              "122         bad       268       989       30\n",
              "529        oral       268        50       85\n",
              "672        chic       245        39       53\n",
              "142       final       240       101       78"
            ]
          },
          "metadata": {},
          "execution_count": 68
        }
      ]
    },
    {
      "cell_type": "code",
      "metadata": {
        "id": "JdMeOP8VUReR",
        "colab": {
          "base_uri": "https://localhost:8080/",
          "height": 1000
        },
        "outputId": "20f85dd0-e74c-4fb6-98d6-1f8e29e972f1"
      },
      "source": [
        "adj.sort_values(by=['Positive'], ascending=False).iloc[100:150]"
      ],
      "execution_count": 69,
      "outputs": [
        {
          "output_type": "execute_result",
          "data": {
            "text/html": [
              "<div>\n",
              "<style scoped>\n",
              "    .dataframe tbody tr th:only-of-type {\n",
              "        vertical-align: middle;\n",
              "    }\n",
              "\n",
              "    .dataframe tbody tr th {\n",
              "        vertical-align: top;\n",
              "    }\n",
              "\n",
              "    .dataframe thead th {\n",
              "        text-align: right;\n",
              "    }\n",
              "</style>\n",
              "<table border=\"1\" class=\"dataframe\">\n",
              "  <thead>\n",
              "    <tr style=\"text-align: right;\">\n",
              "      <th></th>\n",
              "      <th>Word</th>\n",
              "      <th>Positive</th>\n",
              "      <th>Negative</th>\n",
              "      <th>Neutral</th>\n",
              "    </tr>\n",
              "  </thead>\n",
              "  <tbody>\n",
              "    <tr>\n",
              "      <th>179</th>\n",
              "      <td>serious</td>\n",
              "      <td>76</td>\n",
              "      <td>116</td>\n",
              "      <td>5</td>\n",
              "    </tr>\n",
              "    <tr>\n",
              "      <th>113</th>\n",
              "      <td>liberal</td>\n",
              "      <td>74</td>\n",
              "      <td>74</td>\n",
              "      <td>28</td>\n",
              "    </tr>\n",
              "    <tr>\n",
              "      <th>45</th>\n",
              "      <td>whole</td>\n",
              "      <td>74</td>\n",
              "      <td>64</td>\n",
              "      <td>17</td>\n",
              "    </tr>\n",
              "    <tr>\n",
              "      <th>32</th>\n",
              "      <td>weak</td>\n",
              "      <td>74</td>\n",
              "      <td>247</td>\n",
              "      <td>7</td>\n",
              "    </tr>\n",
              "    <tr>\n",
              "      <th>281</th>\n",
              "      <td>common</td>\n",
              "      <td>73</td>\n",
              "      <td>29</td>\n",
              "      <td>25</td>\n",
              "    </tr>\n",
              "    <tr>\n",
              "      <th>294</th>\n",
              "      <td>professional</td>\n",
              "      <td>71</td>\n",
              "      <td>25</td>\n",
              "      <td>11</td>\n",
              "    </tr>\n",
              "    <tr>\n",
              "      <th>91</th>\n",
              "      <td>necessary</td>\n",
              "      <td>68</td>\n",
              "      <td>34</td>\n",
              "      <td>15</td>\n",
              "    </tr>\n",
              "    <tr>\n",
              "      <th>51</th>\n",
              "      <td>effective</td>\n",
              "      <td>68</td>\n",
              "      <td>37</td>\n",
              "      <td>3</td>\n",
              "    </tr>\n",
              "    <tr>\n",
              "      <th>290</th>\n",
              "      <td>extra</td>\n",
              "      <td>66</td>\n",
              "      <td>18</td>\n",
              "      <td>11</td>\n",
              "    </tr>\n",
              "    <tr>\n",
              "      <th>234</th>\n",
              "      <td>current</td>\n",
              "      <td>64</td>\n",
              "      <td>36</td>\n",
              "      <td>13</td>\n",
              "    </tr>\n",
              "    <tr>\n",
              "      <th>400</th>\n",
              "      <td>personal</td>\n",
              "      <td>64</td>\n",
              "      <td>35</td>\n",
              "      <td>12</td>\n",
              "    </tr>\n",
              "    <tr>\n",
              "      <th>275</th>\n",
              "      <td>financial</td>\n",
              "      <td>63</td>\n",
              "      <td>34</td>\n",
              "      <td>10</td>\n",
              "    </tr>\n",
              "    <tr>\n",
              "      <th>46</th>\n",
              "      <td>terrible</td>\n",
              "      <td>63</td>\n",
              "      <td>323</td>\n",
              "      <td>8</td>\n",
              "    </tr>\n",
              "    <tr>\n",
              "      <th>106</th>\n",
              "      <td>nuclear</td>\n",
              "      <td>62</td>\n",
              "      <td>87</td>\n",
              "      <td>18</td>\n",
              "    </tr>\n",
              "    <tr>\n",
              "      <th>107</th>\n",
              "      <td>private</td>\n",
              "      <td>62</td>\n",
              "      <td>39</td>\n",
              "      <td>30</td>\n",
              "    </tr>\n",
              "    <tr>\n",
              "      <th>131</th>\n",
              "      <td>poor</td>\n",
              "      <td>61</td>\n",
              "      <td>114</td>\n",
              "      <td>10</td>\n",
              "    </tr>\n",
              "    <tr>\n",
              "      <th>63</th>\n",
              "      <td>arrive</td>\n",
              "      <td>58</td>\n",
              "      <td>14</td>\n",
              "      <td>35</td>\n",
              "    </tr>\n",
              "    <tr>\n",
              "      <th>87</th>\n",
              "      <td>third</td>\n",
              "      <td>58</td>\n",
              "      <td>44</td>\n",
              "      <td>13</td>\n",
              "    </tr>\n",
              "    <tr>\n",
              "      <th>355</th>\n",
              "      <td>rapid</td>\n",
              "      <td>58</td>\n",
              "      <td>29</td>\n",
              "      <td>13</td>\n",
              "    </tr>\n",
              "    <tr>\n",
              "      <th>236</th>\n",
              "      <td>lucky</td>\n",
              "      <td>58</td>\n",
              "      <td>11</td>\n",
              "      <td>2</td>\n",
              "    </tr>\n",
              "    <tr>\n",
              "      <th>56</th>\n",
              "      <td>available</td>\n",
              "      <td>57</td>\n",
              "      <td>14</td>\n",
              "      <td>21</td>\n",
              "    </tr>\n",
              "    <tr>\n",
              "      <th>62</th>\n",
              "      <td>eastern</td>\n",
              "      <td>55</td>\n",
              "      <td>13</td>\n",
              "      <td>24</td>\n",
              "    </tr>\n",
              "    <tr>\n",
              "      <th>594</th>\n",
              "      <td>believable</td>\n",
              "      <td>55</td>\n",
              "      <td>9</td>\n",
              "      <td>11</td>\n",
              "    </tr>\n",
              "    <tr>\n",
              "      <th>53</th>\n",
              "      <td>congressional</td>\n",
              "      <td>55</td>\n",
              "      <td>22</td>\n",
              "      <td>13</td>\n",
              "    </tr>\n",
              "    <tr>\n",
              "      <th>148</th>\n",
              "      <td>unbelievable</td>\n",
              "      <td>54</td>\n",
              "      <td>7</td>\n",
              "      <td>8</td>\n",
              "    </tr>\n",
              "    <tr>\n",
              "      <th>829</th>\n",
              "      <td>dual</td>\n",
              "      <td>54</td>\n",
              "      <td>29</td>\n",
              "      <td>10</td>\n",
              "    </tr>\n",
              "    <tr>\n",
              "      <th>80</th>\n",
              "      <td>false</td>\n",
              "      <td>53</td>\n",
              "      <td>136</td>\n",
              "      <td>26</td>\n",
              "    </tr>\n",
              "    <tr>\n",
              "      <th>74</th>\n",
              "      <td>individual</td>\n",
              "      <td>52</td>\n",
              "      <td>27</td>\n",
              "      <td>9</td>\n",
              "    </tr>\n",
              "    <tr>\n",
              "      <th>109</th>\n",
              "      <td>different</td>\n",
              "      <td>52</td>\n",
              "      <td>55</td>\n",
              "      <td>15</td>\n",
              "    </tr>\n",
              "    <tr>\n",
              "      <th>112</th>\n",
              "      <td>original</td>\n",
              "      <td>52</td>\n",
              "      <td>19</td>\n",
              "      <td>1</td>\n",
              "    </tr>\n",
              "    <tr>\n",
              "      <th>48</th>\n",
              "      <td>ridiculous</td>\n",
              "      <td>51</td>\n",
              "      <td>143</td>\n",
              "      <td>7</td>\n",
              "    </tr>\n",
              "    <tr>\n",
              "      <th>71</th>\n",
              "      <td>criminal</td>\n",
              "      <td>50</td>\n",
              "      <td>167</td>\n",
              "      <td>9</td>\n",
              "    </tr>\n",
              "    <tr>\n",
              "      <th>42</th>\n",
              "      <td>single</td>\n",
              "      <td>50</td>\n",
              "      <td>45</td>\n",
              "      <td>11</td>\n",
              "    </tr>\n",
              "    <tr>\n",
              "      <th>118</th>\n",
              "      <td>senior</td>\n",
              "      <td>50</td>\n",
              "      <td>21</td>\n",
              "      <td>16</td>\n",
              "    </tr>\n",
              "    <tr>\n",
              "      <th>86</th>\n",
              "      <td>wide</td>\n",
              "      <td>49</td>\n",
              "      <td>35</td>\n",
              "      <td>19</td>\n",
              "    </tr>\n",
              "    <tr>\n",
              "      <th>190</th>\n",
              "      <td>stupid</td>\n",
              "      <td>48</td>\n",
              "      <td>192</td>\n",
              "      <td>10</td>\n",
              "    </tr>\n",
              "    <tr>\n",
              "      <th>30</th>\n",
              "      <td>democratic</td>\n",
              "      <td>48</td>\n",
              "      <td>33</td>\n",
              "      <td>14</td>\n",
              "    </tr>\n",
              "    <tr>\n",
              "      <th>624</th>\n",
              "      <td>broad</td>\n",
              "      <td>47</td>\n",
              "      <td>27</td>\n",
              "      <td>18</td>\n",
              "    </tr>\n",
              "    <tr>\n",
              "      <th>154</th>\n",
              "      <td>usual</td>\n",
              "      <td>47</td>\n",
              "      <td>38</td>\n",
              "      <td>1</td>\n",
              "    </tr>\n",
              "    <tr>\n",
              "      <th>296</th>\n",
              "      <td>prepared</td>\n",
              "      <td>47</td>\n",
              "      <td>17</td>\n",
              "      <td>1</td>\n",
              "    </tr>\n",
              "    <tr>\n",
              "      <th>218</th>\n",
              "      <td>medical</td>\n",
              "      <td>45</td>\n",
              "      <td>15</td>\n",
              "      <td>13</td>\n",
              "    </tr>\n",
              "    <tr>\n",
              "      <th>156</th>\n",
              "      <td>additional</td>\n",
              "      <td>45</td>\n",
              "      <td>27</td>\n",
              "      <td>18</td>\n",
              "    </tr>\n",
              "    <tr>\n",
              "      <th>34</th>\n",
              "      <td>willing</td>\n",
              "      <td>45</td>\n",
              "      <td>27</td>\n",
              "      <td>13</td>\n",
              "    </tr>\n",
              "    <tr>\n",
              "      <th>150</th>\n",
              "      <td>modern</td>\n",
              "      <td>45</td>\n",
              "      <td>10</td>\n",
              "      <td>12</td>\n",
              "    </tr>\n",
              "    <tr>\n",
              "      <th>306</th>\n",
              "      <td>solid</td>\n",
              "      <td>44</td>\n",
              "      <td>5</td>\n",
              "      <td>0</td>\n",
              "    </tr>\n",
              "    <tr>\n",
              "      <th>237</th>\n",
              "      <td>extraordinary</td>\n",
              "      <td>42</td>\n",
              "      <td>6</td>\n",
              "      <td>6</td>\n",
              "    </tr>\n",
              "    <tr>\n",
              "      <th>302</th>\n",
              "      <td>fabulous</td>\n",
              "      <td>42</td>\n",
              "      <td>3</td>\n",
              "      <td>1</td>\n",
              "    </tr>\n",
              "    <tr>\n",
              "      <th>58</th>\n",
              "      <td>dead</td>\n",
              "      <td>41</td>\n",
              "      <td>155</td>\n",
              "      <td>19</td>\n",
              "    </tr>\n",
              "    <tr>\n",
              "      <th>146</th>\n",
              "      <td>native</td>\n",
              "      <td>40</td>\n",
              "      <td>18</td>\n",
              "      <td>5</td>\n",
              "    </tr>\n",
              "    <tr>\n",
              "      <th>493</th>\n",
              "      <td>flat</td>\n",
              "      <td>39</td>\n",
              "      <td>29</td>\n",
              "      <td>13</td>\n",
              "    </tr>\n",
              "  </tbody>\n",
              "</table>\n",
              "</div>"
            ],
            "text/plain": [
              "              Word  Positive  Negative  Neutral\n",
              "179        serious        76       116        5\n",
              "113        liberal        74        74       28\n",
              "45           whole        74        64       17\n",
              "32            weak        74       247        7\n",
              "281         common        73        29       25\n",
              "294   professional        71        25       11\n",
              "91       necessary        68        34       15\n",
              "51       effective        68        37        3\n",
              "290          extra        66        18       11\n",
              "234        current        64        36       13\n",
              "400       personal        64        35       12\n",
              "275      financial        63        34       10\n",
              "46        terrible        63       323        8\n",
              "106        nuclear        62        87       18\n",
              "107        private        62        39       30\n",
              "131           poor        61       114       10\n",
              "63          arrive        58        14       35\n",
              "87           third        58        44       13\n",
              "355          rapid        58        29       13\n",
              "236          lucky        58        11        2\n",
              "56       available        57        14       21\n",
              "62         eastern        55        13       24\n",
              "594     believable        55         9       11\n",
              "53   congressional        55        22       13\n",
              "148   unbelievable        54         7        8\n",
              "829           dual        54        29       10\n",
              "80           false        53       136       26\n",
              "74      individual        52        27        9\n",
              "109      different        52        55       15\n",
              "112       original        52        19        1\n",
              "48      ridiculous        51       143        7\n",
              "71        criminal        50       167        9\n",
              "42          single        50        45       11\n",
              "118         senior        50        21       16\n",
              "86            wide        49        35       19\n",
              "190         stupid        48       192       10\n",
              "30      democratic        48        33       14\n",
              "624          broad        47        27       18\n",
              "154          usual        47        38        1\n",
              "296       prepared        47        17        1\n",
              "218        medical        45        15       13\n",
              "156     additional        45        27       18\n",
              "34         willing        45        27       13\n",
              "150         modern        45        10       12\n",
              "306          solid        44         5        0\n",
              "237  extraordinary        42         6        6\n",
              "302       fabulous        42         3        1\n",
              "58            dead        41       155       19\n",
              "146         native        40        18        5\n",
              "493           flat        39        29       13"
            ]
          },
          "metadata": {},
          "execution_count": 69
        }
      ]
    },
    {
      "cell_type": "code",
      "metadata": {
        "id": "a2hYS1g9UReT",
        "colab": {
          "base_uri": "https://localhost:8080/",
          "height": 989
        },
        "outputId": "5003ad19-a3dd-42cb-de10-c6e3ef2b9ad0"
      },
      "source": [
        "new_cols = adj.columns.copy()\n",
        "new_cols = new_cols.to_list()\n",
        "new_cols.remove('Positive')\n",
        "new_cols.remove('Word')\n",
        "adj_pos_10 = adj.sort_values(by=['Positive'], ascending=False).head(n=10).drop(columns=new_cols)\n",
        "print(adj_pos_10)\n",
        "\n",
        "labels = list(adj_pos_10['Word'])\n",
        "ax = adj_pos_10.plot(kind='bar', figsize=(25, 13), title='Positive Frequency', legend=False, x='Word')\n",
        "plt.ylabel('Frequency')"
      ],
      "execution_count": 70,
      "outputs": [
        {
          "output_type": "stream",
          "name": "stdout",
          "text": [
            "      Word  Positive\n",
            "23    real      7825\n",
            "1    great      7423\n",
            "43     new      3021\n",
            "40     red      1615\n",
            "17    good      1564\n",
            "20     big      1544\n",
            "856    cal      1444\n",
            "73   other      1149\n",
            "13     own      1040\n",
            "50    many       919\n"
          ]
        },
        {
          "output_type": "execute_result",
          "data": {
            "text/plain": [
              "Text(0, 0.5, 'Frequency')"
            ]
          },
          "metadata": {},
          "execution_count": 70
        },
        {
          "output_type": "display_data",
          "data": {
            "image/png": "[encoded data removed]",
            "text/plain": [
              "<Figure size 1800x936 with 1 Axes>"
            ]
          },
          "metadata": {}
        }
      ]
    },
    {
      "cell_type": "markdown",
      "metadata": {
        "id": "SkQQVcyAUReT"
      },
      "source": [
        "### Negative adjectives most frequent"
      ]
    },
    {
      "cell_type": "code",
      "metadata": {
        "id": "95hCTixXUReU",
        "colab": {
          "base_uri": "https://localhost:8080/",
          "height": 989
        },
        "outputId": "4a818866-60cb-44be-8d73-aba2b91a7aae"
      },
      "source": [
        "new_cols = adj.columns.copy()\n",
        "new_cols = new_cols.to_list()\n",
        "new_cols.remove('Negative')\n",
        "new_cols.remove('Word')\n",
        "adj_pos_10 = adj.sort_values(by=['Negative'], ascending=False).head(n=10).drop(columns=new_cols)\n",
        "print(adj_pos_10)\n",
        "\n",
        "labels = list(adj_pos_10['Word'])\n",
        "ax = adj_pos_10.plot(kind='bar', figsize=(25, 13), title='Negative Frequency', legend=False, x='Word')\n",
        "plt.ylabel('Frequency')\n"
      ],
      "execution_count": 71,
      "outputs": [
        {
          "output_type": "stream",
          "name": "stdout",
          "text": [
            "      Word  Negative\n",
            "23    real      2460\n",
            "43     new      2043\n",
            "856    cal      1402\n",
            "40     red      1146\n",
            "122    bad       989\n",
            "90     low       983\n",
            "73   other       961\n",
            "13     own       771\n",
            "20     big       729\n",
            "50    many       677\n"
          ]
        },
        {
          "output_type": "execute_result",
          "data": {
            "text/plain": [
              "Text(0, 0.5, 'Frequency')"
            ]
          },
          "metadata": {},
          "execution_count": 71
        },
        {
          "output_type": "display_data",
          "data": {
            "image/png": "[encoded data removed]",
            "text/plain": [
              "<Figure size 1800x936 with 1 Axes>"
            ]
          },
          "metadata": {}
        }
      ]
    },
    {
      "cell_type": "markdown",
      "metadata": {
        "id": "z0yM6GUhUReU"
      },
      "source": [
        "### Neutral adjectives most frequent"
      ]
    },
    {
      "cell_type": "code",
      "metadata": {
        "id": "0no1I0cpUReU",
        "colab": {
          "base_uri": "https://localhost:8080/",
          "height": 988
        },
        "outputId": "30c6b461-ac5e-41c4-f3f8-584d27cb92bf"
      },
      "source": [
        "new_cols = adj.columns.copy()\n",
        "new_cols = new_cols.to_list()\n",
        "new_cols.remove('Neutral')\n",
        "new_cols.remove('Word')\n",
        "adj_pos_10 = adj.sort_values(by=['Neutral'], ascending=False).head(n=10).drop(columns=new_cols)\n",
        "print(adj_pos_10)\n",
        "\n",
        "\n",
        "labels = list(adj_pos_10['Word'])\n",
        "ax = adj_pos_10.plot(kind='bar', figsize=(25, 13), title='Neutral Frequency', legend=False, x='Word')\n",
        "plt.ylabel('Frequency')\n"
      ],
      "execution_count": 72,
      "outputs": [
        {
          "output_type": "stream",
          "name": "stdout",
          "text": [
            "      Word  Neutral\n",
            "23    real     2643\n",
            "43     new     1094\n",
            "856    cal      502\n",
            "10   white      421\n",
            "40     red      407\n",
            "20     big      361\n",
            "13     own      353\n",
            "24    live      334\n",
            "1    great      322\n",
            "160    old      290\n"
          ]
        },
        {
          "output_type": "execute_result",
          "data": {
            "text/plain": [
              "Text(0, 0.5, 'Frequency')"
            ]
          },
          "metadata": {},
          "execution_count": 72
        },
        {
          "output_type": "display_data",
          "data": {
            "image/png": "[encoded data removed]",
            "text/plain": [
              "<Figure size 1800x936 with 1 Axes>"
            ]
          },
          "metadata": {}
        }
      ]
    }
  ]
}